{
 "cells": [
  {
   "cell_type": "markdown",
   "metadata": {},
   "source": [
    "# Dimensionality reduction\n",
    "\n",
    "In general a multi-variate regression model (not necessarily linear) could be expressed as looking for a functional dependence \n",
    "$$\n",
    "y=f(x)\n",
    "$$\n",
    "between an output variable $y$ and the multi-dimensional vector of input variables (features, regressors) $x=(x_1,x_2,x_3,....,x_n)$.\n",
    "\n",
    "When the dimensionality $n$ of the feature space (number of regressors) is too high with respect to the number of observations, it may cause multiple issues:\n",
    "\n",
    "- complexity: the model involving multiple regressors becomes difficult to fit and interpret;\n",
    "\n",
    "- multicollinearity: a large set of regressors could encounter substantial correlations, leading to multicollinearity of regressors and high variance in their estimates, making coefficients hard to interpret/rely on;\n",
    "\n",
    "- overfitting: as multiple regressors might contain a lot of relevant but also irrelevant information, the model could pick it up, becoming too specifically adjusted to the training set, which would reduce its generalizeability (performance over the validation/test set);\n",
    "\n",
    "In addition, exploratory analysis, including visualization of multi-dimensional data is much more difficult. Imagine we want to visualize complaining profiles of NYC neighborhoods? As each profile is characterized with a 162-dimensional vector, how to perform such a visualization? Would not it be more convenient to find a 2D or 3D visual representation instead?\n",
    "\n",
    "Reducing complexity of the model and its data (number of features or their dimensionality) is usually recommended in such cases. The most streighforward way of doing so is through feature selection. \n",
    "\n",
    "Feature selection aims to reduce dimensionality of $x$ by removing some of its components $x_j$ which turn out to be the least relevant for the model, i.e. have the lowest positive or even negative impact on the model performance over the external validation set. This way feature selection provides a mapping of vectors $x$ into a shorter vector of its subcomponents, e.g.\n",
    "$$\n",
    "(x_1,x_2,x_3,x_4,x_5)\\to (x_1,x_3,x_5).\n",
    "$$\n",
    "\n",
    "But feature selection is often too rigid - we have to make our choices of keeping or getting rid of each variable entirely, though it might be the case that each regressor by itself still contains certain valuable information, but all together the feature space is redundant. As an alternative one can think of expressing the useful information contained in a large inital amount of regressors through some smaller amount of latent variables (different from the initial regressors) able to explain all or almost all the relevant information. This is called dimensionality reduction.\n",
    "\n",
    "In general, dimensionality reduction looks for an arbitrary mapping of the feature space (possibly transforming the features not just removing some) into a new feature space of a smaller dimension:\n",
    "$$\n",
    "x=(x_1,x_2,x_3....,x_n)\\to x'=(x_1',x_2',x_3',....,x_m),\n",
    "$$\n",
    "so that a simpler model $y=f(x')$ could be learned instead.\n",
    "\n",
    "E.g. a mapping\n",
    "$$\n",
    "(x_1,x_2,x_3,x_4,x_5)\\to x'=(x_1+x_2+x_3+x_4+x_5,x_1 x_2 x_3 x_4 x_5)\n",
    "$$\n",
    "could serve as an example of reducing the dimensionality of the feature space from $5$ to $2$.\n",
    "\n",
    "Such reduction often turnes out to be pretty useful as learning a model over a smaller set of features could be easier and such models might be more resilient to overfitting and easier to interpret. Often dimensionality could be substantially reduced without reducing the capacity of the model to fit the output variable much. This is becasue the Pareto rule is perfectly applicable in this scenario - 80% (or even 90, 95, 99%) of the useful information contained in the original regressors could be effectively packed into a much smaller amount of the new regressors (under a suitable transformation), often being 20% (or even 10, 5, 1%) of the original size. This way 80% (or even 90, 95, 99%) of the efficieny could be acheived with 20% (or even 10, 5, 1%) of the effort (complexity)."
   ]
  },
  {
   "cell_type": "markdown",
   "metadata": {},
   "source": [
    "# Problem example\n",
    "\n",
    "Model economic characteristics of urban neighborhoods (zip code areas), such as  \n",
    "**income, unemployment or average real estate prices using the structure of 311 complains**  \n",
    "as a signature of social activity.\n",
    "\n",
    "[Wang L, Qian C, Kats P, Kontokosta C, Sobolevsky, S. (2017) Structure of 311\n",
    "service requests as a signature of urban location. PloS ONE. 12(10), e0186314.]\n",
    "\n",
    "<img src=\"data/fig5.png\">\n",
    "\n",
    "<img src=\"data/fig2.png\">\n",
    "\n",
    "We saw that complaining patterns cluster in space but are pretty different for different urban neighborhoods. While the clusters with distinctive complaining profiles are also distinctive in terms of demography and economic background.\n",
    "\n",
    "**What is we use the relative frequency of each of the 162 categories of complains as features to model target economic indicators accross NYC zip code areas?**\n",
    "\n",
    "What issues such a model might face?\n",
    "\n",
    "#### 311 service requests data.\n",
    "https://en.wikipedia.org/wiki/3-1-1\n",
    "\n",
    "3-1-1 is a special telephone number supported in many communities in Canada and the United States. The number provides access to non-emergency municipal services. The number format follows the N11 code for a group of short, special-purpose local numbers as designated in the North American Numbering Plan.\n",
    "The number 3-1-1 is intended in part to divert routine inquiries and non-urgent community concerns from the 9-1-1 number which is reserved for emergency service. A promotional website for 3-1-1 in Akron described the distinction as follows: \"Burning building? Call 9-1-1. Burning Question? Call 3-1-1.\""
   ]
  },
  {
   "cell_type": "markdown",
   "metadata": {},
   "source": [
    "But first let's ask a simpler question - **how can we visualize urban neighborhoods according to the structure of their 311 service requests**?\n",
    "\n",
    "And can we recognize different boroughs in this visualization?\n",
    "\n",
    "So how do we visualize 162 dimensional data for each of the approximately 264 zip codes?"
   ]
  },
  {
   "cell_type": "code",
   "execution_count": 1,
   "metadata": {},
   "outputs": [
    {
     "name": "stderr",
     "output_type": "stream",
     "text": [
      "/anaconda2/lib/python2.7/site-packages/sklearn/cross_validation.py:41: DeprecationWarning: This module was deprecated in version 0.18 in favor of the model_selection module into which all the refactored classes and functions are moved. Also note that the interface of the new CV iterators are different from that of this module. This module will be removed in 0.20.\n",
      "  \"This module will be removed in 0.20.\", DeprecationWarning)\n"
     ]
    }
   ],
   "source": [
    "#import modules we need to use for this session\n",
    "import pandas as pd\n",
    "import numpy as np\n",
    "%matplotlib inline\n",
    "import matplotlib.pyplot as plt\n",
    "from scipy import stats\n",
    "import statsmodels.formula.api as smf\n",
    "import statsmodels.api as sm\n",
    "from sklearn.linear_model import LinearRegression\n",
    "# PCA module\n",
    "from sklearn.decomposition import PCA\n",
    "from sklearn.cross_validation import train_test_split\n",
    "from mpl_toolkits.mplot3d import Axes3D\n",
    "from sklearn import datasets\n",
    "from sklearn import linear_model\n",
    "from sklearn import preprocessing\n",
    "from sklearn.metrics import r2_score"
   ]
  },
  {
   "cell_type": "markdown",
   "metadata": {},
   "source": [
    "### Load and curate 311 data"
   ]
  },
  {
   "cell_type": "code",
   "execution_count": 2,
   "metadata": {},
   "outputs": [
    {
     "data": {
      "text/html": [
       "<div>\n",
       "<style scoped>\n",
       "    .dataframe tbody tr th:only-of-type {\n",
       "        vertical-align: middle;\n",
       "    }\n",
       "\n",
       "    .dataframe tbody tr th {\n",
       "        vertical-align: top;\n",
       "    }\n",
       "\n",
       "    .dataframe thead th {\n",
       "        text-align: right;\n",
       "    }\n",
       "</style>\n",
       "<table border=\"1\" class=\"dataframe\">\n",
       "  <thead>\n",
       "    <tr style=\"text-align: right;\">\n",
       "      <th></th>\n",
       "      <th>Zip</th>\n",
       "      <th>Complain</th>\n",
       "      <th>Count</th>\n",
       "    </tr>\n",
       "  </thead>\n",
       "  <tbody>\n",
       "    <tr>\n",
       "      <th>1</th>\n",
       "      <td>NaN</td>\n",
       "      <td>Adopt-A-Basket</td>\n",
       "      <td>5</td>\n",
       "    </tr>\n",
       "    <tr>\n",
       "      <th>2</th>\n",
       "      <td>10001</td>\n",
       "      <td>Adopt-A-Basket</td>\n",
       "      <td>1</td>\n",
       "    </tr>\n",
       "    <tr>\n",
       "      <th>3</th>\n",
       "      <td>10003</td>\n",
       "      <td>Adopt-A-Basket</td>\n",
       "      <td>1</td>\n",
       "    </tr>\n",
       "    <tr>\n",
       "      <th>4</th>\n",
       "      <td>10009</td>\n",
       "      <td>Adopt-A-Basket</td>\n",
       "      <td>1</td>\n",
       "    </tr>\n",
       "    <tr>\n",
       "      <th>5</th>\n",
       "      <td>10010</td>\n",
       "      <td>Adopt-A-Basket</td>\n",
       "      <td>1</td>\n",
       "    </tr>\n",
       "  </tbody>\n",
       "</table>\n",
       "</div>"
      ],
      "text/plain": [
       "     Zip        Complain  Count\n",
       "1    NaN  Adopt-A-Basket      5\n",
       "2  10001  Adopt-A-Basket      1\n",
       "3  10003  Adopt-A-Basket      1\n",
       "4  10009  Adopt-A-Basket      1\n",
       "5  10010  Adopt-A-Basket      1"
      ]
     },
     "execution_count": 2,
     "metadata": {},
     "output_type": "execute_result"
    }
   ],
   "source": [
    "data311 = pd.read_csv( 'data/aggr311.csv' , index_col=0 )\n",
    "data311.head()"
   ]
  },
  {
   "cell_type": "code",
   "execution_count": 3,
   "metadata": {},
   "outputs": [],
   "source": [
    "data311.Zip=pd.to_numeric(data311.Zip,errors='coerce')"
   ]
  },
  {
   "cell_type": "code",
   "execution_count": 4,
   "metadata": {},
   "outputs": [],
   "source": [
    "data311=data311.loc[(data311.Zip>=10000)&(data311.Zip<11500)] #take only NYC zip codes"
   ]
  },
  {
   "cell_type": "code",
   "execution_count": 5,
   "metadata": {},
   "outputs": [],
   "source": [
    "data311=pd.pivot_table(data311,index='Zip',columns='Complain',values='Count',fill_value=0)"
   ]
  },
  {
   "cell_type": "code",
   "execution_count": 6,
   "metadata": {},
   "outputs": [
    {
     "data": {
      "text/html": [
       "<div>\n",
       "<style scoped>\n",
       "    .dataframe tbody tr th:only-of-type {\n",
       "        vertical-align: middle;\n",
       "    }\n",
       "\n",
       "    .dataframe tbody tr th {\n",
       "        vertical-align: top;\n",
       "    }\n",
       "\n",
       "    .dataframe thead th {\n",
       "        text-align: right;\n",
       "    }\n",
       "</style>\n",
       "<table border=\"1\" class=\"dataframe\">\n",
       "  <thead>\n",
       "    <tr style=\"text-align: right;\">\n",
       "      <th>Complain</th>\n",
       "      <th>APPLIANCE</th>\n",
       "      <th>Adopt-A-Basket</th>\n",
       "      <th>Air Quality</th>\n",
       "      <th>Animal Abuse</th>\n",
       "      <th>Animal Facility - No Permit</th>\n",
       "      <th>Animal in a Park</th>\n",
       "      <th>Asbestos</th>\n",
       "      <th>BEST/Site Safety</th>\n",
       "      <th>Beach/Pool/Sauna Complaint</th>\n",
       "      <th>Bike Rack Condition</th>\n",
       "      <th>...</th>\n",
       "      <th>Unsanitary Pigeon Condition</th>\n",
       "      <th>Urinating in Public</th>\n",
       "      <th>Vacant Lot</th>\n",
       "      <th>Vending</th>\n",
       "      <th>Violation of Park Rules</th>\n",
       "      <th>Water Conservation</th>\n",
       "      <th>Water Quality</th>\n",
       "      <th>Water System</th>\n",
       "      <th>Window Guard</th>\n",
       "      <th>X-Ray Machine/Equipment</th>\n",
       "    </tr>\n",
       "    <tr>\n",
       "      <th>Zip</th>\n",
       "      <th></th>\n",
       "      <th></th>\n",
       "      <th></th>\n",
       "      <th></th>\n",
       "      <th></th>\n",
       "      <th></th>\n",
       "      <th></th>\n",
       "      <th></th>\n",
       "      <th></th>\n",
       "      <th></th>\n",
       "      <th></th>\n",
       "      <th></th>\n",
       "      <th></th>\n",
       "      <th></th>\n",
       "      <th></th>\n",
       "      <th></th>\n",
       "      <th></th>\n",
       "      <th></th>\n",
       "      <th></th>\n",
       "      <th></th>\n",
       "      <th></th>\n",
       "    </tr>\n",
       "  </thead>\n",
       "  <tbody>\n",
       "    <tr>\n",
       "      <th>10000.0</th>\n",
       "      <td>0</td>\n",
       "      <td>0</td>\n",
       "      <td>1</td>\n",
       "      <td>0</td>\n",
       "      <td>0</td>\n",
       "      <td>1</td>\n",
       "      <td>0</td>\n",
       "      <td>0</td>\n",
       "      <td>0</td>\n",
       "      <td>0</td>\n",
       "      <td>...</td>\n",
       "      <td>0</td>\n",
       "      <td>0</td>\n",
       "      <td>0</td>\n",
       "      <td>8</td>\n",
       "      <td>8</td>\n",
       "      <td>0</td>\n",
       "      <td>0</td>\n",
       "      <td>0</td>\n",
       "      <td>0</td>\n",
       "      <td>0</td>\n",
       "    </tr>\n",
       "    <tr>\n",
       "      <th>10001.0</th>\n",
       "      <td>0</td>\n",
       "      <td>1</td>\n",
       "      <td>90</td>\n",
       "      <td>0</td>\n",
       "      <td>0</td>\n",
       "      <td>1</td>\n",
       "      <td>20</td>\n",
       "      <td>36</td>\n",
       "      <td>1</td>\n",
       "      <td>1</td>\n",
       "      <td>...</td>\n",
       "      <td>3</td>\n",
       "      <td>0</td>\n",
       "      <td>2</td>\n",
       "      <td>51</td>\n",
       "      <td>5</td>\n",
       "      <td>5</td>\n",
       "      <td>2</td>\n",
       "      <td>366</td>\n",
       "      <td>0</td>\n",
       "      <td>0</td>\n",
       "    </tr>\n",
       "    <tr>\n",
       "      <th>10002.0</th>\n",
       "      <td>15</td>\n",
       "      <td>0</td>\n",
       "      <td>80</td>\n",
       "      <td>0</td>\n",
       "      <td>0</td>\n",
       "      <td>21</td>\n",
       "      <td>18</td>\n",
       "      <td>20</td>\n",
       "      <td>2</td>\n",
       "      <td>6</td>\n",
       "      <td>...</td>\n",
       "      <td>5</td>\n",
       "      <td>1</td>\n",
       "      <td>4</td>\n",
       "      <td>27</td>\n",
       "      <td>14</td>\n",
       "      <td>10</td>\n",
       "      <td>7</td>\n",
       "      <td>324</td>\n",
       "      <td>0</td>\n",
       "      <td>0</td>\n",
       "    </tr>\n",
       "    <tr>\n",
       "      <th>10003.0</th>\n",
       "      <td>15</td>\n",
       "      <td>1</td>\n",
       "      <td>143</td>\n",
       "      <td>0</td>\n",
       "      <td>2</td>\n",
       "      <td>44</td>\n",
       "      <td>24</td>\n",
       "      <td>13</td>\n",
       "      <td>2</td>\n",
       "      <td>2</td>\n",
       "      <td>...</td>\n",
       "      <td>7</td>\n",
       "      <td>11</td>\n",
       "      <td>2</td>\n",
       "      <td>54</td>\n",
       "      <td>25</td>\n",
       "      <td>12</td>\n",
       "      <td>5</td>\n",
       "      <td>318</td>\n",
       "      <td>0</td>\n",
       "      <td>0</td>\n",
       "    </tr>\n",
       "    <tr>\n",
       "      <th>10004.0</th>\n",
       "      <td>0</td>\n",
       "      <td>0</td>\n",
       "      <td>15</td>\n",
       "      <td>0</td>\n",
       "      <td>0</td>\n",
       "      <td>4</td>\n",
       "      <td>3</td>\n",
       "      <td>1</td>\n",
       "      <td>0</td>\n",
       "      <td>1</td>\n",
       "      <td>...</td>\n",
       "      <td>1</td>\n",
       "      <td>1</td>\n",
       "      <td>0</td>\n",
       "      <td>16</td>\n",
       "      <td>21</td>\n",
       "      <td>0</td>\n",
       "      <td>0</td>\n",
       "      <td>37</td>\n",
       "      <td>0</td>\n",
       "      <td>0</td>\n",
       "    </tr>\n",
       "  </tbody>\n",
       "</table>\n",
       "<p>5 rows × 162 columns</p>\n",
       "</div>"
      ],
      "text/plain": [
       "Complain  APPLIANCE  Adopt-A-Basket  Air Quality  Animal Abuse  \\\n",
       "Zip                                                              \n",
       "10000.0           0               0            1             0   \n",
       "10001.0           0               1           90             0   \n",
       "10002.0          15               0           80             0   \n",
       "10003.0          15               1          143             0   \n",
       "10004.0           0               0           15             0   \n",
       "\n",
       "Complain  Animal Facility - No Permit  Animal in a Park  Asbestos  \\\n",
       "Zip                                                                 \n",
       "10000.0                             0                 1         0   \n",
       "10001.0                             0                 1        20   \n",
       "10002.0                             0                21        18   \n",
       "10003.0                             2                44        24   \n",
       "10004.0                             0                 4         3   \n",
       "\n",
       "Complain  BEST/Site Safety  Beach/Pool/Sauna Complaint  Bike Rack Condition  \\\n",
       "Zip                                                                           \n",
       "10000.0                  0                           0                    0   \n",
       "10001.0                 36                           1                    1   \n",
       "10002.0                 20                           2                    6   \n",
       "10003.0                 13                           2                    2   \n",
       "10004.0                  1                           0                    1   \n",
       "\n",
       "Complain           ...             Unsanitary Pigeon Condition  \\\n",
       "Zip                ...                                           \n",
       "10000.0            ...                                       0   \n",
       "10001.0            ...                                       3   \n",
       "10002.0            ...                                       5   \n",
       "10003.0            ...                                       7   \n",
       "10004.0            ...                                       1   \n",
       "\n",
       "Complain  Urinating in Public  Vacant Lot  Vending  Violation of Park Rules  \\\n",
       "Zip                                                                           \n",
       "10000.0                     0           0        8                        8   \n",
       "10001.0                     0           2       51                        5   \n",
       "10002.0                     1           4       27                       14   \n",
       "10003.0                    11           2       54                       25   \n",
       "10004.0                     1           0       16                       21   \n",
       "\n",
       "Complain  Water Conservation  Water Quality  Water System  Window Guard  \\\n",
       "Zip                                                                       \n",
       "10000.0                    0              0             0             0   \n",
       "10001.0                    5              2           366             0   \n",
       "10002.0                   10              7           324             0   \n",
       "10003.0                   12              5           318             0   \n",
       "10004.0                    0              0            37             0   \n",
       "\n",
       "Complain  X-Ray Machine/Equipment  \n",
       "Zip                                \n",
       "10000.0                         0  \n",
       "10001.0                         0  \n",
       "10002.0                         0  \n",
       "10003.0                         0  \n",
       "10004.0                         0  \n",
       "\n",
       "[5 rows x 162 columns]"
      ]
     },
     "execution_count": 6,
     "metadata": {},
     "output_type": "execute_result"
    }
   ],
   "source": [
    "data311.head()"
   ]
  },
  {
   "cell_type": "code",
   "execution_count": 7,
   "metadata": {},
   "outputs": [],
   "source": [
    "list_311=list(data311.columns)"
   ]
  },
  {
   "cell_type": "code",
   "execution_count": 8,
   "metadata": {},
   "outputs": [
    {
     "data": {
      "text/plain": [
       "['APPLIANCE',\n",
       " 'Adopt-A-Basket',\n",
       " 'Air Quality',\n",
       " 'Animal Abuse',\n",
       " 'Animal Facility - No Permit',\n",
       " 'Animal in a Park',\n",
       " 'Asbestos',\n",
       " 'BEST/Site Safety',\n",
       " 'Beach/Pool/Sauna Complaint',\n",
       " 'Bike Rack Condition']"
      ]
     },
     "execution_count": 8,
     "metadata": {},
     "output_type": "execute_result"
    }
   ],
   "source": [
    "list_311[0:10]"
   ]
  },
  {
   "cell_type": "code",
   "execution_count": 9,
   "metadata": {},
   "outputs": [
    {
     "data": {
      "text/plain": [
       "264"
      ]
     },
     "execution_count": 9,
     "metadata": {},
     "output_type": "execute_result"
    }
   ],
   "source": [
    "len(data311)"
   ]
  },
  {
   "cell_type": "code",
   "execution_count": 10,
   "metadata": {},
   "outputs": [],
   "source": [
    "Total311=data311.sum(axis=1) #total 311 activity per zip code\n",
    "data311=data311.div(data311.sum(axis=1), axis=0) #normalize activity of various cathegories within zip code by total\n",
    "data311=data311.loc[Total311>100] #keep only those zip codes having sufficient activity"
   ]
  },
  {
   "cell_type": "code",
   "execution_count": 11,
   "metadata": {},
   "outputs": [
    {
     "data": {
      "text/plain": [
       "179"
      ]
     },
     "execution_count": 11,
     "metadata": {},
     "output_type": "execute_result"
    }
   ],
   "source": [
    "len(data311) #only 179 zip codes with reliable data left"
   ]
  },
  {
   "cell_type": "code",
   "execution_count": 12,
   "metadata": {},
   "outputs": [
    {
     "data": {
      "text/html": [
       "<div>\n",
       "<style scoped>\n",
       "    .dataframe tbody tr th:only-of-type {\n",
       "        vertical-align: middle;\n",
       "    }\n",
       "\n",
       "    .dataframe tbody tr th {\n",
       "        vertical-align: top;\n",
       "    }\n",
       "\n",
       "    .dataframe thead th {\n",
       "        text-align: right;\n",
       "    }\n",
       "</style>\n",
       "<table border=\"1\" class=\"dataframe\">\n",
       "  <thead>\n",
       "    <tr style=\"text-align: right;\">\n",
       "      <th>Complain</th>\n",
       "      <th>APPLIANCE</th>\n",
       "      <th>Adopt-A-Basket</th>\n",
       "      <th>Air Quality</th>\n",
       "      <th>Animal Abuse</th>\n",
       "      <th>Animal Facility - No Permit</th>\n",
       "      <th>Animal in a Park</th>\n",
       "      <th>Asbestos</th>\n",
       "      <th>BEST/Site Safety</th>\n",
       "      <th>Beach/Pool/Sauna Complaint</th>\n",
       "      <th>Bike Rack Condition</th>\n",
       "      <th>...</th>\n",
       "      <th>Unsanitary Pigeon Condition</th>\n",
       "      <th>Urinating in Public</th>\n",
       "      <th>Vacant Lot</th>\n",
       "      <th>Vending</th>\n",
       "      <th>Violation of Park Rules</th>\n",
       "      <th>Water Conservation</th>\n",
       "      <th>Water Quality</th>\n",
       "      <th>Water System</th>\n",
       "      <th>Window Guard</th>\n",
       "      <th>X-Ray Machine/Equipment</th>\n",
       "    </tr>\n",
       "    <tr>\n",
       "      <th>Zip</th>\n",
       "      <th></th>\n",
       "      <th></th>\n",
       "      <th></th>\n",
       "      <th></th>\n",
       "      <th></th>\n",
       "      <th></th>\n",
       "      <th></th>\n",
       "      <th></th>\n",
       "      <th></th>\n",
       "      <th></th>\n",
       "      <th></th>\n",
       "      <th></th>\n",
       "      <th></th>\n",
       "      <th></th>\n",
       "      <th></th>\n",
       "      <th></th>\n",
       "      <th></th>\n",
       "      <th></th>\n",
       "      <th></th>\n",
       "      <th></th>\n",
       "      <th></th>\n",
       "    </tr>\n",
       "  </thead>\n",
       "  <tbody>\n",
       "    <tr>\n",
       "      <th>10000.0</th>\n",
       "      <td>0.000000</td>\n",
       "      <td>0.000000</td>\n",
       "      <td>0.008772</td>\n",
       "      <td>0.0</td>\n",
       "      <td>0.000000</td>\n",
       "      <td>0.008772</td>\n",
       "      <td>0.000000</td>\n",
       "      <td>0.000000</td>\n",
       "      <td>0.000000</td>\n",
       "      <td>0.000000</td>\n",
       "      <td>...</td>\n",
       "      <td>0.000000</td>\n",
       "      <td>0.000000</td>\n",
       "      <td>0.000000</td>\n",
       "      <td>0.070175</td>\n",
       "      <td>0.070175</td>\n",
       "      <td>0.000000</td>\n",
       "      <td>0.000000</td>\n",
       "      <td>0.000000</td>\n",
       "      <td>0.0</td>\n",
       "      <td>0.0</td>\n",
       "    </tr>\n",
       "    <tr>\n",
       "      <th>10001.0</th>\n",
       "      <td>0.000000</td>\n",
       "      <td>0.000146</td>\n",
       "      <td>0.013179</td>\n",
       "      <td>0.0</td>\n",
       "      <td>0.000000</td>\n",
       "      <td>0.000146</td>\n",
       "      <td>0.002929</td>\n",
       "      <td>0.005272</td>\n",
       "      <td>0.000146</td>\n",
       "      <td>0.000146</td>\n",
       "      <td>...</td>\n",
       "      <td>0.000439</td>\n",
       "      <td>0.000000</td>\n",
       "      <td>0.000293</td>\n",
       "      <td>0.007468</td>\n",
       "      <td>0.000732</td>\n",
       "      <td>0.000732</td>\n",
       "      <td>0.000293</td>\n",
       "      <td>0.053595</td>\n",
       "      <td>0.0</td>\n",
       "      <td>0.0</td>\n",
       "    </tr>\n",
       "    <tr>\n",
       "      <th>10002.0</th>\n",
       "      <td>0.001330</td>\n",
       "      <td>0.000000</td>\n",
       "      <td>0.007095</td>\n",
       "      <td>0.0</td>\n",
       "      <td>0.000000</td>\n",
       "      <td>0.001862</td>\n",
       "      <td>0.001596</td>\n",
       "      <td>0.001774</td>\n",
       "      <td>0.000177</td>\n",
       "      <td>0.000532</td>\n",
       "      <td>...</td>\n",
       "      <td>0.000443</td>\n",
       "      <td>0.000089</td>\n",
       "      <td>0.000355</td>\n",
       "      <td>0.002394</td>\n",
       "      <td>0.001242</td>\n",
       "      <td>0.000887</td>\n",
       "      <td>0.000621</td>\n",
       "      <td>0.028734</td>\n",
       "      <td>0.0</td>\n",
       "      <td>0.0</td>\n",
       "    </tr>\n",
       "    <tr>\n",
       "      <th>10003.0</th>\n",
       "      <td>0.001331</td>\n",
       "      <td>0.000089</td>\n",
       "      <td>0.012690</td>\n",
       "      <td>0.0</td>\n",
       "      <td>0.000177</td>\n",
       "      <td>0.003905</td>\n",
       "      <td>0.002130</td>\n",
       "      <td>0.001154</td>\n",
       "      <td>0.000177</td>\n",
       "      <td>0.000177</td>\n",
       "      <td>...</td>\n",
       "      <td>0.000621</td>\n",
       "      <td>0.000976</td>\n",
       "      <td>0.000177</td>\n",
       "      <td>0.004792</td>\n",
       "      <td>0.002218</td>\n",
       "      <td>0.001065</td>\n",
       "      <td>0.000444</td>\n",
       "      <td>0.028219</td>\n",
       "      <td>0.0</td>\n",
       "      <td>0.0</td>\n",
       "    </tr>\n",
       "    <tr>\n",
       "      <th>10004.0</th>\n",
       "      <td>0.000000</td>\n",
       "      <td>0.000000</td>\n",
       "      <td>0.009740</td>\n",
       "      <td>0.0</td>\n",
       "      <td>0.000000</td>\n",
       "      <td>0.002597</td>\n",
       "      <td>0.001948</td>\n",
       "      <td>0.000649</td>\n",
       "      <td>0.000000</td>\n",
       "      <td>0.000649</td>\n",
       "      <td>...</td>\n",
       "      <td>0.000649</td>\n",
       "      <td>0.000649</td>\n",
       "      <td>0.000000</td>\n",
       "      <td>0.010390</td>\n",
       "      <td>0.013636</td>\n",
       "      <td>0.000000</td>\n",
       "      <td>0.000000</td>\n",
       "      <td>0.024026</td>\n",
       "      <td>0.0</td>\n",
       "      <td>0.0</td>\n",
       "    </tr>\n",
       "  </tbody>\n",
       "</table>\n",
       "<p>5 rows × 162 columns</p>\n",
       "</div>"
      ],
      "text/plain": [
       "Complain  APPLIANCE  Adopt-A-Basket  Air Quality  Animal Abuse  \\\n",
       "Zip                                                              \n",
       "10000.0    0.000000        0.000000     0.008772           0.0   \n",
       "10001.0    0.000000        0.000146     0.013179           0.0   \n",
       "10002.0    0.001330        0.000000     0.007095           0.0   \n",
       "10003.0    0.001331        0.000089     0.012690           0.0   \n",
       "10004.0    0.000000        0.000000     0.009740           0.0   \n",
       "\n",
       "Complain  Animal Facility - No Permit  Animal in a Park  Asbestos  \\\n",
       "Zip                                                                 \n",
       "10000.0                      0.000000          0.008772  0.000000   \n",
       "10001.0                      0.000000          0.000146  0.002929   \n",
       "10002.0                      0.000000          0.001862  0.001596   \n",
       "10003.0                      0.000177          0.003905  0.002130   \n",
       "10004.0                      0.000000          0.002597  0.001948   \n",
       "\n",
       "Complain  BEST/Site Safety  Beach/Pool/Sauna Complaint  Bike Rack Condition  \\\n",
       "Zip                                                                           \n",
       "10000.0           0.000000                    0.000000             0.000000   \n",
       "10001.0           0.005272                    0.000146             0.000146   \n",
       "10002.0           0.001774                    0.000177             0.000532   \n",
       "10003.0           0.001154                    0.000177             0.000177   \n",
       "10004.0           0.000649                    0.000000             0.000649   \n",
       "\n",
       "Complain           ...             Unsanitary Pigeon Condition  \\\n",
       "Zip                ...                                           \n",
       "10000.0            ...                                0.000000   \n",
       "10001.0            ...                                0.000439   \n",
       "10002.0            ...                                0.000443   \n",
       "10003.0            ...                                0.000621   \n",
       "10004.0            ...                                0.000649   \n",
       "\n",
       "Complain  Urinating in Public  Vacant Lot   Vending  Violation of Park Rules  \\\n",
       "Zip                                                                            \n",
       "10000.0              0.000000    0.000000  0.070175                 0.070175   \n",
       "10001.0              0.000000    0.000293  0.007468                 0.000732   \n",
       "10002.0              0.000089    0.000355  0.002394                 0.001242   \n",
       "10003.0              0.000976    0.000177  0.004792                 0.002218   \n",
       "10004.0              0.000649    0.000000  0.010390                 0.013636   \n",
       "\n",
       "Complain  Water Conservation  Water Quality  Water System  Window Guard  \\\n",
       "Zip                                                                       \n",
       "10000.0             0.000000       0.000000      0.000000           0.0   \n",
       "10001.0             0.000732       0.000293      0.053595           0.0   \n",
       "10002.0             0.000887       0.000621      0.028734           0.0   \n",
       "10003.0             0.001065       0.000444      0.028219           0.0   \n",
       "10004.0             0.000000       0.000000      0.024026           0.0   \n",
       "\n",
       "Complain  X-Ray Machine/Equipment  \n",
       "Zip                                \n",
       "10000.0                       0.0  \n",
       "10001.0                       0.0  \n",
       "10002.0                       0.0  \n",
       "10003.0                       0.0  \n",
       "10004.0                       0.0  \n",
       "\n",
       "[5 rows x 162 columns]"
      ]
     },
     "execution_count": 12,
     "metadata": {},
     "output_type": "execute_result"
    }
   ],
   "source": [
    "data311.head()"
   ]
  },
  {
   "cell_type": "code",
   "execution_count": 13,
   "metadata": {},
   "outputs": [],
   "source": [
    "# create borough labels \n",
    "Z=np.array(data311.index)\n",
    "manhattanInd=(Z>10000)&(Z<10300) #Manhattan\n",
    "statenInd=(Z>=10300)&(Z<10400) #Staten Island\n",
    "brooklynInd=(Z>=11000)&(Z<11300) #Brooklyn\n",
    "queensInd=(Z>=11300)&(Z<11500) #Queens\n",
    "bronxInd=(Z>=10400)&(Z<10500) #Bronx\n",
    "#create an array of the same length as data311 index providing the borough number\n",
    "D=Z*0\n",
    "D[manhattanInd]=1\n",
    "D[statenInd]=2\n",
    "D[brooklynInd]=3\n",
    "D[queensInd]=4\n",
    "D[bronxInd]=5"
   ]
  },
  {
   "cell_type": "markdown",
   "metadata": {},
   "source": [
    "Try visualizing the data based on some two types of complaints"
   ]
  },
  {
   "cell_type": "code",
   "execution_count": 14,
   "metadata": {},
   "outputs": [
    {
     "data": {
      "text/plain": [
       "<matplotlib.legend.Legend at 0x1c1ad39b90>"
      ]
     },
     "execution_count": 14,
     "metadata": {},
     "output_type": "execute_result"
    },
    {
     "data": {
      "image/png": "[encoded data removed]",
      "text/plain": [
       "<Figure size 720x720 with 1 Axes>"
      ]
     },
     "metadata": {
      "needs_background": "light"
     },
     "output_type": "display_data"
    }
   ],
   "source": [
    "colors=('gray','red','green','blue','yellow','brown')\n",
    "fig = plt.figure(figsize=(10,10))\n",
    "for d in range(1,6):\n",
    "    plt.plot(np.array(data311.iloc[D==d,0]), np.array(data311.iloc[D==d,1]),\n",
    "        'o', color=colors[d], alpha=0.8, label=d)\n",
    "plt.legend(['Manhattan','Staten Isl','Brooklyn','Queens','Bronx'],loc='upper left')"
   ]
  },
  {
   "cell_type": "code",
   "execution_count": 15,
   "metadata": {},
   "outputs": [
    {
     "data": {
      "text/plain": [
       "<matplotlib.legend.Legend at 0x104eed710>"
      ]
     },
     "execution_count": 15,
     "metadata": {},
     "output_type": "execute_result"
    },
    {
     "data": {
      "image/png": "[encoded data removed]",
      "text/plain": [
       "<Figure size 720x720 with 1 Axes>"
      ]
     },
     "metadata": {
      "needs_background": "light"
     },
     "output_type": "display_data"
    }
   ],
   "source": [
    "colors=('gray','red','green','blue','yellow','brown')\n",
    "fig = plt.figure(figsize=(10,10))\n",
    "for d in range(1,6):\n",
    "    plt.plot(np.array(data311.loc[D==d,'Air Quality']), np.array(data311.loc[D==d,'Water System']),\n",
    "        'o', color=colors[d], alpha=0.8, label=d)\n",
    "plt.legend(['Manhattan','Staten Isl','Brooklyn','Queens','Bronx'],loc='upper left')"
   ]
  },
  {
   "cell_type": "markdown",
   "metadata": {},
   "source": [
    "#### So is it possible to find a smaller number of parameters to adequately represent high dimensional data?"
   ]
  },
  {
   "cell_type": "markdown",
   "metadata": {},
   "source": [
    "### Example 1. Toy data"
   ]
  },
  {
   "cell_type": "code",
   "execution_count": 16,
   "metadata": {},
   "outputs": [
    {
     "data": {
      "text/html": [
       "<div>\n",
       "<style scoped>\n",
       "    .dataframe tbody tr th:only-of-type {\n",
       "        vertical-align: middle;\n",
       "    }\n",
       "\n",
       "    .dataframe tbody tr th {\n",
       "        vertical-align: top;\n",
       "    }\n",
       "\n",
       "    .dataframe thead th {\n",
       "        text-align: right;\n",
       "    }\n",
       "</style>\n",
       "<table border=\"1\" class=\"dataframe\">\n",
       "  <thead>\n",
       "    <tr style=\"text-align: right;\">\n",
       "      <th></th>\n",
       "      <th>P</th>\n",
       "      <th>S</th>\n",
       "    </tr>\n",
       "  </thead>\n",
       "  <tbody>\n",
       "    <tr>\n",
       "      <th>0</th>\n",
       "      <td>420500</td>\n",
       "      <td>1235</td>\n",
       "    </tr>\n",
       "    <tr>\n",
       "      <th>1</th>\n",
       "      <td>1907600</td>\n",
       "      <td>6192</td>\n",
       "    </tr>\n",
       "    <tr>\n",
       "      <th>2</th>\n",
       "      <td>621500</td>\n",
       "      <td>1905</td>\n",
       "    </tr>\n",
       "    <tr>\n",
       "      <th>3</th>\n",
       "      <td>2693900</td>\n",
       "      <td>8813</td>\n",
       "    </tr>\n",
       "    <tr>\n",
       "      <th>4</th>\n",
       "      <td>1218500</td>\n",
       "      <td>3895</td>\n",
       "    </tr>\n",
       "  </tbody>\n",
       "</table>\n",
       "</div>"
      ],
      "text/plain": [
       "         P     S\n",
       "0   420500  1235\n",
       "1  1907600  6192\n",
       "2   621500  1905\n",
       "3  2693900  8813\n",
       "4  1218500  3895"
      ]
     },
     "execution_count": 16,
     "metadata": {},
     "output_type": "execute_result"
    }
   ],
   "source": [
    "#generate a random sample of houses with \"Size\" and \"Price\" being function of it\n",
    "np.random.seed(1)\n",
    "N=100\n",
    "S=np.random.randint(1000,10000, size=N)\n",
    "P=S*300+50000\n",
    "data1 = pd.DataFrame({'S':S,'P':P})\n",
    "data1.head()"
   ]
  },
  {
   "cell_type": "code",
   "execution_count": 17,
   "metadata": {},
   "outputs": [
    {
     "data": {
      "text/plain": [
       "Text(0,0.5,'P')"
      ]
     },
     "execution_count": 17,
     "metadata": {},
     "output_type": "execute_result"
    },
    {
     "data": {
      "image/png": "[encoded data removed]",
      "text/plain": [
       "<Figure size 432x288 with 1 Axes>"
      ]
     },
     "metadata": {
      "needs_background": "light"
     },
     "output_type": "display_data"
    }
   ],
   "source": [
    "#visualize the data\n",
    "plt.plot(data1.S, data1.P, 'o')\n",
    "plt.xlabel('S')\n",
    "plt.ylabel('P')"
   ]
  },
  {
   "cell_type": "code",
   "execution_count": 18,
   "metadata": {},
   "outputs": [],
   "source": [
    "#all the data points lay on a single line and one can represent all the information by a single-dimensional \n",
    "# position coordinate on this line"
   ]
  },
  {
   "cell_type": "code",
   "execution_count": 19,
   "metadata": {},
   "outputs": [
    {
     "data": {
      "text/plain": [
       "Text(0,0.5,'P')"
      ]
     },
     "execution_count": 19,
     "metadata": {},
     "output_type": "execute_result"
    },
    {
     "data": {
      "image/png": "[encoded data removed]",
      "text/plain": [
       "<Figure size 432x288 with 1 Axes>"
      ]
     },
     "metadata": {
      "needs_background": "light"
     },
     "output_type": "display_data"
    }
   ],
   "source": [
    "plt.plot(data1.S, data1.P, 'o')\n",
    "plt.plot(data1.S, data1.P)\n",
    "plt.xlabel('S')\n",
    "plt.ylabel('P')"
   ]
  },
  {
   "cell_type": "code",
   "execution_count": 20,
   "metadata": {},
   "outputs": [
    {
     "data": {
      "text/html": [
       "<div>\n",
       "<style scoped>\n",
       "    .dataframe tbody tr th:only-of-type {\n",
       "        vertical-align: middle;\n",
       "    }\n",
       "\n",
       "    .dataframe tbody tr th {\n",
       "        vertical-align: top;\n",
       "    }\n",
       "\n",
       "    .dataframe thead th {\n",
       "        text-align: right;\n",
       "    }\n",
       "</style>\n",
       "<table border=\"1\" class=\"dataframe\">\n",
       "  <thead>\n",
       "    <tr style=\"text-align: right;\">\n",
       "      <th></th>\n",
       "      <th>P</th>\n",
       "      <th>S</th>\n",
       "    </tr>\n",
       "  </thead>\n",
       "  <tbody>\n",
       "    <tr>\n",
       "      <th>0</th>\n",
       "      <td>6.390575e+05</td>\n",
       "      <td>1235</td>\n",
       "    </tr>\n",
       "    <tr>\n",
       "      <th>1</th>\n",
       "      <td>1.767950e+06</td>\n",
       "      <td>6192</td>\n",
       "    </tr>\n",
       "    <tr>\n",
       "      <th>2</th>\n",
       "      <td>4.770886e+05</td>\n",
       "      <td>1905</td>\n",
       "    </tr>\n",
       "    <tr>\n",
       "      <th>3</th>\n",
       "      <td>2.643453e+06</td>\n",
       "      <td>8813</td>\n",
       "    </tr>\n",
       "    <tr>\n",
       "      <th>4</th>\n",
       "      <td>1.234504e+06</td>\n",
       "      <td>3895</td>\n",
       "    </tr>\n",
       "  </tbody>\n",
       "</table>\n",
       "</div>"
      ],
      "text/plain": [
       "              P     S\n",
       "0  6.390575e+05  1235\n",
       "1  1.767950e+06  6192\n",
       "2  4.770886e+05  1905\n",
       "3  2.643453e+06  8813\n",
       "4  1.234504e+06  3895"
      ]
     },
     "execution_count": 20,
     "metadata": {},
     "output_type": "execute_result"
    }
   ],
   "source": [
    "#what if the data is a little more complicated\n",
    "P=S*300+50000+np.random.normal(0,100000,size=N)\n",
    "data2 = pd.DataFrame({'S':S,'P':P})\n",
    "data2.head()"
   ]
  },
  {
   "cell_type": "code",
   "execution_count": 21,
   "metadata": {},
   "outputs": [
    {
     "data": {
      "text/plain": [
       "Text(0,0.5,'P')"
      ]
     },
     "execution_count": 21,
     "metadata": {},
     "output_type": "execute_result"
    },
    {
     "data": {
      "image/png": "[encoded data removed]",
      "text/plain": [
       "<Figure size 432x288 with 1 Axes>"
      ]
     },
     "metadata": {
      "needs_background": "light"
     },
     "output_type": "display_data"
    }
   ],
   "source": [
    "#visualize the data\n",
    "plt.plot(data2.S, data2.P, 'o')\n",
    "plt.xlabel('S')\n",
    "plt.ylabel('P')"
   ]
  },
  {
   "cell_type": "code",
   "execution_count": 22,
   "metadata": {},
   "outputs": [
    {
     "data": {
      "text/html": [
       "<div>\n",
       "<style scoped>\n",
       "    .dataframe tbody tr th:only-of-type {\n",
       "        vertical-align: middle;\n",
       "    }\n",
       "\n",
       "    .dataframe tbody tr th {\n",
       "        vertical-align: top;\n",
       "    }\n",
       "\n",
       "    .dataframe thead th {\n",
       "        text-align: right;\n",
       "    }\n",
       "</style>\n",
       "<table border=\"1\" class=\"dataframe\">\n",
       "  <thead>\n",
       "    <tr style=\"text-align: right;\">\n",
       "      <th></th>\n",
       "      <th>P</th>\n",
       "      <th>S</th>\n",
       "    </tr>\n",
       "  </thead>\n",
       "  <tbody>\n",
       "    <tr>\n",
       "      <th>P</th>\n",
       "      <td>1.0000</td>\n",
       "      <td>0.9942</td>\n",
       "    </tr>\n",
       "    <tr>\n",
       "      <th>S</th>\n",
       "      <td>0.9942</td>\n",
       "      <td>1.0000</td>\n",
       "    </tr>\n",
       "  </tbody>\n",
       "</table>\n",
       "</div>"
      ],
      "text/plain": [
       "        P       S\n",
       "P  1.0000  0.9942\n",
       "S  0.9942  1.0000"
      ]
     },
     "execution_count": 22,
     "metadata": {},
     "output_type": "execute_result"
    }
   ],
   "source": [
    "#there is high correlation in data\n",
    "data2.corr()"
   ]
  },
  {
   "cell_type": "code",
   "execution_count": 23,
   "metadata": {},
   "outputs": [],
   "source": [
    "#standardize the data\n",
    "data2S=(data2-data2.mean())/data2.std()"
   ]
  },
  {
   "cell_type": "code",
   "execution_count": 24,
   "metadata": {},
   "outputs": [
    {
     "data": {
      "text/plain": [
       "Text(0,0.5,'P')"
      ]
     },
     "execution_count": 24,
     "metadata": {},
     "output_type": "execute_result"
    },
    {
     "data": {
      "image/png": "[encoded data removed]",
      "text/plain": [
       "<Figure size 432x432 with 1 Axes>"
      ]
     },
     "metadata": {
      "needs_background": "light"
     },
     "output_type": "display_data"
    }
   ],
   "source": [
    "#The data is still largely around one major line\n",
    "#but there is also some fluctuation in the orthogonal dymension\n",
    "plt.figure(figsize=(6,6))\n",
    "plt.plot(data2S.S, data2S.P, 'o')\n",
    "x=data2S.S.sort_values()\n",
    "plt.plot(x, x*np.corrcoef(data2S.S,data2S.P)[0,1],':r')\n",
    "x=data2S.S[abs(data2S.S)<0.5].sort_values()\n",
    "plt.plot(x, -x/np.corrcoef(data2S.S,data2S.P)[0,1],':r')\n",
    "plt.xlim((-2,2)); plt.ylim((-2,2));\n",
    "plt.xlabel('S')\n",
    "plt.ylabel('P')"
   ]
  },
  {
   "cell_type": "markdown",
   "metadata": {},
   "source": [
    "Those two dashed lines form axis of a new coordinate system in which the first coordiate largely represents the data, while second containts some residual variation. Note that the first axis is picked in such a way that **variance of the data along it is maximized**"
   ]
  },
  {
   "cell_type": "markdown",
   "metadata": {},
   "source": [
    "How to convert them to uncorrelated features $p_1$,$p_2$ (principal components) using some linear transform \n",
    "$$\n",
    "P=XV?\n",
    "$$ \n",
    "\n",
    "$P$ is a matrix of two columns $p_1$,$p_2$, while $V$ is a $2x2$ conversion matrix.\n",
    "\n",
    "This transform will effectively rotate the image above to get a cloud with approximate axial symmetry. Or we can think of it as selecting different coordinate axis, so that X being projected on them (represented in a new system of coordinates) is expressed by $P$."
   ]
  },
  {
   "cell_type": "code",
   "execution_count": 25,
   "metadata": {},
   "outputs": [
    {
     "name": "stdout",
     "output_type": "stream",
     "text": [
      "Eigenvalues= [197.42576011   0.57423989]\n",
      "Eigenvectors=\n",
      "[[ 0.70710678 -0.70710678]\n",
      " [ 0.70710678  0.70710678]]\n"
     ]
    }
   ],
   "source": [
    "#find eigenvectors of X'X\n",
    "XS=np.array(data2S)\n",
    "XC=np.dot(XS.transpose(),XS)\n",
    "eigvalues, eigvectors = np.linalg.eig(XC)\n",
    "print 'Eigenvalues=',eigvalues\n",
    "print 'Eigenvectors=\\n',eigvectors"
   ]
  },
  {
   "cell_type": "code",
   "execution_count": 26,
   "metadata": {},
   "outputs": [
    {
     "data": {
      "text/plain": [
       "array([[ 0.70710678, -0.70710678],\n",
       "       [ 0.70710678,  0.70710678]])"
      ]
     },
     "execution_count": 26,
     "metadata": {},
     "output_type": "execute_result"
    }
   ],
   "source": [
    "#make sure eigenvalues are sorted and form the matrix of eigenvectors\n",
    "idx = eigvalues.argsort()[::-1]   \n",
    "eigvalues = eigvalues[idx]\n",
    "eigvectors = eigvectors[:,idx]\n",
    "V = eigvectors\n",
    "V"
   ]
  },
  {
   "cell_type": "code",
   "execution_count": 27,
   "metadata": {},
   "outputs": [],
   "source": [
    "#perform the transformation computing new coordinates for the data in the new coordinate system (principal components)\n",
    "P=np.dot(XS,V)"
   ]
  },
  {
   "cell_type": "code",
   "execution_count": 28,
   "metadata": {},
   "outputs": [
    {
     "data": {
      "image/png": "[encoded data removed]",
      "text/plain": [
       "<Figure size 432x288 with 1 Axes>"
      ]
     },
     "metadata": {
      "needs_background": "light"
     },
     "output_type": "display_data"
    }
   ],
   "source": [
    "#visualize PCs\n",
    "plt.plot(P[:,0],P[:,1], 'o')\n",
    "plt.xlabel('P1')\n",
    "plt.ylabel('P2')\n",
    "plt.axis('equal'); #enforce same scale for axes"
   ]
  },
  {
   "cell_type": "code",
   "execution_count": 29,
   "metadata": {},
   "outputs": [
    {
     "data": {
      "text/plain": [
       "array([[1.00000000e+00, 2.33586986e-15],\n",
       "       [2.33586986e-15, 1.00000000e+00]])"
      ]
     },
     "execution_count": 29,
     "metadata": {},
     "output_type": "execute_result"
    }
   ],
   "source": [
    "#check there is no correlation now\n",
    "np.corrcoef(P[:,0],P[:,1])"
   ]
  },
  {
   "cell_type": "markdown",
   "metadata": {},
   "source": [
    "# Principle component analysis\n",
    "\n",
    "A most common linear approach to dimentionality reduction is the principal component analysis. An idea is that given $N$ observations for the $n$ regressors $x_j$\n",
    "\n",
    "$$\n",
    "X=\\{x_i^j, i=1..n, j=1..N\\}\n",
    "$$\n",
    "\n",
    "we try to come up with a linear transformation\n",
    "\n",
    "$$\n",
    "U=X V,\n",
    "$$\n",
    "\n",
    "where $V$ is $nxp$-dimensional transformation matrix and $U$ is a $N x p$ matrix of new factors $u_1,u_2,...,u_p$ (columns of $U$), such that they explain as much of initial information contained in $X$ as possible for the $p$ latent variables - linear combinations of the original ones.\n",
    "\n",
    "## Technique\n",
    "\n",
    "Before applying PCA variables $x_i$ are usually centered ($E[x_i]=0$) and sometimes also normalized ($var[x_i]=1$).\n",
    "\n",
    "**Selecting first principle component**: look for the column unit basis $N x 1$ vector of weights/loadings $v_1$, such that resulting variable \n",
    "$$\n",
    "u_1=X v_1\n",
    "$$ \n",
    "has maximal possible variance \n",
    "$$\n",
    "var[u_1]\\to\\max\n",
    "$$\n",
    "(captures as much information/distinctions from the complete feature space $X$)\n",
    "\n",
    "So we maximize\n",
    "$$\n",
    "var[u_1]=(X v_1)^T X v_1=v_1^T X^T X v_1\\to \\max\n",
    "$$\n",
    "or\n",
    "$$\n",
    "v_1=argmax_{v_1: v_1^T v_1=1}var[u_1] =argmax_{v_1: v_1^T v_1=1}u_1^T u_1=argmax_{v_1: v_1^T v_1=1}v_1^T X^T X v_1.\n",
    "$$\n",
    "\n",
    "Then after first basis vector $v_1$ and principle component $u_1$ are selected, the second basis vector $v_2$ is selected following the same principle, but with an additional constrain of being orthogonal to $v_1$. \n",
    "\n",
    "Similarly each following $i$-th vector $v_i$ is being defined as\n",
    "$$\n",
    "v_i=argmax_{v_i: v_i^T v_i=1, v_i^T v_j=0, j<i}v_i^T X^T X v_i.\n",
    "$$\n",
    "\n",
    "The problem is easy to solve knowing the eigenvectors of $X^T X$, i.e. such unit vectors $v_i$ ($v_i^T v_i=1$) that\n",
    "\n",
    "$$\n",
    "\\lambda_i v_i=X^T X v_i\n",
    "$$\n",
    "\n",
    "So for such eigenvectors vectors $v_i$\n",
    "$$\n",
    "var[u_i]=v_i^T X^T X v_i = \\lambda_i v_i^T v_i = \\lambda_i.\n",
    "$$\n",
    "\n",
    "This way one can also see that all the eigenvalues of $X^T X$ are positive.\n",
    "\n",
    "*And out of them the best choice for $v_1$ is the leading eigenvector with the highest eigenvalue.*\n",
    "\n",
    "**Now consider an arbitrary vector $w$** - not necessarily an eigenvector. If we know $n$ unit eigenvectors with distinct eigenvalues such that $\\lambda_1>\\lambda_2> ...>\\lambda_n>0$, they produce an orthogonal basis in the $n$-dimensional space and for any unit vector $w=e_1 v_1+e_2 v_2+... +e_n v_n$, provided $\\sum_i e_i^2=1$, we can see that\n",
    "\n",
    "$$\n",
    "w^T X^T X w=\\lambda_1 e_1^2+\\lambda_2 e_2^2+...+\\lambda_n e_n^2,\n",
    "$$\n",
    "\n",
    "which is maximized for $e_1=1, e_2=e_3=...e_n=0$ (as $\\sum_i e_i^2=1$), *i.e. $w=v_1$*. \n",
    "\n",
    "Similarly the second, third, etc loading vectors could be found as $v_2,v_3,...$ correspondingly.\n",
    "\n",
    "*So the transformation matrix $V$ is composed by the columns being eigenvectors of $X^T X$ and the variance of the data along each of the new axis equals to the value of the corresponding eigenvalue $\\lambda_1>\\lambda_2> ...>\\lambda_n>0$.*\n",
    "\n",
    "**In the matrix form**\n",
    "\n",
    "$$\n",
    "diag(\\lambda)V=X^T X V\n",
    "$$\n",
    "\n",
    "where $\\lambda_i$ are the corresponding eigenvalues (mutually distinctive). First of all its easy to see that such vectors $v_i$ are always mutually orthogonal, as\n",
    "\n",
    "$$\n",
    "v_j^T v_i= v_j^T X^T X v_i/\\lambda_i =(X^T X w_j)^T v_i/\\lambda_i=v_j^T v_i \\lambda_j/\\lambda_i.\n",
    "$$\n",
    "\n",
    "This is why $V^T V=I_n$.\n",
    "\n",
    "Also the solution follows from the singular value decomposition of the matrix $X$:\n",
    "\n",
    "$$\n",
    "X=W \\Sigma V^T,\n",
    "$$\n",
    "\n",
    "where $W$ is a $N x n$ matrix of mutually orthogonal unit columns, $V$ is a $n x n$ matrix of mutually orthogonal unit columns and $\\Sigma$ is an $n x n$- diagonal matrix, i.e.\n",
    "\n",
    "$$\n",
    "W^T W=V^T V=I_n\n",
    "$$\n",
    "\n",
    "Then\n",
    "\n",
    "$$\n",
    "X^T X=V\\Sigma W^T W \\Sigma V^T=V\\Sigma^2 V^T\n",
    "$$\n",
    "\n",
    "and its easy to see that $V$ is the matrix of eigenvectors and $\\Sigma$ is the diagonal matrix of square roots of eigenvalues. Then \n",
    "\n",
    "$$\n",
    "U=XV=W\\Sigma V^T V=W\\Sigma.\n",
    "$$\n",
    "\n",
    "## PCA as a dimensionality reduction tool\n",
    "\n",
    "Now once matrixes $V, U, \\Sigma$ are defined as well as the eigenvalues $\\lambda_j$ (being the squares of the diagonal elements of $\\Sigma$), how do we use that for dimensionality reduction? \n",
    "\n",
    "Matrix $V$ performs a transformation of the regressors $x_i$ to the new orthogonal variables $u_i$ being the columns of $U=XV$. And \n",
    "$$\n",
    "Var[u_i]=\\lambda_i\n",
    "$$\n",
    "\n",
    "This is interpreted as each variable $u_i$ containing the fraction $\\lambda_i/\\sum\\limits_j \\lambda_j$ of the entire information (variation) contained in all the regressors. And the choice of regressors $u_i$ is such that $\\lambda_1,\\lambda_2,...$ are sequentially maximized. So if one wants to select as few latent variables as possible in order to cover a given franction $\\alpha$ (often $95\\%$) of information (variation) from it is enough to select first $k$ principle components $u_1,u_2,...u_k$, so that \n",
    "\n",
    "$$\n",
    "\\frac{\\sum\\limits_{i=1}^k\\lambda_i}{\\sum\\limits_{i=1}^n\\lambda_i}\\geq \\alpha.\n",
    "$$\n",
    "\n",
    "## PCA over the features space for dimensionality reduction in the linear regression\n",
    "\n",
    "The leading principle components contain most of the information from the entire original feature space, and might be suitable to represent the feature space reducing its dimensionality. This however does not guarantee (although usually provides a good chance) that those leading components are indeed the ones most relevant for modeling the output variables, so reducing dimensionality of the regression model by selecting the leading principle components does not always lead to the best outcome. \n",
    "\n",
    "In this case, using regular feature selection (e.g. backward step-wise or forward step-wise) could be the best. PCA however will help by ensuring that the features are not interrelated and can be effectively excluded or included one-by-one. This way feature selection after PCA is always more efficient than the feature selection over the original non-transformed feature space. \n",
    "\n",
    "This also makes it more reasible (although still not entirely) to rely on the \"naive\" feature selection based on p-values. While p-values still represent an intrinsic property of the training set, and this way can not guarantee generalizeability, since the standardized principle components are non-correlated/othogonal, a low p-value is a good indicator of the regressor's utility as long as the size/choice of the training data is sufficient to exclude random coincidences.\n",
    "\n",
    "The most significant downside of using PCA for feature selection is that the remaining selected principle components could be pretty hard to interpret as they often look like arbitrary linear combinations of multiple features.\n",
    "\n",
    "\n"
   ]
  },
  {
   "cell_type": "code",
   "execution_count": null,
   "metadata": {},
   "outputs": [],
   "source": []
  },
  {
   "cell_type": "markdown",
   "metadata": {},
   "source": [
    "## Task 1. Apply PCA to 311 data\n",
    "- Visualize the explained variance as the function of the number of leading components\n",
    "- Plot zip codes (as dots) represented by their first and second principal components and colored according to their borough; can you distinguish boroughs based on 311 PCs?"
   ]
  },
  {
   "cell_type": "code",
   "execution_count": 30,
   "metadata": {},
   "outputs": [],
   "source": [
    "scaler311 = preprocessing.StandardScaler().fit(data311)\n",
    "data311S=scaler311.transform(data311)  "
   ]
  },
  {
   "cell_type": "code",
   "execution_count": 51,
   "metadata": {},
   "outputs": [
    {
     "data": {
      "image/png": "[encoded data removed]",
      "text/plain": [
       "<Figure size 432x288 with 1 Axes>"
      ]
     },
     "metadata": {
      "needs_background": "light"
     },
     "output_type": "display_data"
    }
   ],
   "source": [
    "#perform PC decomposition over data311\n",
    "pca = PCA(data311S.shape[1])\n",
    "data311P=pca.fit_transform(data311S)\n",
    "eigenvalues = pca.explained_variance_ratio_\n",
    "#plot explained variance over the number of compinents\n",
    "n=data311S.shape[1]\n",
    "plt.bar(np.arange(n), eigenvalues[:n].cumsum())\n",
    "plt.xlabel(\"Number of components\")\n",
    "plt.ylabel(\"Explained Variance\")\n",
    "plt.show()"
   ]
  },
  {
   "cell_type": "code",
   "execution_count": 48,
   "metadata": {},
   "outputs": [
    {
     "data": {
      "text/plain": [
       "<matplotlib.legend.Legend at 0x1c1acd0ed0>"
      ]
     },
     "execution_count": 48,
     "metadata": {},
     "output_type": "execute_result"
    },
    {
     "data": {
      "image/png": "[encoded data removed]",
      "text/plain": [
       "<Figure size 720x720 with 1 Axes>"
      ]
     },
     "metadata": {
      "needs_background": "light"
     },
     "output_type": "display_data"
    }
   ],
   "source": [
    "#2-d plot\n",
    "colors=('gray','red','green','blue','yellow','brown')\n",
    "fig = plt.figure(figsize=(10,10))\n",
    "for d in range(1,6):\n",
    "    plt.plot(np.array(data311P[D==d,0]), np.array(data311P[D==d,1]),\n",
    "        'o', color=colors[d], alpha=0.8, label=d)\n",
    "plt.legend(['Manhattan','Staten Isl','Brooklyn','Queens','Bronx'],loc='upper left')"
   ]
  },
  {
   "cell_type": "code",
   "execution_count": null,
   "metadata": {},
   "outputs": [],
   "source": []
  },
  {
   "cell_type": "code",
   "execution_count": null,
   "metadata": {},
   "outputs": [],
   "source": []
  },
  {
   "cell_type": "code",
   "execution_count": null,
   "metadata": {},
   "outputs": [],
   "source": []
  },
  {
   "cell_type": "code",
   "execution_count": null,
   "metadata": {},
   "outputs": [],
   "source": []
  },
  {
   "cell_type": "markdown",
   "metadata": {},
   "source": [
    "# Principal component regression"
   ]
  },
  {
   "cell_type": "markdown",
   "metadata": {},
   "source": [
    "## Modeling median income with 311 patterns"
   ]
  },
  {
   "cell_type": "code",
   "execution_count": 33,
   "metadata": {},
   "outputs": [
    {
     "data": {
      "text/html": [
       "<div>\n",
       "<style scoped>\n",
       "    .dataframe tbody tr th:only-of-type {\n",
       "        vertical-align: middle;\n",
       "    }\n",
       "\n",
       "    .dataframe tbody tr th {\n",
       "        vertical-align: top;\n",
       "    }\n",
       "\n",
       "    .dataframe thead th {\n",
       "        text-align: right;\n",
       "    }\n",
       "</style>\n",
       "<table border=\"1\" class=\"dataframe\">\n",
       "  <thead>\n",
       "    <tr style=\"text-align: right;\">\n",
       "      <th></th>\n",
       "      <th>Median</th>\n",
       "      <th>Mean</th>\n",
       "      <th>Pop</th>\n",
       "    </tr>\n",
       "    <tr>\n",
       "      <th>Zip</th>\n",
       "      <th></th>\n",
       "      <th></th>\n",
       "      <th></th>\n",
       "    </tr>\n",
       "  </thead>\n",
       "  <tbody>\n",
       "    <tr>\n",
       "      <th>1001</th>\n",
       "      <td>56662.5735</td>\n",
       "      <td>66687.7509</td>\n",
       "      <td>16445</td>\n",
       "    </tr>\n",
       "    <tr>\n",
       "      <th>1002</th>\n",
       "      <td>49853.4177</td>\n",
       "      <td>75062.6343</td>\n",
       "      <td>28069</td>\n",
       "    </tr>\n",
       "    <tr>\n",
       "      <th>1003</th>\n",
       "      <td>28462.0000</td>\n",
       "      <td>35121.0000</td>\n",
       "      <td>8491</td>\n",
       "    </tr>\n",
       "    <tr>\n",
       "      <th>1005</th>\n",
       "      <td>75423.0000</td>\n",
       "      <td>82442.0000</td>\n",
       "      <td>4798</td>\n",
       "    </tr>\n",
       "    <tr>\n",
       "      <th>1007</th>\n",
       "      <td>79076.3540</td>\n",
       "      <td>85801.9750</td>\n",
       "      <td>12962</td>\n",
       "    </tr>\n",
       "  </tbody>\n",
       "</table>\n",
       "</div>"
      ],
      "text/plain": [
       "          Median        Mean    Pop\n",
       "Zip                                \n",
       "1001  56662.5735  66687.7509  16445\n",
       "1002  49853.4177  75062.6343  28069\n",
       "1003  28462.0000  35121.0000   8491\n",
       "1005  75423.0000  82442.0000   4798\n",
       "1007  79076.3540  85801.9750  12962"
      ]
     },
     "execution_count": 33,
     "metadata": {},
     "output_type": "execute_result"
    }
   ],
   "source": [
    "#load the data\n",
    "dataIncome=pd.read_csv(\"data/MeanZip.csv\",index_col=0)\n",
    "dataIncome=dataIncome.apply(pd.to_numeric, errors='coerce')\n",
    "dataIncome=dataIncome.loc[dataIncome.Mean>0]\n",
    "dataIncome.head()"
   ]
  },
  {
   "cell_type": "code",
   "execution_count": 34,
   "metadata": {},
   "outputs": [],
   "source": [
    "#merge income data with 311\n",
    "DataIncome1=dataIncome.merge(data311,left_index=True,right_index=True)"
   ]
  },
  {
   "cell_type": "code",
   "execution_count": 35,
   "metadata": {},
   "outputs": [
    {
     "data": {
      "text/html": [
       "<div>\n",
       "<style scoped>\n",
       "    .dataframe tbody tr th:only-of-type {\n",
       "        vertical-align: middle;\n",
       "    }\n",
       "\n",
       "    .dataframe tbody tr th {\n",
       "        vertical-align: top;\n",
       "    }\n",
       "\n",
       "    .dataframe thead th {\n",
       "        text-align: right;\n",
       "    }\n",
       "</style>\n",
       "<table border=\"1\" class=\"dataframe\">\n",
       "  <thead>\n",
       "    <tr style=\"text-align: right;\">\n",
       "      <th></th>\n",
       "      <th>Median</th>\n",
       "      <th>Mean</th>\n",
       "      <th>Pop</th>\n",
       "      <th>APPLIANCE</th>\n",
       "      <th>Adopt-A-Basket</th>\n",
       "      <th>Air Quality</th>\n",
       "      <th>Animal Abuse</th>\n",
       "      <th>Animal Facility - No Permit</th>\n",
       "      <th>Animal in a Park</th>\n",
       "      <th>Asbestos</th>\n",
       "      <th>...</th>\n",
       "      <th>Unsanitary Pigeon Condition</th>\n",
       "      <th>Urinating in Public</th>\n",
       "      <th>Vacant Lot</th>\n",
       "      <th>Vending</th>\n",
       "      <th>Violation of Park Rules</th>\n",
       "      <th>Water Conservation</th>\n",
       "      <th>Water Quality</th>\n",
       "      <th>Water System</th>\n",
       "      <th>Window Guard</th>\n",
       "      <th>X-Ray Machine/Equipment</th>\n",
       "    </tr>\n",
       "    <tr>\n",
       "      <th>Zip</th>\n",
       "      <th></th>\n",
       "      <th></th>\n",
       "      <th></th>\n",
       "      <th></th>\n",
       "      <th></th>\n",
       "      <th></th>\n",
       "      <th></th>\n",
       "      <th></th>\n",
       "      <th></th>\n",
       "      <th></th>\n",
       "      <th></th>\n",
       "      <th></th>\n",
       "      <th></th>\n",
       "      <th></th>\n",
       "      <th></th>\n",
       "      <th></th>\n",
       "      <th></th>\n",
       "      <th></th>\n",
       "      <th></th>\n",
       "      <th></th>\n",
       "      <th></th>\n",
       "    </tr>\n",
       "  </thead>\n",
       "  <tbody>\n",
       "    <tr>\n",
       "      <th>10001.0</th>\n",
       "      <td>71244.6100</td>\n",
       "      <td>123112.7764</td>\n",
       "      <td>17678</td>\n",
       "      <td>0.000000</td>\n",
       "      <td>0.000146</td>\n",
       "      <td>0.013179</td>\n",
       "      <td>0.0</td>\n",
       "      <td>0.000000</td>\n",
       "      <td>0.000146</td>\n",
       "      <td>0.002929</td>\n",
       "      <td>...</td>\n",
       "      <td>0.000439</td>\n",
       "      <td>0.000000</td>\n",
       "      <td>0.000293</td>\n",
       "      <td>0.007468</td>\n",
       "      <td>0.000732</td>\n",
       "      <td>0.000732</td>\n",
       "      <td>0.000293</td>\n",
       "      <td>0.053595</td>\n",
       "      <td>0.0</td>\n",
       "      <td>0.0</td>\n",
       "    </tr>\n",
       "    <tr>\n",
       "      <th>10002.0</th>\n",
       "      <td>30843.9574</td>\n",
       "      <td>46258.6118</td>\n",
       "      <td>70878</td>\n",
       "      <td>0.001330</td>\n",
       "      <td>0.000000</td>\n",
       "      <td>0.007095</td>\n",
       "      <td>0.0</td>\n",
       "      <td>0.000000</td>\n",
       "      <td>0.001862</td>\n",
       "      <td>0.001596</td>\n",
       "      <td>...</td>\n",
       "      <td>0.000443</td>\n",
       "      <td>0.000089</td>\n",
       "      <td>0.000355</td>\n",
       "      <td>0.002394</td>\n",
       "      <td>0.001242</td>\n",
       "      <td>0.000887</td>\n",
       "      <td>0.000621</td>\n",
       "      <td>0.028734</td>\n",
       "      <td>0.0</td>\n",
       "      <td>0.0</td>\n",
       "    </tr>\n",
       "    <tr>\n",
       "      <th>10003.0</th>\n",
       "      <td>89998.5339</td>\n",
       "      <td>139330.9968</td>\n",
       "      <td>53609</td>\n",
       "      <td>0.001331</td>\n",
       "      <td>0.000089</td>\n",
       "      <td>0.012690</td>\n",
       "      <td>0.0</td>\n",
       "      <td>0.000177</td>\n",
       "      <td>0.003905</td>\n",
       "      <td>0.002130</td>\n",
       "      <td>...</td>\n",
       "      <td>0.000621</td>\n",
       "      <td>0.000976</td>\n",
       "      <td>0.000177</td>\n",
       "      <td>0.004792</td>\n",
       "      <td>0.002218</td>\n",
       "      <td>0.001065</td>\n",
       "      <td>0.000444</td>\n",
       "      <td>0.028219</td>\n",
       "      <td>0.0</td>\n",
       "      <td>0.0</td>\n",
       "    </tr>\n",
       "    <tr>\n",
       "      <th>10004.0</th>\n",
       "      <td>110183.6857</td>\n",
       "      <td>156682.7615</td>\n",
       "      <td>1271</td>\n",
       "      <td>0.000000</td>\n",
       "      <td>0.000000</td>\n",
       "      <td>0.009740</td>\n",
       "      <td>0.0</td>\n",
       "      <td>0.000000</td>\n",
       "      <td>0.002597</td>\n",
       "      <td>0.001948</td>\n",
       "      <td>...</td>\n",
       "      <td>0.000649</td>\n",
       "      <td>0.000649</td>\n",
       "      <td>0.000000</td>\n",
       "      <td>0.010390</td>\n",
       "      <td>0.013636</td>\n",
       "      <td>0.000000</td>\n",
       "      <td>0.000000</td>\n",
       "      <td>0.024026</td>\n",
       "      <td>0.0</td>\n",
       "      <td>0.0</td>\n",
       "    </tr>\n",
       "    <tr>\n",
       "      <th>10005.0</th>\n",
       "      <td>115133.2855</td>\n",
       "      <td>163762.6601</td>\n",
       "      <td>1517</td>\n",
       "      <td>0.000000</td>\n",
       "      <td>0.000000</td>\n",
       "      <td>0.008219</td>\n",
       "      <td>0.0</td>\n",
       "      <td>0.000000</td>\n",
       "      <td>0.002192</td>\n",
       "      <td>0.000548</td>\n",
       "      <td>...</td>\n",
       "      <td>0.000000</td>\n",
       "      <td>0.000000</td>\n",
       "      <td>0.000000</td>\n",
       "      <td>0.013699</td>\n",
       "      <td>0.000000</td>\n",
       "      <td>0.000548</td>\n",
       "      <td>0.000000</td>\n",
       "      <td>0.019726</td>\n",
       "      <td>0.0</td>\n",
       "      <td>0.0</td>\n",
       "    </tr>\n",
       "  </tbody>\n",
       "</table>\n",
       "<p>5 rows × 165 columns</p>\n",
       "</div>"
      ],
      "text/plain": [
       "              Median         Mean    Pop  APPLIANCE  Adopt-A-Basket  \\\n",
       "Zip                                                                   \n",
       "10001.0   71244.6100  123112.7764  17678   0.000000        0.000146   \n",
       "10002.0   30843.9574   46258.6118  70878   0.001330        0.000000   \n",
       "10003.0   89998.5339  139330.9968  53609   0.001331        0.000089   \n",
       "10004.0  110183.6857  156682.7615   1271   0.000000        0.000000   \n",
       "10005.0  115133.2855  163762.6601   1517   0.000000        0.000000   \n",
       "\n",
       "         Air Quality  Animal Abuse  Animal Facility - No Permit  \\\n",
       "Zip                                                               \n",
       "10001.0     0.013179           0.0                     0.000000   \n",
       "10002.0     0.007095           0.0                     0.000000   \n",
       "10003.0     0.012690           0.0                     0.000177   \n",
       "10004.0     0.009740           0.0                     0.000000   \n",
       "10005.0     0.008219           0.0                     0.000000   \n",
       "\n",
       "         Animal in a Park  Asbestos           ...             \\\n",
       "Zip                                           ...              \n",
       "10001.0          0.000146  0.002929           ...              \n",
       "10002.0          0.001862  0.001596           ...              \n",
       "10003.0          0.003905  0.002130           ...              \n",
       "10004.0          0.002597  0.001948           ...              \n",
       "10005.0          0.002192  0.000548           ...              \n",
       "\n",
       "         Unsanitary Pigeon Condition  Urinating in Public  Vacant Lot  \\\n",
       "Zip                                                                     \n",
       "10001.0                     0.000439             0.000000    0.000293   \n",
       "10002.0                     0.000443             0.000089    0.000355   \n",
       "10003.0                     0.000621             0.000976    0.000177   \n",
       "10004.0                     0.000649             0.000649    0.000000   \n",
       "10005.0                     0.000000             0.000000    0.000000   \n",
       "\n",
       "          Vending  Violation of Park Rules  Water Conservation  Water Quality  \\\n",
       "Zip                                                                             \n",
       "10001.0  0.007468                 0.000732            0.000732       0.000293   \n",
       "10002.0  0.002394                 0.001242            0.000887       0.000621   \n",
       "10003.0  0.004792                 0.002218            0.001065       0.000444   \n",
       "10004.0  0.010390                 0.013636            0.000000       0.000000   \n",
       "10005.0  0.013699                 0.000000            0.000548       0.000000   \n",
       "\n",
       "         Water System  Window Guard  X-Ray Machine/Equipment  \n",
       "Zip                                                           \n",
       "10001.0      0.053595           0.0                      0.0  \n",
       "10002.0      0.028734           0.0                      0.0  \n",
       "10003.0      0.028219           0.0                      0.0  \n",
       "10004.0      0.024026           0.0                      0.0  \n",
       "10005.0      0.019726           0.0                      0.0  \n",
       "\n",
       "[5 rows x 165 columns]"
      ]
     },
     "execution_count": 35,
     "metadata": {},
     "output_type": "execute_result"
    }
   ],
   "source": [
    "DataIncome1.head()"
   ]
  },
  {
   "cell_type": "code",
   "execution_count": 36,
   "metadata": {},
   "outputs": [
    {
     "name": "stdout",
     "output_type": "stream",
     "text": [
      "                            OLS Regression Results                            \n",
      "==============================================================================\n",
      "Dep. Variable:                 Median   R-squared:                       0.994\n",
      "Model:                            OLS   Adj. R-squared:                  0.926\n",
      "Method:                 Least Squares   F-statistic:                     14.53\n",
      "Date:                Wed, 06 Nov 2019   Prob (F-statistic):           2.35e-06\n",
      "Time:                        16:40:54   Log-Likelihood:                -1569.2\n",
      "No. Observations:                 175   AIC:                             3462.\n",
      "Df Residuals:                      13   BIC:                             3975.\n",
      "Df Model:                         161                                         \n",
      "Covariance Type:            nonrobust                                         \n",
      "===========================================================================================================\n",
      "                                              coef    std err          t      P>|t|      [0.025      0.975]\n",
      "-----------------------------------------------------------------------------------------------------------\n",
      "const                                   -2.743e+06   4.33e+06     -0.633      0.538   -1.21e+07    6.61e+06\n",
      "APPLIANCE                                1.018e+06    6.3e+06      0.162      0.874   -1.26e+07    1.46e+07\n",
      "Adopt-A-Basket                           2.464e+06   2.61e+07      0.095      0.926   -5.38e+07    5.87e+07\n",
      "Air Quality                              5.704e+06   4.72e+06      1.210      0.248   -4.48e+06    1.59e+07\n",
      "Animal Abuse                             2.104e+06   6.03e+06      0.349      0.733   -1.09e+07    1.51e+07\n",
      "Animal Facility - No Permit             -6.253e+06   1.85e+07     -0.338      0.741   -4.63e+07    3.38e+07\n",
      "Animal in a Park                         3.486e+06   4.49e+06      0.777      0.451    -6.2e+06    1.32e+07\n",
      "Asbestos                                 2.554e+06   7.13e+06      0.358      0.726   -1.28e+07     1.8e+07\n",
      "BEST/Site Safety                        -8.579e+06   5.49e+06     -1.563      0.142   -2.04e+07    3.28e+06\n",
      "Beach/Pool/Sauna Complaint              -7.677e+06   9.88e+06     -0.777      0.451    -2.9e+07    1.37e+07\n",
      "Bike Rack Condition                      3.965e+06    1.8e+07      0.221      0.829   -3.48e+07    4.28e+07\n",
      "Bike/Roller/Skate Chronic                2.428e+05   8.08e+06      0.030      0.976   -1.72e+07    1.77e+07\n",
      "Blocked Driveway                         3.172e+06   4.34e+06      0.731      0.478    -6.2e+06    1.25e+07\n",
      "Boilers                                  7.558e+06   5.23e+06      1.446      0.172   -3.74e+06    1.89e+07\n",
      "Bottled Water                           -2.749e+07   4.75e+07     -0.578      0.573    -1.3e+08    7.52e+07\n",
      "Bridge Condition                         5.992e+06    4.4e+06      1.361      0.197   -3.52e+06    1.55e+07\n",
      "Broken Muni Meter                        3.134e+06   4.35e+06      0.721      0.484   -6.26e+06    1.25e+07\n",
      "Broken Parking Meter                    -3.856e+06   8.72e+06     -0.442      0.666   -2.27e+07     1.5e+07\n",
      "Building Condition                      -8.617e+07   7.26e+07     -1.186      0.257   -2.43e+08    7.07e+07\n",
      "Building/Use                             2.522e+06   4.39e+06      0.575      0.575   -6.95e+06     1.2e+07\n",
      "Bus Stop Shelter Placement               1.019e+07    7.6e+06      1.342      0.203   -6.21e+06    2.66e+07\n",
      "CONSTRUCTION                             8.249e+06   7.24e+06      1.139      0.275   -7.39e+06    2.39e+07\n",
      "Calorie Labeling                         1.464e+07   5.81e+07      0.252      0.805   -1.11e+08     1.4e+08\n",
      "City Vehicle Placard Complaint          -2.092e+07   9.89e+06     -2.115      0.054   -4.23e+07    4.51e+05\n",
      "Collection Truck Noise                  -2.067e+07   1.91e+07     -1.084      0.298   -6.19e+07    2.05e+07\n",
      "Construction                             1.836e+06   4.43e+06      0.415      0.685   -7.73e+06    1.14e+07\n",
      "Consumer Complaint                       3.005e+06   4.34e+06      0.693      0.500   -6.36e+06    1.24e+07\n",
      "Cranes and Derricks                      1.866e+07   9.48e+06      1.968      0.071   -1.83e+06    3.91e+07\n",
      "Curb Condition                          -4.178e+06    5.1e+06     -0.819      0.428   -1.52e+07    6.84e+06\n",
      "DOF Parking - Tax Exemption             -4.149e+06   5.27e+06     -0.787      0.446   -1.55e+07    7.25e+06\n",
      "DPR Internal                            -7.645e+06   8.46e+06     -0.903      0.383   -2.59e+07    1.06e+07\n",
      "Damaged Tree                             2.895e+06   4.26e+06      0.680      0.508    -6.3e+06    1.21e+07\n",
      "Dead Tree                                2.952e+06    4.4e+06      0.671      0.514   -6.56e+06    1.25e+07\n",
      "Derelict Bicycle                        -3.158e+05   5.42e+06     -0.058      0.954    -1.2e+07    1.14e+07\n",
      "Derelict Vehicle                         3.029e+06   4.35e+06      0.695      0.499   -6.38e+06    1.24e+07\n",
      "Derelict Vehicles                        3.245e+06   4.21e+06      0.771      0.455   -5.85e+06    1.23e+07\n",
      "Dirty Conditions                         2.973e+06   4.33e+06      0.687      0.504   -6.38e+06    1.23e+07\n",
      "Disorderly Youth                         7.097e+05   5.79e+06      0.123      0.904   -1.18e+07    1.32e+07\n",
      "Drinking                                 2.801e+06   6.52e+06      0.430      0.675   -1.13e+07    1.69e+07\n",
      "Drinking Water                          -2.595e+07   1.62e+07     -1.604      0.133   -6.09e+07    8.99e+06\n",
      "EAP Inspection - F59                     1.499e+06   5.48e+06      0.274      0.789   -1.03e+07    1.33e+07\n",
      "ELECTRIC                                  2.85e+06   4.47e+06      0.637      0.535   -6.81e+06    1.25e+07\n",
      "Electrical                               1.952e+06   6.03e+06      0.324      0.751   -1.11e+07     1.5e+07\n",
      "Elevator                                 2.324e+06   4.69e+06      0.496      0.628   -7.81e+06    1.25e+07\n",
      "Emergency Response Team (ERT)            1.426e+07   1.01e+07      1.418      0.180   -7.47e+06     3.6e+07\n",
      "Fire Alarm - Addition                    4.022e+07   3.94e+07      1.021      0.326   -4.49e+07    1.25e+08\n",
      "Fire Alarm - Modification               -1.072e+07   1.14e+07     -0.941      0.364   -3.53e+07    1.39e+07\n",
      "Fire Alarm - New System                  4.815e+07   1.87e+07      2.574      0.023    7.74e+06    8.86e+07\n",
      "Fire Alarm - Reinspection                5.207e+06   9.78e+06      0.532      0.603   -1.59e+07    2.63e+07\n",
      "Fire Alarm - Replacement                 9.892e+07   3.64e+07      2.716      0.018    2.02e+07    1.78e+08\n",
      "Fire Safety Director - F58               2.931e+06   4.58e+06      0.640      0.534   -6.97e+06    1.28e+07\n",
      "Food Establishment                       7.167e+05   5.15e+06      0.139      0.891   -1.04e+07    1.18e+07\n",
      "Food Poisoning                           2.747e+06   4.83e+06      0.569      0.579   -7.69e+06    1.32e+07\n",
      "For Hire Vehicle Complaint                3.49e+06   4.73e+06      0.737      0.474   -6.73e+06    1.37e+07\n",
      "Found Property                          -1.141e+07   1.45e+07     -0.788      0.445   -4.27e+07    1.99e+07\n",
      "GENERAL                                 -8.324e+05   4.66e+06     -0.179      0.861   -1.09e+07    9.24e+06\n",
      "GENERAL CONSTRUCTION                     2.775e+06   4.25e+06      0.652      0.526   -6.41e+06     1.2e+07\n",
      "General Construction/Plumbing            2.967e+06   4.46e+06      0.665      0.517   -6.67e+06    1.26e+07\n",
      "Graffiti                                 3.074e+06   4.33e+06      0.711      0.490   -6.27e+06    1.24e+07\n",
      "HEATING                                  2.739e+06   4.33e+06      0.633      0.538   -6.61e+06    1.21e+07\n",
      "Harboring Bees/Wasps                     1.101e+07   1.33e+07      0.828      0.423   -1.77e+07    3.97e+07\n",
      "Hazardous Materials                     -2.239e+06   5.01e+06     -0.447      0.662   -1.31e+07    8.59e+06\n",
      "Hazmat Storage/Use                      -9.613e+07   1.04e+08     -0.928      0.370    -3.2e+08    1.28e+08\n",
      "Highway Condition                        2.926e+06   4.39e+06      0.667      0.517   -6.55e+06    1.24e+07\n",
      "Highway Sign - Damaged                  -7.734e+06   3.08e+07     -0.251      0.806   -7.43e+07    5.88e+07\n",
      "Highway Sign - Dangling                 -3.115e+07   1.21e+08     -0.257      0.801   -2.93e+08     2.3e+08\n",
      "Highway Sign - Missing                   4.466e+06   3.87e+07      0.115      0.910   -7.91e+07    8.81e+07\n",
      "Homeless Encampment                      4.605e+06   5.35e+06      0.861      0.405   -6.94e+06    1.62e+07\n",
      "Homeless Person Assistance               -3.86e+06   5.49e+06     -0.703      0.494   -1.57e+07       8e+06\n",
      "Illegal Animal Kept as Pet              -5.012e+06   1.12e+07     -0.448      0.662   -2.92e+07    1.92e+07\n",
      "Illegal Animal Sold                      1.013e+07   1.74e+07      0.581      0.571   -2.75e+07    4.78e+07\n",
      "Illegal Fireworks                        5.823e+06   1.44e+07      0.405      0.692   -2.52e+07    3.69e+07\n",
      "Illegal Parking                          2.594e+06   4.39e+06      0.591      0.565   -6.89e+06    1.21e+07\n",
      "Illegal Tree Damage                      4.475e+06   5.16e+06      0.867      0.401   -6.67e+06    1.56e+07\n",
      "Indoor Air Quality                       5.192e+06   4.16e+06      1.249      0.234   -3.79e+06    1.42e+07\n",
      "Indoor Sewage                            1.128e+06   5.84e+06      0.193      0.850   -1.15e+07    1.37e+07\n",
      "Industrial Waste                         -1.85e+05   5.81e+06     -0.032      0.975   -1.27e+07    1.24e+07\n",
      "Investigations and Discipline (IAD)      9.723e+06   7.35e+06      1.323      0.208   -6.15e+06    2.56e+07\n",
      "Lead                                     5.579e+05   4.79e+06      0.117      0.909   -9.78e+06    1.09e+07\n",
      "Legal Services Provider Complaint       -8.514e+07   6.26e+07     -1.360      0.197    -2.2e+08    5.01e+07\n",
      "Lifeguard                                4.024e+07   5.23e+07      0.769      0.456   -7.28e+07    1.53e+08\n",
      "Literature Request                      -2.187e+08   4.97e+08     -0.440      0.667   -1.29e+09    8.55e+08\n",
      "Litter Basket / Request                  2.864e+06   4.75e+06      0.603      0.557    -7.4e+06    1.31e+07\n",
      "Maintenance or Facility                  3.685e+06   4.18e+06      0.882      0.394   -5.34e+06    1.27e+07\n",
      "Miscellaneous Categories                 1.598e+06   7.93e+06      0.202      0.843   -1.55e+07    1.87e+07\n",
      "Missed Collection (All Materials)        2.751e+06   4.39e+06      0.627      0.541   -6.72e+06    1.22e+07\n",
      "Mold                                    -5.122e+05   8.23e+06     -0.062      0.951   -1.83e+07    1.73e+07\n",
      "Municipal Parking Facility               1.006e+07   1.15e+07      0.874      0.398   -1.48e+07     3.5e+07\n",
      "NONCONST                                 2.706e+06   4.44e+06      0.610      0.553   -6.88e+06    1.23e+07\n",
      "Noise                                    3.009e+06   4.28e+06      0.703      0.494   -6.24e+06    1.23e+07\n",
      "Noise - Commercial                       2.881e+06   4.37e+06      0.660      0.521   -6.55e+06    1.23e+07\n",
      "Noise - Helicopter                       9.827e+06   4.96e+06      1.982      0.069   -8.87e+05    2.05e+07\n",
      "Noise - House of Worship                 7.988e+06   4.83e+06      1.653      0.122   -2.45e+06    1.84e+07\n",
      "Noise - Park                             2.431e+06   4.74e+06      0.513      0.617    -7.8e+06    1.27e+07\n",
      "Noise - Street/Sidewalk                  2.701e+06   4.27e+06      0.632      0.538   -6.53e+06    1.19e+07\n",
      "Noise - Vehicle                          2.546e+06   4.45e+06      0.572      0.577   -7.07e+06    1.22e+07\n",
      "Non-Residential Heat                     6.177e+06   7.19e+06      0.859      0.406   -9.36e+06    2.17e+07\n",
      "Open Flame Permit                        -2.75e+07   3.47e+07     -0.792      0.443   -1.03e+08    4.76e+07\n",
      "Other Enforcement                        3.346e+06   4.47e+06      0.748      0.468   -6.31e+06     1.3e+07\n",
      "Overflowing Litter Baskets               6.051e+06   5.16e+06      1.173      0.262   -5.09e+06    1.72e+07\n",
      "Overgrown Tree/Branches                  2.693e+06   4.41e+06      0.611      0.552   -6.83e+06    1.22e+07\n",
      "PAINT - PLASTER                           2.49e+06   4.31e+06      0.578      0.573   -6.82e+06    1.18e+07\n",
      "PAINT/PLASTER                            6.227e+05   6.56e+06      0.095      0.926   -1.35e+07    1.48e+07\n",
      "PLUMBING                                 3.075e+06   4.34e+06      0.709      0.491   -6.29e+06    1.24e+07\n",
      "Panhandling                              3.256e+05   7.38e+06      0.044      0.965   -1.56e+07    1.63e+07\n",
      "Plant                                    1.751e+06   3.89e+06      0.450      0.660   -6.65e+06    1.02e+07\n",
      "Plumbing                                  3.18e+05   5.11e+06      0.062      0.951   -1.07e+07    1.14e+07\n",
      "Poison Ivy                               7.368e+06   1.47e+07      0.500      0.625   -2.45e+07    3.92e+07\n",
      "Portable Toilet                         -2.474e+08   2.25e+08     -1.101      0.291   -7.33e+08    2.38e+08\n",
      "Posting Advertisement                    8.027e+05   1.76e+07      0.046      0.964   -3.71e+07    3.87e+07\n",
      "Public Assembly                         -2.845e+06   3.34e+07     -0.085      0.933   -7.51e+07    6.94e+07\n",
      "Public Assembly - Temporary              2.078e+08   2.17e+08      0.957      0.356   -2.61e+08    6.77e+08\n",
      "Public Payphone Complaint               -1.246e+07   7.88e+06     -1.580      0.138   -2.95e+07    4.57e+06\n",
      "Public Toilet                            2.054e+07   3.07e+07      0.669      0.515   -4.58e+07    8.69e+07\n",
      "Radioactive Material                     4.897e+07   8.28e+07      0.592      0.564    -1.3e+08    2.28e+08\n",
      "Rangehood                                3.281e+07   8.21e+07      0.400      0.696   -1.45e+08     2.1e+08\n",
      "Recycling Enforcement                    7.905e+06   9.72e+06      0.814      0.431   -1.31e+07    2.89e+07\n",
      "Rodent                                   2.823e+06   4.28e+06      0.659      0.521   -6.43e+06    1.21e+07\n",
      "Root/Sewer/Sidewalk Condition            2.702e+06   4.15e+06      0.652      0.526   -6.26e+06    1.17e+07\n",
      "SCRIE                                     4.45e+06   4.98e+06      0.893      0.388   -6.31e+06    1.52e+07\n",
      "STRUCTURAL                               3.381e+07   6.54e+07      0.517      0.614   -1.08e+08    1.75e+08\n",
      "Sanitation Condition                     1.769e+06   4.02e+06      0.440      0.667   -6.92e+06    1.05e+07\n",
      "Scaffold Safety                         -1.284e+07   1.45e+07     -0.885      0.392   -4.42e+07    1.85e+07\n",
      "School Maintenance                      -1.609e+06   4.39e+06     -0.367      0.720   -1.11e+07    7.87e+06\n",
      "Senior Center Complaint                  1.054e+07   1.31e+07      0.804      0.436   -1.78e+07    3.89e+07\n",
      "Sewer                                    2.851e+06   4.47e+06      0.638      0.535   -6.81e+06    1.25e+07\n",
      "Sidewalk Condition                        5.78e+06   4.61e+06      1.253      0.232   -4.18e+06    1.57e+07\n",
      "Smoking                                  1.113e+06   4.57e+06      0.244      0.811   -8.75e+06     1.1e+07\n",
      "Snow                                     2.602e+06      7e+06      0.372      0.716   -1.25e+07    1.77e+07\n",
      "Special Enforcement                      2.983e+06   4.02e+06      0.741      0.472   -5.71e+06    1.17e+07\n",
      "Special Natural Area District (SNAD)     1.912e+05   8.55e+06      0.022      0.982   -1.83e+07    1.87e+07\n",
      "Special Projects Inspection Team (SPIT)  1.832e+06   4.25e+06      0.431      0.674   -7.35e+06     1.1e+07\n",
      "Sprinkler - Mechanical                   5.163e+07   1.86e+08      0.278      0.786    -3.5e+08    4.53e+08\n",
      "Squeegee                                 1.413e+08   1.56e+08      0.904      0.383   -1.96e+08    4.79e+08\n",
      "Stalled Sites                            2.935e+06   2.05e+07      0.143      0.888   -4.14e+07    4.72e+07\n",
      "Standing Water                           6.929e+06   4.42e+06      1.566      0.141   -2.63e+06    1.65e+07\n",
      "Standpipe - Mechanical                   8.374e+07    1.7e+08      0.492      0.631   -2.84e+08    4.52e+08\n",
      "Street Condition                         2.953e+06   4.37e+06      0.675      0.511    -6.5e+06    1.24e+07\n",
      "Street Light Condition                   2.959e+06   4.38e+06      0.676      0.511   -6.49e+06    1.24e+07\n",
      "Street Sign - Damaged                    2.104e+06   4.31e+06      0.489      0.633    -7.2e+06    1.14e+07\n",
      "Street Sign - Dangling                   2.157e+06   6.18e+06      0.349      0.733   -1.12e+07    1.55e+07\n",
      "Street Sign - Missing                    4.523e+06   4.12e+06      1.099      0.292   -4.37e+06    1.34e+07\n",
      "Summer Camp                              -2.55e+08   1.09e+08     -2.330      0.037   -4.91e+08   -1.86e+07\n",
      "Sweeping/Missed-Inadequate               1.293e+06   6.47e+06      0.200      0.845   -1.27e+07    1.53e+07\n",
      "Tattooing                                2.796e+07   1.31e+07      2.142      0.052   -2.36e+05    5.62e+07\n",
      "Taxi Complaint                           2.916e+06   4.43e+06      0.659      0.521   -6.64e+06    1.25e+07\n",
      "Traffic                                  2.544e+06   4.68e+06      0.543      0.596   -7.57e+06    1.27e+07\n",
      "Traffic Signal Condition                 2.679e+06   4.49e+06      0.596      0.561   -7.03e+06    1.24e+07\n",
      "Trans Fat                               -1.627e+07   6.08e+07     -0.267      0.793   -1.48e+08    1.15e+08\n",
      "Transportation Provider Complaint        3.344e+07   3.55e+07      0.943      0.363   -4.32e+07     1.1e+08\n",
      "Unleashed Dog                            3.947e+06   6.39e+06      0.618      0.547   -9.86e+06    1.78e+07\n",
      "Unsanitary Animal Facility                2.26e+06   9.58e+06      0.236      0.817   -1.84e+07     2.3e+07\n",
      "Unsanitary Animal Pvt Property           4.624e+06   6.91e+06      0.670      0.515   -1.03e+07    1.95e+07\n",
      "Unsanitary Pigeon Condition              -1.62e+07   6.43e+06     -2.518      0.026   -3.01e+07    -2.3e+06\n",
      "Urinating in Public                      5.325e+05   9.03e+06      0.059      0.954    -1.9e+07       2e+07\n",
      "Vacant Lot                               2.457e+06   4.38e+06      0.561      0.584   -7.01e+06    1.19e+07\n",
      "Vending                                  2.576e+06   4.55e+06      0.566      0.581   -7.25e+06    1.24e+07\n",
      "Violation of Park Rules                  8.105e+05   4.92e+06      0.165      0.872   -9.82e+06    1.14e+07\n",
      "Water Conservation                       2.515e+06   4.46e+06      0.564      0.582   -7.12e+06    1.21e+07\n",
      "Water Quality                            3.891e+06   7.09e+06      0.548      0.593   -1.14e+07    1.92e+07\n",
      "Water System                             2.725e+06   4.28e+06      0.636      0.536   -6.53e+06     1.2e+07\n",
      "Window Guard                            -1.543e+07   4.09e+07     -0.377      0.712   -1.04e+08     7.3e+07\n",
      "X-Ray Machine/Equipment                 -3.647e+07   5.45e+07     -0.669      0.515   -1.54e+08    8.13e+07\n",
      "==============================================================================\n",
      "Omnibus:                       25.062   Durbin-Watson:                   2.105\n",
      "Prob(Omnibus):                  0.000   Jarque-Bera (JB):               93.724\n",
      "Skew:                           0.414   Prob(JB):                     4.45e-21\n",
      "Kurtosis:                       6.488   Cond. No.                     6.20e+15\n",
      "==============================================================================\n",
      "\n",
      "Warnings:\n",
      "[1] Standard Errors assume that the covariance matrix of the errors is correctly specified.\n",
      "[2] The smallest eigenvalue is 4.71e-30. This might indicate that there are\n",
      "strong multicollinearity problems or that the design matrix is singular.\n"
     ]
    }
   ],
   "source": [
    "data=DataIncome1.iloc[:,3:]\n",
    "Y=DataIncome1.Median\n",
    "lm=sm.OLS(Y,sm.add_constant(data)).fit()\n",
    "print lm.summary()"
   ]
  },
  {
   "cell_type": "code",
   "execution_count": 37,
   "metadata": {},
   "outputs": [
    {
     "data": {
      "text/plain": [
       "(175, 165)"
      ]
     },
     "execution_count": 37,
     "metadata": {},
     "output_type": "execute_result"
    }
   ],
   "source": [
    "#however as we see number of observations almost matches the number of regressors (162)\n",
    "DataIncome1.shape"
   ]
  },
  {
   "cell_type": "code",
   "execution_count": 38,
   "metadata": {},
   "outputs": [
    {
     "name": "stdout",
     "output_type": "stream",
     "text": [
      "IS R-squared is 0.578+-0.030\n",
      "OS R-squared is 0.371+-0.138\n"
     ]
    }
   ],
   "source": [
    "np.random.seed(0)\n",
    "# Apply cross-validation to diagnose model for overfitting\n",
    "np.random.seed(2018)\n",
    "R_IS=[]; R_OS=[] #lists for recording in-sample (training) and out-of-sample (test) R2\n",
    "n=100 #number of runs\n",
    "for i in range(n):\n",
    "    X_train, X_test, y_train, y_test = train_test_split(sm.add_constant(data.iloc[:,:10]),Y,test_size=0.3) #randomly split data into training (70%) and test (30%)\n",
    "    res=sm.OLS(y_train,X_train).fit()\n",
    "    R_IS.append(res.rsquared)   \n",
    "    y_pred=res.predict(X_test)\n",
    "    R_OS.append(r2_score(y_test,y_pred))\n",
    "    \n",
    "    #R_OS.append(1-((np.asarray(res.predict(X_test))-y_test)**2).sum()/((y_test-np.mean(y_test))**2).sum())\n",
    "print(\"IS R-squared is %.3f+-%.3f\"%(np.mean(R_IS),np.std(R_IS)))\n",
    "print(\"OS R-squared is %.3f+-%.3f\"%(np.mean(R_OS),np.std(R_OS)))"
   ]
  },
  {
   "cell_type": "markdown",
   "metadata": {},
   "source": [
    "Severe overfitting encountered, even if we take either half of the variables (making sure regression is not going to be a simple linear model), the pattern is still the same. Feature selection can help but even this does not allow to get above 40% OS R2"
   ]
  },
  {
   "cell_type": "code",
   "execution_count": 39,
   "metadata": {},
   "outputs": [
    {
     "name": "stdout",
     "output_type": "stream",
     "text": [
      "IS R-squared is 0.605+-0.037\n",
      "OS R-squared is 0.560+-0.098\n"
     ]
    }
   ],
   "source": [
    "np.random.seed(0)\n",
    "# Apply cross-validation to diagnose model for overfitting\n",
    "R_IS=[]; R_OS=[] #lists for recording in-sample (training) and out-of-sample (test) R2\n",
    "n=100 #number of runs\n",
    "for i in range(n):\n",
    "    X_train, X_test, y_train, y_test = train_test_split(data.iloc[:,:],Y,test_size=0.3) #randomly split data into training (70%) and test (30%)\n",
    "    #now apply PCA to the training data\n",
    "    scaler = preprocessing.StandardScaler().fit(X_train) #introduce a scaler first as it is important to scale data before PCA!\n",
    "    pca = PCA(3) #take only 3 leading principal components to get enough data but avoid overfitting\n",
    "    P_train=pca.fit_transform(scaler.transform(X_train)) #get principal components for the scaled training sample\n",
    "    res=sm.OLS(y_train,sm.add_constant(P_train)).fit() #fit the regression over \n",
    "    #and apply the same scaling and rotation (PCA) transform we learned for training sample to the test sample\n",
    "    #this is important that we learn scaling and PCA transform from the training sample only rather than from both - training and test\n",
    "    #as this is part of the principle component regression we need to train; and all training should happen over the training set\n",
    "    P_test=pca.transform(scaler.transform(X_test))\n",
    "    y_pred=np.asarray(res.predict(sm.add_constant(P_test)))\n",
    "    \n",
    "    R_IS.append(res.rsquared)\n",
    "    R_OS.append(r2_score(y_test,y_pred))\n",
    "print(\"IS R-squared is %.3f+-%.3f\"%(np.mean(R_IS),np.std(R_IS)))\n",
    "print(\"OS R-squared is %.3f+-%.3f\"%(np.mean(R_OS),np.std(R_OS)))"
   ]
  },
  {
   "cell_type": "markdown",
   "metadata": {},
   "source": [
    "Out of sample R2 is now 56%! And almost as high ar IS R2, so almost no overfitting"
   ]
  },
  {
   "cell_type": "markdown",
   "metadata": {},
   "source": [
    "# Task 2. \n",
    "a) Repeat the analysis above for Mean income. \n",
    "\n",
    "b) Analyze performance depending on the number N of leading PCs to take. \n",
    "\n",
    "c) Try implementing Lasso regression (feature selection) over all the PCs instead of selecting the top 5. Manually tune the regularization parameter\n",
    "\n",
    "d) Now implement cross-validation for Lasso PCA regression above with further splitting the training sample into training and validation and tuning the parameter over the validation sample"
   ]
  },
  {
   "cell_type": "code",
   "execution_count": null,
   "metadata": {},
   "outputs": [],
   "source": []
  }
 ],
 "metadata": {
  "anaconda-cloud": {},
  "kernelspec": {
   "display_name": "Python 3",
   "language": "python",
   "name": "python3"
  },
  "language_info": {
   "codemirror_mode": {
    "name": "ipython",
    "version": 3
   },
   "file_extension": ".py",
   "mimetype": "text/x-python",
   "name": "python",
   "nbconvert_exporter": "python",
   "pygments_lexer": "ipython3",
   "version": "3.7.4"
  }
 },
 "nbformat": 4,
 "nbformat_minor": 4
}
