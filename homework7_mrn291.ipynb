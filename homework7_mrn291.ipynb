{
 "cells": [
  {
   "cell_type": "markdown",
   "metadata": {},
   "source": [
    "# Homework 5 session 8,9"
   ]
  },
  {
   "cell_type": "markdown",
   "metadata": {},
   "source": [
    "## Task 1. Visualization of Hand-Written Digits\n",
    "\n",
    "As one of the examples sklearn provides a dataset of handwritten digits. This data includes impages of 1787 digits. For each digit, we have 64 variables x1,x2,...x64, each one representing a pixel (grayscale from 0 to 16) on the 8x8 image. The label (y) for each image is the actual digit it represents from 0 to 9.  "
   ]
  },
  {
   "cell_type": "code",
   "execution_count": 79,
   "metadata": {},
   "outputs": [],
   "source": [
    "import numpy as np\n",
    "import matplotlib.pyplot as plt\n",
    "import pandas as pd\n",
    "import matplotlib.pyplot as plt\n",
    "%matplotlib inline\n",
    "import statsmodels.formula.api as smf\n",
    "import statsmodels.api as sm\n",
    "from sklearn.decomposition import PCA\n",
    "from scipy.stats import t\n",
    "from sklearn import preprocessing"
   ]
  },
  {
   "cell_type": "code",
   "execution_count": 2,
   "metadata": {},
   "outputs": [
    {
     "data": {
      "text/html": [
       "<div>\n",
       "<style scoped>\n",
       "    .dataframe tbody tr th:only-of-type {\n",
       "        vertical-align: middle;\n",
       "    }\n",
       "\n",
       "    .dataframe tbody tr th {\n",
       "        vertical-align: top;\n",
       "    }\n",
       "\n",
       "    .dataframe thead th {\n",
       "        text-align: right;\n",
       "    }\n",
       "</style>\n",
       "<table border=\"1\" class=\"dataframe\">\n",
       "  <thead>\n",
       "    <tr style=\"text-align: right;\">\n",
       "      <th></th>\n",
       "      <th>y</th>\n",
       "      <th>x1</th>\n",
       "      <th>x2</th>\n",
       "      <th>x3</th>\n",
       "      <th>x4</th>\n",
       "      <th>x5</th>\n",
       "      <th>x6</th>\n",
       "      <th>x7</th>\n",
       "      <th>x8</th>\n",
       "      <th>x9</th>\n",
       "      <th>...</th>\n",
       "      <th>x55</th>\n",
       "      <th>x56</th>\n",
       "      <th>x57</th>\n",
       "      <th>x58</th>\n",
       "      <th>x59</th>\n",
       "      <th>x60</th>\n",
       "      <th>x61</th>\n",
       "      <th>x62</th>\n",
       "      <th>x63</th>\n",
       "      <th>x64</th>\n",
       "    </tr>\n",
       "  </thead>\n",
       "  <tbody>\n",
       "    <tr>\n",
       "      <td>0</td>\n",
       "      <td>0.0</td>\n",
       "      <td>0.0</td>\n",
       "      <td>0.0</td>\n",
       "      <td>5.0</td>\n",
       "      <td>13.0</td>\n",
       "      <td>9.0</td>\n",
       "      <td>1.0</td>\n",
       "      <td>0.0</td>\n",
       "      <td>0.0</td>\n",
       "      <td>0.0</td>\n",
       "      <td>...</td>\n",
       "      <td>0.0</td>\n",
       "      <td>0.0</td>\n",
       "      <td>0.0</td>\n",
       "      <td>0.0</td>\n",
       "      <td>6.0</td>\n",
       "      <td>13.0</td>\n",
       "      <td>10.0</td>\n",
       "      <td>0.0</td>\n",
       "      <td>0.0</td>\n",
       "      <td>0.0</td>\n",
       "    </tr>\n",
       "    <tr>\n",
       "      <td>1</td>\n",
       "      <td>1.0</td>\n",
       "      <td>0.0</td>\n",
       "      <td>0.0</td>\n",
       "      <td>0.0</td>\n",
       "      <td>12.0</td>\n",
       "      <td>13.0</td>\n",
       "      <td>5.0</td>\n",
       "      <td>0.0</td>\n",
       "      <td>0.0</td>\n",
       "      <td>0.0</td>\n",
       "      <td>...</td>\n",
       "      <td>0.0</td>\n",
       "      <td>0.0</td>\n",
       "      <td>0.0</td>\n",
       "      <td>0.0</td>\n",
       "      <td>0.0</td>\n",
       "      <td>11.0</td>\n",
       "      <td>16.0</td>\n",
       "      <td>10.0</td>\n",
       "      <td>0.0</td>\n",
       "      <td>0.0</td>\n",
       "    </tr>\n",
       "    <tr>\n",
       "      <td>2</td>\n",
       "      <td>2.0</td>\n",
       "      <td>0.0</td>\n",
       "      <td>0.0</td>\n",
       "      <td>0.0</td>\n",
       "      <td>4.0</td>\n",
       "      <td>15.0</td>\n",
       "      <td>12.0</td>\n",
       "      <td>0.0</td>\n",
       "      <td>0.0</td>\n",
       "      <td>0.0</td>\n",
       "      <td>...</td>\n",
       "      <td>5.0</td>\n",
       "      <td>0.0</td>\n",
       "      <td>0.0</td>\n",
       "      <td>0.0</td>\n",
       "      <td>0.0</td>\n",
       "      <td>3.0</td>\n",
       "      <td>11.0</td>\n",
       "      <td>16.0</td>\n",
       "      <td>9.0</td>\n",
       "      <td>0.0</td>\n",
       "    </tr>\n",
       "    <tr>\n",
       "      <td>3</td>\n",
       "      <td>3.0</td>\n",
       "      <td>0.0</td>\n",
       "      <td>0.0</td>\n",
       "      <td>7.0</td>\n",
       "      <td>15.0</td>\n",
       "      <td>13.0</td>\n",
       "      <td>1.0</td>\n",
       "      <td>0.0</td>\n",
       "      <td>0.0</td>\n",
       "      <td>0.0</td>\n",
       "      <td>...</td>\n",
       "      <td>9.0</td>\n",
       "      <td>0.0</td>\n",
       "      <td>0.0</td>\n",
       "      <td>0.0</td>\n",
       "      <td>7.0</td>\n",
       "      <td>13.0</td>\n",
       "      <td>13.0</td>\n",
       "      <td>9.0</td>\n",
       "      <td>0.0</td>\n",
       "      <td>0.0</td>\n",
       "    </tr>\n",
       "    <tr>\n",
       "      <td>4</td>\n",
       "      <td>4.0</td>\n",
       "      <td>0.0</td>\n",
       "      <td>0.0</td>\n",
       "      <td>0.0</td>\n",
       "      <td>1.0</td>\n",
       "      <td>11.0</td>\n",
       "      <td>0.0</td>\n",
       "      <td>0.0</td>\n",
       "      <td>0.0</td>\n",
       "      <td>0.0</td>\n",
       "      <td>...</td>\n",
       "      <td>0.0</td>\n",
       "      <td>0.0</td>\n",
       "      <td>0.0</td>\n",
       "      <td>0.0</td>\n",
       "      <td>0.0</td>\n",
       "      <td>2.0</td>\n",
       "      <td>16.0</td>\n",
       "      <td>4.0</td>\n",
       "      <td>0.0</td>\n",
       "      <td>0.0</td>\n",
       "    </tr>\n",
       "  </tbody>\n",
       "</table>\n",
       "<p>5 rows × 65 columns</p>\n",
       "</div>"
      ],
      "text/plain": [
       "     y   x1   x2   x3    x4    x5    x6   x7   x8   x9  ...  x55  x56  x57  \\\n",
       "0  0.0  0.0  0.0  5.0  13.0   9.0   1.0  0.0  0.0  0.0  ...  0.0  0.0  0.0   \n",
       "1  1.0  0.0  0.0  0.0  12.0  13.0   5.0  0.0  0.0  0.0  ...  0.0  0.0  0.0   \n",
       "2  2.0  0.0  0.0  0.0   4.0  15.0  12.0  0.0  0.0  0.0  ...  5.0  0.0  0.0   \n",
       "3  3.0  0.0  0.0  7.0  15.0  13.0   1.0  0.0  0.0  0.0  ...  9.0  0.0  0.0   \n",
       "4  4.0  0.0  0.0  0.0   1.0  11.0   0.0  0.0  0.0  0.0  ...  0.0  0.0  0.0   \n",
       "\n",
       "   x58  x59   x60   x61   x62  x63  x64  \n",
       "0  0.0  6.0  13.0  10.0   0.0  0.0  0.0  \n",
       "1  0.0  0.0  11.0  16.0  10.0  0.0  0.0  \n",
       "2  0.0  0.0   3.0  11.0  16.0  9.0  0.0  \n",
       "3  0.0  7.0  13.0  13.0   9.0  0.0  0.0  \n",
       "4  0.0  0.0   2.0  16.0   4.0  0.0  0.0  \n",
       "\n",
       "[5 rows x 65 columns]"
      ]
     },
     "execution_count": 2,
     "metadata": {},
     "output_type": "execute_result"
    }
   ],
   "source": [
    "#Load the data\n",
    "import numpy as np\n",
    "import pandas as pd\n",
    "from sklearn.datasets import load_digits\n",
    "digits = load_digits()\n",
    "X = digits.data # the digits data\n",
    "y = digits.target # the labels for the digits. This label is only used for coloring the points.\n",
    "#Make a dataframe\n",
    "data=pd.DataFrame(np.concatenate((y.reshape(len(y),1),X),axis=1))\n",
    "data.columns=[\"y\"]+[\"x{}\".format(i) for i in range(1,65)]\n",
    "data.head()"
   ]
  },
  {
   "cell_type": "code",
   "execution_count": 3,
   "metadata": {},
   "outputs": [
    {
     "data": {
      "text/plain": [
       "(1797, 64)"
      ]
     },
     "execution_count": 3,
     "metadata": {},
     "output_type": "execute_result"
    }
   ],
   "source": [
    "#original image data is a 2D array\n",
    "X.shape"
   ]
  },
  {
   "cell_type": "code",
   "execution_count": 4,
   "metadata": {},
   "outputs": [],
   "source": [
    "#split data into training, validation and test samples\n",
    "X1=X[:1000,:]; y1=y[:1000]\n",
    "X2=X[1000:-300,:]; y2=y[1000:-300]\n",
    "X3=X[-300:,:]; y3=y[-300:]"
   ]
  },
  {
   "cell_type": "markdown",
   "metadata": {},
   "source": [
    "#### If we take the first 10 observations and reconstruct the graph and we could see:  "
   ]
  },
  {
   "cell_type": "code",
   "execution_count": 49,
   "metadata": {
    "scrolled": true
   },
   "outputs": [
    {
     "name": "stdout",
     "output_type": "stream",
     "text": [
      "Label:[0, 1, 2, 3, 4, 5, 6, 7, 8, 9]\n"
     ]
    },
    {
     "data": {
      "image/png": "[encoded data removed]",
      "text/plain": [
       "<Figure size 720x72 with 10 Axes>"
      ]
     },
     "metadata": {
      "needs_background": "light"
     },
     "output_type": "display_data"
    }
   ],
   "source": [
    "#plot the digits using imshow from matplotlib\n",
    "plt.figure(figsize=(10,1))\n",
    "print(\"Label:{}\".format(list(y[:10])))\n",
    "for i in range(10):\n",
    "    plt.subplot(1,10,i+1)\n",
    "    plt.imshow(X[i].reshape(8,8), cmap=plt.cm.gray_r)\n",
    "plt.show();"
   ]
  },
  {
   "cell_type": "markdown",
   "metadata": {},
   "source": [
    "Now apply PCA to see if we can describe the data with a smaller number of most significant features"
   ]
  },
  {
   "cell_type": "markdown",
   "metadata": {},
   "source": [
    "### Q1. Use PCA to transform the first 1000 digit images (X1). How many leading principal components are needed to cover a)50%, b)80% of the information from the original dataset?\n",
    "Make sure to standardize the data beofe applying PCA"
   ]
  },
  {
   "cell_type": "code",
   "execution_count": 12,
   "metadata": {},
   "outputs": [],
   "source": [
    "X1_Scaled = preprocessing.StandardScaler().fit(X1)\n",
    "X1_Scaled = X1_Scaled.transform(X1)  "
   ]
  },
  {
   "cell_type": "code",
   "execution_count": 14,
   "metadata": {},
   "outputs": [],
   "source": [
    "X1_Scaled = pd.DataFrame(X1_Scaled)"
   ]
  },
  {
   "cell_type": "code",
   "execution_count": 16,
   "metadata": {},
   "outputs": [
    {
     "data": {
      "text/html": [
       "<div>\n",
       "<style scoped>\n",
       "    .dataframe tbody tr th:only-of-type {\n",
       "        vertical-align: middle;\n",
       "    }\n",
       "\n",
       "    .dataframe tbody tr th {\n",
       "        vertical-align: top;\n",
       "    }\n",
       "\n",
       "    .dataframe thead th {\n",
       "        text-align: right;\n",
       "    }\n",
       "</style>\n",
       "<table border=\"1\" class=\"dataframe\">\n",
       "  <thead>\n",
       "    <tr style=\"text-align: right;\">\n",
       "      <th></th>\n",
       "      <th>0</th>\n",
       "      <th>1</th>\n",
       "      <th>2</th>\n",
       "      <th>3</th>\n",
       "      <th>4</th>\n",
       "      <th>5</th>\n",
       "      <th>6</th>\n",
       "      <th>7</th>\n",
       "      <th>8</th>\n",
       "      <th>9</th>\n",
       "      <th>...</th>\n",
       "      <th>54</th>\n",
       "      <th>55</th>\n",
       "      <th>56</th>\n",
       "      <th>57</th>\n",
       "      <th>58</th>\n",
       "      <th>59</th>\n",
       "      <th>60</th>\n",
       "      <th>61</th>\n",
       "      <th>62</th>\n",
       "      <th>63</th>\n",
       "    </tr>\n",
       "  </thead>\n",
       "  <tbody>\n",
       "    <tr>\n",
       "      <td>0</td>\n",
       "      <td>0.0</td>\n",
       "      <td>-0.310025</td>\n",
       "      <td>0.047254</td>\n",
       "      <td>0.379835</td>\n",
       "      <td>-0.626913</td>\n",
       "      <td>-0.871974</td>\n",
       "      <td>-0.430134</td>\n",
       "      <td>-0.140883</td>\n",
       "      <td>-0.031639</td>\n",
       "      <td>-0.611056</td>\n",
       "      <td>...</td>\n",
       "      <td>-0.771574</td>\n",
       "      <td>-0.200248</td>\n",
       "      <td>-0.031639</td>\n",
       "      <td>-0.291074</td>\n",
       "      <td>0.184702</td>\n",
       "      <td>0.253910</td>\n",
       "      <td>-0.416104</td>\n",
       "      <td>-1.202572</td>\n",
       "      <td>-0.529799</td>\n",
       "      <td>-0.204578</td>\n",
       "    </tr>\n",
       "    <tr>\n",
       "      <td>1</td>\n",
       "      <td>0.0</td>\n",
       "      <td>-0.310025</td>\n",
       "      <td>-1.041558</td>\n",
       "      <td>0.151294</td>\n",
       "      <td>0.299103</td>\n",
       "      <td>-0.160159</td>\n",
       "      <td>-0.430134</td>\n",
       "      <td>-0.140883</td>\n",
       "      <td>-0.031639</td>\n",
       "      <td>-0.611056</td>\n",
       "      <td>...</td>\n",
       "      <td>-0.771574</td>\n",
       "      <td>-0.200248</td>\n",
       "      <td>-0.031639</td>\n",
       "      <td>-0.291074</td>\n",
       "      <td>-1.041198</td>\n",
       "      <td>-0.197084</td>\n",
       "      <td>0.839113</td>\n",
       "      <td>0.475591</td>\n",
       "      <td>-0.529799</td>\n",
       "      <td>-0.204578</td>\n",
       "    </tr>\n",
       "    <tr>\n",
       "      <td>2</td>\n",
       "      <td>0.0</td>\n",
       "      <td>-0.310025</td>\n",
       "      <td>-1.041558</td>\n",
       "      <td>-1.677032</td>\n",
       "      <td>0.762112</td>\n",
       "      <td>1.085519</td>\n",
       "      <td>-0.430134</td>\n",
       "      <td>-0.140883</td>\n",
       "      <td>-0.031639</td>\n",
       "      <td>-0.611056</td>\n",
       "      <td>...</td>\n",
       "      <td>0.278472</td>\n",
       "      <td>-0.200248</td>\n",
       "      <td>-0.031639</td>\n",
       "      <td>-0.291074</td>\n",
       "      <td>-1.041198</td>\n",
       "      <td>-2.001060</td>\n",
       "      <td>-0.206902</td>\n",
       "      <td>1.482489</td>\n",
       "      <td>1.557849</td>\n",
       "      <td>-0.204578</td>\n",
       "    </tr>\n",
       "    <tr>\n",
       "      <td>3</td>\n",
       "      <td>0.0</td>\n",
       "      <td>-0.310025</td>\n",
       "      <td>0.482780</td>\n",
       "      <td>0.836916</td>\n",
       "      <td>0.299103</td>\n",
       "      <td>-0.871974</td>\n",
       "      <td>-0.430134</td>\n",
       "      <td>-0.140883</td>\n",
       "      <td>-0.031639</td>\n",
       "      <td>2.295274</td>\n",
       "      <td>...</td>\n",
       "      <td>1.118510</td>\n",
       "      <td>-0.200248</td>\n",
       "      <td>-0.031639</td>\n",
       "      <td>-0.291074</td>\n",
       "      <td>0.389019</td>\n",
       "      <td>0.253910</td>\n",
       "      <td>0.211504</td>\n",
       "      <td>0.307775</td>\n",
       "      <td>-0.529799</td>\n",
       "      <td>-0.204578</td>\n",
       "    </tr>\n",
       "    <tr>\n",
       "      <td>4</td>\n",
       "      <td>0.0</td>\n",
       "      <td>-0.310025</td>\n",
       "      <td>-1.041558</td>\n",
       "      <td>-2.362655</td>\n",
       "      <td>-0.163905</td>\n",
       "      <td>-1.049928</td>\n",
       "      <td>-0.430134</td>\n",
       "      <td>-0.140883</td>\n",
       "      <td>-0.031639</td>\n",
       "      <td>-0.611056</td>\n",
       "      <td>...</td>\n",
       "      <td>-0.771574</td>\n",
       "      <td>-0.200248</td>\n",
       "      <td>-0.031639</td>\n",
       "      <td>-0.291074</td>\n",
       "      <td>-1.041198</td>\n",
       "      <td>-2.226557</td>\n",
       "      <td>0.839113</td>\n",
       "      <td>-0.531306</td>\n",
       "      <td>-0.529799</td>\n",
       "      <td>-0.204578</td>\n",
       "    </tr>\n",
       "  </tbody>\n",
       "</table>\n",
       "<p>5 rows × 64 columns</p>\n",
       "</div>"
      ],
      "text/plain": [
       "    0         1         2         3         4         5         6         7   \\\n",
       "0  0.0 -0.310025  0.047254  0.379835 -0.626913 -0.871974 -0.430134 -0.140883   \n",
       "1  0.0 -0.310025 -1.041558  0.151294  0.299103 -0.160159 -0.430134 -0.140883   \n",
       "2  0.0 -0.310025 -1.041558 -1.677032  0.762112  1.085519 -0.430134 -0.140883   \n",
       "3  0.0 -0.310025  0.482780  0.836916  0.299103 -0.871974 -0.430134 -0.140883   \n",
       "4  0.0 -0.310025 -1.041558 -2.362655 -0.163905 -1.049928 -0.430134 -0.140883   \n",
       "\n",
       "         8         9   ...        54        55        56        57        58  \\\n",
       "0 -0.031639 -0.611056  ... -0.771574 -0.200248 -0.031639 -0.291074  0.184702   \n",
       "1 -0.031639 -0.611056  ... -0.771574 -0.200248 -0.031639 -0.291074 -1.041198   \n",
       "2 -0.031639 -0.611056  ...  0.278472 -0.200248 -0.031639 -0.291074 -1.041198   \n",
       "3 -0.031639  2.295274  ...  1.118510 -0.200248 -0.031639 -0.291074  0.389019   \n",
       "4 -0.031639 -0.611056  ... -0.771574 -0.200248 -0.031639 -0.291074 -1.041198   \n",
       "\n",
       "         59        60        61        62        63  \n",
       "0  0.253910 -0.416104 -1.202572 -0.529799 -0.204578  \n",
       "1 -0.197084  0.839113  0.475591 -0.529799 -0.204578  \n",
       "2 -2.001060 -0.206902  1.482489  1.557849 -0.204578  \n",
       "3  0.253910  0.211504  0.307775 -0.529799 -0.204578  \n",
       "4 -2.226557  0.839113 -0.531306 -0.529799 -0.204578  \n",
       "\n",
       "[5 rows x 64 columns]"
      ]
     },
     "execution_count": 16,
     "metadata": {},
     "output_type": "execute_result"
    }
   ],
   "source": [
    "X1_Scaled.head()"
   ]
  },
  {
   "cell_type": "code",
   "execution_count": 19,
   "metadata": {},
   "outputs": [
    {
     "data": {
      "image/png": "[encoded data removed]",
      "text/plain": [
       "<Figure size 432x288 with 1 Axes>"
      ]
     },
     "metadata": {
      "needs_background": "light"
     },
     "output_type": "display_data"
    }
   ],
   "source": [
    "#perform PCA\n",
    "\n",
    "pca = PCA(X1_Scaled.shape[1])\n",
    "X1_PCA = pca.fit_transform(X1_Scaled)\n",
    "eigenvalues = pca.explained_variance_ratio_\n",
    "#plot explained variance over the number of compinents\n",
    "n = X1_Scaled.shape[1]\n",
    "plt.bar(np.arange(n), eigenvalues[:n].cumsum())\n",
    "plt.xlabel(\"Number of components\")\n",
    "plt.ylabel(\"Explained Variance\")\n",
    "plt.show()"
   ]
  },
  {
   "cell_type": "code",
   "execution_count": 24,
   "metadata": {},
   "outputs": [
    {
     "data": {
      "text/plain": [
       "array([0.12117158, 0.21842642, 0.30171324, 0.37292544, 0.42574564,\n",
       "       0.46904319, 0.50954427, 0.54212306, 0.57401957, 0.60263202,\n",
       "       0.6293656 , 0.65292043, 0.67430242, 0.69507522, 0.71327924,\n",
       "       0.73013008, 0.7467151 , 0.7629762 , 0.77899253, 0.7942588 ,\n",
       "       0.80882039, 0.822905  , 0.83565245, 0.84711214, 0.85699655,\n",
       "       0.86658115, 0.87544264, 0.88383554, 0.89175931, 0.89938835,\n",
       "       0.90658229, 0.91349858, 0.91993161, 0.92600395, 0.93150878,\n",
       "       0.93668332, 0.94134244, 0.94573287, 0.95010298, 0.95440603,\n",
       "       0.95826954, 0.96197328, 0.96547351, 0.96877367, 0.97182493,\n",
       "       0.97483347, 0.9775954 , 0.98021209, 0.98249187, 0.98461417,\n",
       "       0.98672862, 0.98860967, 0.99043381, 0.99202581, 0.99358611,\n",
       "       0.9949802 , 0.99621647, 0.99735486, 0.99838478, 0.99924235,\n",
       "       1.        , 1.        , 1.        , 1.        ])"
      ]
     },
     "execution_count": 24,
     "metadata": {},
     "output_type": "execute_result"
    }
   ],
   "source": [
    "eigenvalues[:n].cumsum()"
   ]
  },
  {
   "cell_type": "markdown",
   "metadata": {},
   "source": [
    "### *How many leading principal components are needed to cover a)50%, b)80% of the information from the original dataset?* ###"
   ]
  },
  {
   "cell_type": "markdown",
   "metadata": {},
   "source": [
    "## 50% is 7 components, 80% is 21 components"
   ]
  },
  {
   "cell_type": "markdown",
   "metadata": {},
   "source": [
    "### Q2. Visualize digits 3, 6, 7 (y=3,6,7) using the first two principal components of X1  "
   ]
  },
  {
   "cell_type": "code",
   "execution_count": 50,
   "metadata": {},
   "outputs": [],
   "source": [
    "pca_2 = PCA(2)\n",
    "X1_PCA_2 = pca_2.fit_transform(X1_Scaled)\n",
    "eigenvalues = pca_2.explained_variance_ratio_"
   ]
  },
  {
   "cell_type": "code",
   "execution_count": 51,
   "metadata": {},
   "outputs": [
    {
     "data": {
      "text/plain": [
       "(1000, 2)"
      ]
     },
     "execution_count": 51,
     "metadata": {},
     "output_type": "execute_result"
    }
   ],
   "source": [
    "X1_PCA_2.shape"
   ]
  },
  {
   "cell_type": "code",
   "execution_count": 88,
   "metadata": {},
   "outputs": [
    {
     "ename": "ValueError",
     "evalue": "cannot reshape array of size 2 into shape (2,2)",
     "output_type": "error",
     "traceback": [
      "\u001b[0;31m---------------------------------------------------------------------------\u001b[0m",
      "\u001b[0;31mValueError\u001b[0m                                Traceback (most recent call last)",
      "\u001b[0;32m<ipython-input-88-d958cc2a5c05>\u001b[0m in \u001b[0;36m<module>\u001b[0;34m\u001b[0m\n\u001b[1;32m      1\u001b[0m \u001b[0mplt\u001b[0m\u001b[0;34m.\u001b[0m\u001b[0msubplot\u001b[0m\u001b[0;34m(\u001b[0m\u001b[0;36m1\u001b[0m\u001b[0;34m,\u001b[0m\u001b[0;36m10\u001b[0m\u001b[0;34m,\u001b[0m\u001b[0;36m1\u001b[0m\u001b[0;34m)\u001b[0m\u001b[0;34m\u001b[0m\u001b[0;34m\u001b[0m\u001b[0m\n\u001b[0;32m----> 2\u001b[0;31m \u001b[0mplt\u001b[0m\u001b[0;34m.\u001b[0m\u001b[0mimshow\u001b[0m\u001b[0;34m(\u001b[0m\u001b[0mX1_PCA_2\u001b[0m\u001b[0;34m[\u001b[0m\u001b[0;36m0\u001b[0m\u001b[0;34m]\u001b[0m\u001b[0;34m.\u001b[0m\u001b[0mreshape\u001b[0m\u001b[0;34m(\u001b[0m\u001b[0;36m2\u001b[0m\u001b[0;34m,\u001b[0m\u001b[0;36m2\u001b[0m\u001b[0;34m)\u001b[0m\u001b[0;34m,\u001b[0m \u001b[0mcmap\u001b[0m\u001b[0;34m=\u001b[0m\u001b[0mplt\u001b[0m\u001b[0;34m.\u001b[0m\u001b[0mcm\u001b[0m\u001b[0;34m.\u001b[0m\u001b[0mgray_r\u001b[0m\u001b[0;34m)\u001b[0m\u001b[0;34m\u001b[0m\u001b[0;34m\u001b[0m\u001b[0m\n\u001b[0m",
      "\u001b[0;31mValueError\u001b[0m: cannot reshape array of size 2 into shape (2,2)"
     ]
    },
    {
     "data": {
      "image/png": "[encoded data removed]",
      "text/plain": [
       "<Figure size 432x288 with 1 Axes>"
      ]
     },
     "metadata": {
      "needs_background": "light"
     },
     "output_type": "display_data"
    }
   ],
   "source": [
    "plt.subplot(1,10,1)\n",
    "plt.imshow(X1_PCA_2[0].reshape(2,2), cmap=plt.cm.gray_r)"
   ]
  },
  {
   "cell_type": "markdown",
   "metadata": {},
   "source": [
    "## Task 2. Classify the digits using leading principal components"
   ]
  },
  {
   "cell_type": "markdown",
   "metadata": {},
   "source": [
    "### Q1. Train multi-class logistic regression over the first 1000 digits using first 5 leading principal components\n",
    "Report in-sample and out-of-sample (over X3, the last 300 digits) accuracy. \n",
    "\n",
    "You will need to apply the same scaler and PCA transform trained above to X3\n",
    "\n",
    "Here and further use regularization constant C=10000 in logistic regression to avoid regularization"
   ]
  },
  {
   "cell_type": "code",
   "execution_count": null,
   "metadata": {},
   "outputs": [],
   "source": []
  },
  {
   "cell_type": "markdown",
   "metadata": {},
   "source": [
    "### Q2. Select the optimal number of principal components for the classification above in terms of the out-of-sample accuracy measured over the validation sample X2. Report the performance of the classification after this feature selection over the test sample X3 of the last 300 digits."
   ]
  },
  {
   "cell_type": "markdown",
   "metadata": {},
   "source": [
    "## Task3. Time Series Analysis\n",
    "**Dataset Description**\n",
    "- Portland Oregon riders monthly data: It is a monthly count of riders for the Portland public transportation system. The website states that it is from January 1960 through June 1969\n",
    "\n",
    "**Tasks**:\n",
    "- Detect a trend\n",
    "- Decompose into trend + seasonality + residuals\n",
    "- Analyze residual distribution\n",
    "- Select the top 3-5 outliers based on absolute values of residuals "
   ]
  },
  {
   "cell_type": "code",
   "execution_count": 57,
   "metadata": {},
   "outputs": [],
   "source": [
    "# import dataset\n",
    "df = pd.read_csv(\"data/portland-oregon-average-monthly-.csv\")"
   ]
  },
  {
   "cell_type": "code",
   "execution_count": 58,
   "metadata": {},
   "outputs": [],
   "source": [
    "# change column name to make it easier for your life\n",
    "df.columns = [\"month\", \"avgMonthlyRide\"]"
   ]
  },
  {
   "cell_type": "code",
   "execution_count": 59,
   "metadata": {},
   "outputs": [],
   "source": [
    "# remove artifact data\n",
    "df = df.drop(df.index[df['avgMonthlyRide'] == ' n=114'])"
   ]
  },
  {
   "cell_type": "code",
   "execution_count": 60,
   "metadata": {},
   "outputs": [
    {
     "data": {
      "text/html": [
       "<div>\n",
       "<style scoped>\n",
       "    .dataframe tbody tr th:only-of-type {\n",
       "        vertical-align: middle;\n",
       "    }\n",
       "\n",
       "    .dataframe tbody tr th {\n",
       "        vertical-align: top;\n",
       "    }\n",
       "\n",
       "    .dataframe thead th {\n",
       "        text-align: right;\n",
       "    }\n",
       "</style>\n",
       "<table border=\"1\" class=\"dataframe\">\n",
       "  <thead>\n",
       "    <tr style=\"text-align: right;\">\n",
       "      <th></th>\n",
       "      <th>month</th>\n",
       "      <th>avgMonthlyRide</th>\n",
       "    </tr>\n",
       "  </thead>\n",
       "  <tbody>\n",
       "    <tr>\n",
       "      <td>0</td>\n",
       "      <td>1960-01-01</td>\n",
       "      <td>648</td>\n",
       "    </tr>\n",
       "    <tr>\n",
       "      <td>1</td>\n",
       "      <td>1960-02-01</td>\n",
       "      <td>646</td>\n",
       "    </tr>\n",
       "    <tr>\n",
       "      <td>2</td>\n",
       "      <td>1960-03-01</td>\n",
       "      <td>639</td>\n",
       "    </tr>\n",
       "    <tr>\n",
       "      <td>3</td>\n",
       "      <td>1960-04-01</td>\n",
       "      <td>654</td>\n",
       "    </tr>\n",
       "    <tr>\n",
       "      <td>4</td>\n",
       "      <td>1960-05-01</td>\n",
       "      <td>630</td>\n",
       "    </tr>\n",
       "  </tbody>\n",
       "</table>\n",
       "</div>"
      ],
      "text/plain": [
       "       month  avgMonthlyRide\n",
       "0 1960-01-01             648\n",
       "1 1960-02-01             646\n",
       "2 1960-03-01             639\n",
       "3 1960-04-01             654\n",
       "4 1960-05-01             630"
      ]
     },
     "execution_count": 60,
     "metadata": {},
     "output_type": "execute_result"
    }
   ],
   "source": [
    "# type transfer: int32 for `avgMonthlyRide`, datetime for `month`\n",
    "df['avgMonthlyRide'] = df['avgMonthlyRide'].astype(np.int32)\n",
    "df['month'] = pd.to_datetime(df['month'], format = '%Y-%m')\n",
    "df.head()"
   ]
  },
  {
   "cell_type": "code",
   "execution_count": 61,
   "metadata": {},
   "outputs": [
    {
     "name": "stdout",
     "output_type": "stream",
     "text": [
      "<class 'pandas.core.frame.DataFrame'>\n",
      "Int64Index: 114 entries, 0 to 113\n",
      "Data columns (total 2 columns):\n",
      "month             114 non-null datetime64[ns]\n",
      "avgMonthlyRide    114 non-null int32\n",
      "dtypes: datetime64[ns](1), int32(1)\n",
      "memory usage: 2.2 KB\n"
     ]
    }
   ],
   "source": [
    "# get the info of the dataset\n",
    "df.info()"
   ]
  },
  {
   "cell_type": "code",
   "execution_count": 62,
   "metadata": {},
   "outputs": [
    {
     "data": {
      "text/html": [
       "<div>\n",
       "<style scoped>\n",
       "    .dataframe tbody tr th:only-of-type {\n",
       "        vertical-align: middle;\n",
       "    }\n",
       "\n",
       "    .dataframe tbody tr th {\n",
       "        vertical-align: top;\n",
       "    }\n",
       "\n",
       "    .dataframe thead th {\n",
       "        text-align: right;\n",
       "    }\n",
       "</style>\n",
       "<table border=\"1\" class=\"dataframe\">\n",
       "  <thead>\n",
       "    <tr style=\"text-align: right;\">\n",
       "      <th></th>\n",
       "      <th>avgMonthlyRide</th>\n",
       "    </tr>\n",
       "  </thead>\n",
       "  <tbody>\n",
       "    <tr>\n",
       "      <td>count</td>\n",
       "      <td>114.000000</td>\n",
       "    </tr>\n",
       "    <tr>\n",
       "      <td>mean</td>\n",
       "      <td>1120.543860</td>\n",
       "    </tr>\n",
       "    <tr>\n",
       "      <td>std</td>\n",
       "      <td>270.888317</td>\n",
       "    </tr>\n",
       "    <tr>\n",
       "      <td>min</td>\n",
       "      <td>613.000000</td>\n",
       "    </tr>\n",
       "    <tr>\n",
       "      <td>25%</td>\n",
       "      <td>885.000000</td>\n",
       "    </tr>\n",
       "    <tr>\n",
       "      <td>50%</td>\n",
       "      <td>1158.000000</td>\n",
       "    </tr>\n",
       "    <tr>\n",
       "      <td>75%</td>\n",
       "      <td>1340.000000</td>\n",
       "    </tr>\n",
       "    <tr>\n",
       "      <td>max</td>\n",
       "      <td>1558.000000</td>\n",
       "    </tr>\n",
       "  </tbody>\n",
       "</table>\n",
       "</div>"
      ],
      "text/plain": [
       "       avgMonthlyRide\n",
       "count      114.000000\n",
       "mean      1120.543860\n",
       "std        270.888317\n",
       "min        613.000000\n",
       "25%        885.000000\n",
       "50%       1158.000000\n",
       "75%       1340.000000\n",
       "max       1558.000000"
      ]
     },
     "execution_count": 62,
     "metadata": {},
     "output_type": "execute_result"
    }
   ],
   "source": [
    "# get the describe of the dataset\n",
    "df.describe()"
   ]
  },
  {
   "cell_type": "markdown",
   "metadata": {},
   "source": [
    "### Q1. Visualize the time-series of monthly ridership"
   ]
  },
  {
   "cell_type": "code",
   "execution_count": 70,
   "metadata": {},
   "outputs": [
    {
     "data": {
      "image/png": "[encoded data removed]",
      "text/plain": [
       "<Figure size 432x288 with 1 Axes>"
      ]
     },
     "metadata": {
      "needs_background": "light"
     },
     "output_type": "display_data"
    }
   ],
   "source": [
    "plt.plot(df.month, df.avgMonthlyRide)\n",
    "plt.title('Average Monthly Ridership', fontsize=20)\n",
    "plt.ylabel('Riders');"
   ]
  },
  {
   "cell_type": "markdown",
   "metadata": {},
   "source": [
    "### Q2. Visualize the 12-month moving average to assess the trend"
   ]
  },
  {
   "cell_type": "code",
   "execution_count": 77,
   "metadata": {},
   "outputs": [
    {
     "data": {
      "image/png": "[encoded data removed]",
      "text/plain": [
       "<Figure size 432x288 with 1 Axes>"
      ]
     },
     "metadata": {
      "needs_background": "light"
     },
     "output_type": "display_data"
    }
   ],
   "source": [
    "rolling_mean = df.avgMonthlyRide.rolling(window=12).mean()\n",
    "plt.plot(df.month, rolling_mean);"
   ]
  },
  {
   "cell_type": "markdown",
   "metadata": {},
   "source": [
    "### Q3. Perform seasonal decomposition using 12 month period"
   ]
  },
  {
   "cell_type": "code",
   "execution_count": 81,
   "metadata": {},
   "outputs": [
    {
     "data": {
      "image/png": "[encoded data removed]",
      "text/plain": [
       "<Figure size 432x288 with 4 Axes>"
      ]
     },
     "metadata": {
      "needs_background": "light"
     },
     "output_type": "display_data"
    }
   ],
   "source": [
    "res = sm.tsa.seasonal_decompose(df.avgMonthlyRide, model='additive',freq=12)\n",
    "res.plot()\n",
    "plt.show()"
   ]
  },
  {
   "cell_type": "markdown",
   "metadata": {},
   "source": [
    "### Q4. Visualize the distribution of residues and visually compare it with normal distribution with the same mean and standard deviation"
   ]
  },
  {
   "cell_type": "code",
   "execution_count": null,
   "metadata": {},
   "outputs": [],
   "source": []
  },
  {
   "cell_type": "markdown",
   "metadata": {},
   "source": [
    "### Q5. Find the strongest lower/upper outliers (months with the smallest and largest residues)"
   ]
  },
  {
   "cell_type": "code",
   "execution_count": null,
   "metadata": {},
   "outputs": [],
   "source": []
  }
 ],
 "metadata": {
  "kernelspec": {
   "display_name": "Python 3",
   "language": "python",
   "name": "python3"
  },
  "language_info": {
   "codemirror_mode": {
    "name": "ipython",
    "version": 3
   },
   "file_extension": ".py",
   "mimetype": "text/x-python",
   "name": "python",
   "nbconvert_exporter": "python",
   "pygments_lexer": "ipython3",
   "version": "3.7.4"
  }
 },
 "nbformat": 4,
 "nbformat_minor": 4
}
