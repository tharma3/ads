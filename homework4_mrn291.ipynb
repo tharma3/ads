{
 "cells": [
  {
   "cell_type": "code",
   "execution_count": 1,
   "metadata": {},
   "outputs": [],
   "source": [
    "import pandas as pd\n",
    "import numpy as np\n",
    "from sklearn.datasets import make_classification\n",
    "from sklearn.datasets import make_blobs\n",
    "from matplotlib.pylab import plt\n",
    "from sklearn.mixture import GaussianMixture\n",
    "%matplotlib inline\n",
    "from matplotlib.collections import LineCollection\n",
    "from matplotlib.colors import ListedColormap, BoundaryNorm\n",
    "from sklearn.linear_model import LogisticRegression\n",
    "from sklearn.cluster import KMeans\n",
    "from sklearn.metrics import silhouette_samples, silhouette_score\n",
    "import matplotlib.pyplot as plt"
   ]
  },
  {
   "cell_type": "markdown",
   "metadata": {},
   "source": [
    "## Question 1. \n",
    "\n",
    "Let's explore clustering models on an artificial data set with five features."
   ]
  },
  {
   "cell_type": "code",
   "execution_count": 2,
   "metadata": {},
   "outputs": [
    {
     "data": {
      "text/html": [
       "<div>\n",
       "<table border=\"1\" class=\"dataframe\">\n",
       "  <thead>\n",
       "    <tr style=\"text-align: right;\">\n",
       "      <th></th>\n",
       "      <th>1</th>\n",
       "      <th>2</th>\n",
       "      <th>3</th>\n",
       "      <th>4</th>\n",
       "      <th>5</th>\n",
       "    </tr>\n",
       "  </thead>\n",
       "  <tbody>\n",
       "    <tr>\n",
       "      <th>0</th>\n",
       "      <td>0.624358</td>\n",
       "      <td>-0.007694</td>\n",
       "      <td>0.157510</td>\n",
       "      <td>0.440554</td>\n",
       "      <td>0.157423</td>\n",
       "    </tr>\n",
       "    <tr>\n",
       "      <th>1</th>\n",
       "      <td>-0.065098</td>\n",
       "      <td>-0.000790</td>\n",
       "      <td>0.271934</td>\n",
       "      <td>0.224854</td>\n",
       "      <td>0.158883</td>\n",
       "    </tr>\n",
       "    <tr>\n",
       "      <th>2</th>\n",
       "      <td>-0.086525</td>\n",
       "      <td>-0.280988</td>\n",
       "      <td>-0.025699</td>\n",
       "      <td>0.263920</td>\n",
       "      <td>0.421017</td>\n",
       "    </tr>\n",
       "    <tr>\n",
       "      <th>3</th>\n",
       "      <td>-0.581743</td>\n",
       "      <td>-0.275640</td>\n",
       "      <td>-0.290320</td>\n",
       "      <td>-0.213967</td>\n",
       "      <td>0.497857</td>\n",
       "    </tr>\n",
       "    <tr>\n",
       "      <th>4</th>\n",
       "      <td>0.170606</td>\n",
       "      <td>1.020045</td>\n",
       "      <td>-0.583633</td>\n",
       "      <td>0.887644</td>\n",
       "      <td>0.105641</td>\n",
       "    </tr>\n",
       "  </tbody>\n",
       "</table>\n",
       "</div>"
      ],
      "text/plain": [
       "          1         2         3         4         5\n",
       "0  0.624358 -0.007694  0.157510  0.440554  0.157423\n",
       "1 -0.065098 -0.000790  0.271934  0.224854  0.158883\n",
       "2 -0.086525 -0.280988 -0.025699  0.263920  0.421017\n",
       "3 -0.581743 -0.275640 -0.290320 -0.213967  0.497857\n",
       "4  0.170606  1.020045 -0.583633  0.887644  0.105641"
      ]
     },
     "execution_count": 2,
     "metadata": {},
     "output_type": "execute_result"
    }
   ],
   "source": [
    "data1 = pd.read_csv('data/hw4data1.csv')\n",
    "data1.head()"
   ]
  },
  {
   "cell_type": "code",
   "execution_count": 3,
   "metadata": {},
   "outputs": [
    {
     "data": {
      "text/plain": [
       "(100, 5)"
      ]
     },
     "execution_count": 3,
     "metadata": {},
     "output_type": "execute_result"
    }
   ],
   "source": [
    "data1.shape"
   ]
  },
  {
   "cell_type": "code",
   "execution_count": 4,
   "metadata": {},
   "outputs": [
    {
     "data": {
      "text/plain": [
       "1    0.624358\n",
       "2   -0.007694\n",
       "3    0.157510\n",
       "4    0.440554\n",
       "5    0.157423\n",
       "Name: 0, dtype: float64"
      ]
     },
     "execution_count": 4,
     "metadata": {},
     "output_type": "execute_result"
    }
   ],
   "source": [
    "data1.iloc[0,]"
   ]
  },
  {
   "cell_type": "markdown",
   "metadata": {},
   "source": [
    "#### a) First, guess the number of clusters we could have. "
   ]
  },
  {
   "cell_type": "code",
   "execution_count": 5,
   "metadata": {},
   "outputs": [
    {
     "data": {
      "image/png": "[encoded data removed]",
      "text/plain": [
       "<matplotlib.figure.Figure at 0x10c9ca690>"
      ]
     },
     "metadata": {},
     "output_type": "display_data"
    }
   ],
   "source": [
    "fig, ax = plt.subplots(figsize=(5,5))\n",
    "for row in range(100):\n",
    "    ax.plot(data1.iloc[row,])"
   ]
  },
  {
   "cell_type": "markdown",
   "metadata": {},
   "source": [
    "My guess is that there are four clusters."
   ]
  },
  {
   "cell_type": "markdown",
   "metadata": {},
   "source": [
    "#### b) Use K-means to cluster the original data based on your guess for the number of clusters. Report the resulting labels. "
   ]
  },
  {
   "cell_type": "code",
   "execution_count": 6,
   "metadata": {},
   "outputs": [
    {
     "name": "stdout",
     "output_type": "stream",
     "text": [
      "[3 3 3 3 3 3 3 3 3 3 3 3 3 3 3 3 3 3 3 3 3 3 3 3 3 0 0 0 0 0 0 0 0 0 0 0 0\n",
      " 0 0 0 0 0 0 0 0 0 0 0 0 0 1 1 1 1 1 1 1 1 1 1 1 1 1 1 1 1 1 1 1 1 1 1 1 1\n",
      " 1 2 2 2 2 2 2 2 2 2 2 2 2 2 2 2 2 2 2 2 2 2 2 2 2 2]\n"
     ]
    }
   ],
   "source": [
    "#initialize the model\n",
    "km=KMeans(random_state=1,n_clusters=4) #look for four clusters; \n",
    "#k-means generally depends on random initial locations of the centroids, \n",
    "#so setting random state needed for result stability (although not really this time)\n",
    "model_fit = km.fit(data1) #train the model\n",
    "fit_labels = model_fit.labels_\n",
    "print(fit_labels) #output the result\n",
    "# print res.predict(X) #alternative - one can pass this or other data to cluster according to the model trained (centroids) "
   ]
  },
  {
   "cell_type": "markdown",
   "metadata": {},
   "source": [
    "#### c) Visualize the clustering result and color the points according to the labels obtained in part b)."
   ]
  },
  {
   "cell_type": "code",
   "execution_count": 7,
   "metadata": {},
   "outputs": [
    {
     "data": {
      "image/png": "[encoded data removed]",
      "text/plain": [
       "<matplotlib.figure.Figure at 0x10cd0c850>"
      ]
     },
     "metadata": {},
     "output_type": "display_data"
    }
   ],
   "source": [
    "data2 = data1.copy()\n",
    "\n",
    "data2['cluster'] = fit_labels\n",
    "color_dict = {0:'xkcd:maroon',1:'xkcd:peach',2:'xkcd:olive green',3:'xkcd:blue grey'}\n",
    "data2['color'] = data2.cluster.map(color_dict)\n",
    "\n",
    "fig, ax = plt.subplots(figsize=(5,5))\n",
    "for row in range(100):\n",
    "    ax.plot(data2.iloc[row,0:5], c=data2.color.iloc[row])"
   ]
  },
  {
   "cell_type": "markdown",
   "metadata": {},
   "source": [
    "#### d) Justify your guess for k (the optimal number of clusters for K-means clustering) by first using silhouette_score and then the Elbow method on the original data. Briefly explain your approach. Are your results consistent? \n"
   ]
  },
  {
   "cell_type": "code",
   "execution_count": 8,
   "metadata": {},
   "outputs": [
    {
     "name": "stdout",
     "output_type": "stream",
     "text": [
      "For n_clusters = 2, the average silhouette_score is :0.577195417569\n",
      "For n_clusters = 3, the average silhouette_score is :0.729751656131\n",
      "For n_clusters = 4, the average silhouette_score is :0.843535323028\n",
      "For n_clusters = 5, the average silhouette_score is :0.689060456149\n",
      "For n_clusters = 6, the average silhouette_score is :0.533061195273\n"
     ]
    }
   ],
   "source": [
    "from sklearn.metrics import silhouette_samples, silhouette_score\n",
    "import matplotlib.cm as cm\n",
    "import numpy as np\n",
    "\n",
    "range_n_clusters = [2, 3, 4, 5, 6]\n",
    "for n_clusters in range_n_clusters: #try different numbers of clusters\n",
    "    km = KMeans(n_clusters=n_clusters, random_state=324)\n",
    "    cluster_labels = km.fit_predict(data1)\n",
    "    #report average Silhouette score\n",
    "    silhouette_avg = silhouette_score(data1, cluster_labels)\n",
    "    print(\"For n_clusters = {},\".format(n_clusters)+\" the average silhouette_score is :{}\".format(silhouette_avg))"
   ]
  },
  {
   "cell_type": "markdown",
   "metadata": {},
   "source": [
    "### _*The highest silhouette score is for 4 clusters at 0.84*_ ###"
   ]
  },
  {
   "cell_type": "code",
   "execution_count": 9,
   "metadata": {},
   "outputs": [],
   "source": [
    "from scipy.spatial.distance import cdist, pdist\n",
    "from sklearn.cluster import KMeans\n",
    "\n",
    "def elbow(dataframe, K):\n",
    "#data is your input as pandas dataframe form\n",
    "#K is a range of number of clusters you would like to show.\n",
    "    # Run the KMeans model and save all the results for each number of clusters\n",
    "    KM = [KMeans(n_clusters=k).fit(dataframe) for k in K]\n",
    "    \n",
    "    # Save the centroids for each model with a increasing k\n",
    "    centroids = [k.cluster_centers_ for k in KM]\n",
    "\n",
    "    # For each k, get the distance between the data with each center. \n",
    "    D_k = [cdist(dataframe, cent, 'euclidean') for cent in centroids]\n",
    "    \n",
    "    # But we only need the distance to the nearest centroid since we only calculate dist(x,ci) for its own cluster.\n",
    "    globals()['dist'] = [np.min(D, axis=1) for D in D_k]\n",
    "    \n",
    "    # Calculate the Average SSE.\n",
    "    avgWithinSS = [sum(d)/dataframe.shape[0] for d in dist]\n",
    "    \n",
    "    \n",
    "    # elbow curve\n",
    "    fig = plt.figure()\n",
    "    ax = fig.add_subplot(111)\n",
    "    ax.plot(K, avgWithinSS, 'b*-')\n",
    "    plt.grid(True)\n",
    "    plt.xlabel('Number of clusters')\n",
    "    plt.ylabel('Average within-cluster sum of squares')\n",
    "    plt.title('Elbow for KMeans clustering')\n",
    "    plt.show()\n",
    "    \n",
    "    \n",
    "    # Total with-in sum of square plot. Another way to show the result.\n",
    "    wcss = [sum(d**2) for d in dist]\n",
    "    tss = sum(pdist(dataframe)**2)/dataframe.shape[0]\n",
    "    bss = tss-wcss\n",
    "    \n",
    "    fig = plt.figure()\n",
    "    ax = fig.add_subplot(111)\n",
    "    ax.plot(K, bss/tss*100, 'b*-')\n",
    "    plt.grid(True)\n",
    "    plt.xlabel('Number of clusters')\n",
    "    plt.ylabel('Percentage of variance explained')\n",
    "    plt.title('Elbow for KMeans clustering')\n",
    "    plt.show()"
   ]
  },
  {
   "cell_type": "code",
   "execution_count": 10,
   "metadata": {},
   "outputs": [
    {
     "data": {
      "image/png": "[encoded data removed]",
      "text/plain": [
       "<matplotlib.figure.Figure at 0x10cd26fd0>"
      ]
     },
     "metadata": {},
     "output_type": "display_data"
    },
    {
     "data": {
      "image/png": "[encoded data removed]",
      "text/plain": [
       "<matplotlib.figure.Figure at 0x10ca91490>"
      ]
     },
     "metadata": {},
     "output_type": "display_data"
    }
   ],
   "source": [
    "elbow(data1, range(1,30))"
   ]
  },
  {
   "cell_type": "markdown",
   "metadata": {},
   "source": [
    "### _*The elbow method also indicates that 4 clusters is the best number of clusters to use to appropriately cluster the original data.*_ ###"
   ]
  },
  {
   "cell_type": "markdown",
   "metadata": {},
   "source": [
    "#### e) Using a Gaussian Mixture model instead of K-means (but with the same value for k), repeat parts b) and c). "
   ]
  },
  {
   "cell_type": "code",
   "execution_count": 11,
   "metadata": {},
   "outputs": [],
   "source": [
    "gm = GaussianMixture(n_components=4, random_state=324)"
   ]
  },
  {
   "cell_type": "code",
   "execution_count": 12,
   "metadata": {},
   "outputs": [],
   "source": [
    "gaussian_fit = gm.fit(data1)"
   ]
  },
  {
   "cell_type": "code",
   "execution_count": 13,
   "metadata": {},
   "outputs": [
    {
     "name": "stdout",
     "output_type": "stream",
     "text": [
      "[3 3 3 3 3 3 3 3 3 3 3 3 3 3 3 3 3 3 3 3 3 3 3 3 3 0 0 0 0 0 0 0 0 0 0 0 0\n",
      " 0 0 0 0 0 0 0 0 0 0 0 0 0 1 1 1 1 1 1 1 1 1 1 1 1 1 1 1 1 1 1 1 1 1 1 1 1\n",
      " 1 2 2 2 2 2 2 2 2 2 2 2 2 2 2 2 2 2 2 2 2 2 2 2 2 2]\n"
     ]
    }
   ],
   "source": [
    "gm_fit_labels = gaussian_fit.predict(data1)\n",
    "print(gm_fit_labels) #output the result"
   ]
  },
  {
   "cell_type": "code",
   "execution_count": 14,
   "metadata": {},
   "outputs": [
    {
     "data": {
      "image/png": "[encoded data removed]",
      "text/plain": [
       "<matplotlib.figure.Figure at 0x1101a7850>"
      ]
     },
     "metadata": {},
     "output_type": "display_data"
    }
   ],
   "source": [
    "data3 = data1.copy()\n",
    "\n",
    "data3['cluster'] = gm_fit_labels\n",
    "data3['color'] = data3.cluster.map(color_dict)\n",
    "\n",
    "fig, ax = plt.subplots(figsize=(5,5))\n",
    "for row in range(100):\n",
    "    ax.plot(data3.iloc[row,0:5], c=data3.color.iloc[row])"
   ]
  },
  {
   "cell_type": "markdown",
   "metadata": {},
   "source": [
    "## Question 2. "
   ]
  },
  {
   "cell_type": "markdown",
   "metadata": {},
   "source": [
    "The following data comes from a larger set detailing every motor vehicle collision in NYC (available [here](https://data.cityofnewyork.us/Public-Safety/NYPD-Motor-Vehicle-Collisions/h9gi-nx95)). This particular subset only considers collisions that occurred on October 31, 2017.\n",
    "\n",
    "You have 680 collision records in the file ‘NYPD_Motor_Vehicle_Collisions_Duplicates.csv’, but you realize that some of these are actually duplicates resulting from a technical error. You know that there are over 600 unique records in the file, but you want to determine the exact number. Try k-means with 600-680 clusters applying Elbow method and analyzing Silhouette scores."
   ]
  },
  {
   "cell_type": "code",
   "execution_count": 25,
   "metadata": {},
   "outputs": [
    {
     "data": {
      "text/html": [
       "<div>\n",
       "<table border=\"1\" class=\"dataframe\">\n",
       "  <thead>\n",
       "    <tr style=\"text-align: right;\">\n",
       "      <th></th>\n",
       "      <th>DATE</th>\n",
       "      <th>TIME</th>\n",
       "      <th>BOROUGH</th>\n",
       "      <th>ZIP CODE</th>\n",
       "      <th>LATITUDE</th>\n",
       "      <th>LONGITUDE</th>\n",
       "      <th>LOCATION</th>\n",
       "      <th>ON STREET NAME</th>\n",
       "      <th>CROSS STREET NAME</th>\n",
       "      <th>OFF STREET NAME</th>\n",
       "      <th>...</th>\n",
       "      <th>CONTRIBUTING FACTOR VEHICLE 2</th>\n",
       "      <th>CONTRIBUTING FACTOR VEHICLE 3</th>\n",
       "      <th>CONTRIBUTING FACTOR VEHICLE 4</th>\n",
       "      <th>CONTRIBUTING FACTOR VEHICLE 5</th>\n",
       "      <th>UNIQUE KEY</th>\n",
       "      <th>VEHICLE TYPE CODE 1</th>\n",
       "      <th>VEHICLE TYPE CODE 2</th>\n",
       "      <th>VEHICLE TYPE CODE 3</th>\n",
       "      <th>VEHICLE TYPE CODE 4</th>\n",
       "      <th>VEHICLE TYPE CODE 5</th>\n",
       "    </tr>\n",
       "  </thead>\n",
       "  <tbody>\n",
       "    <tr>\n",
       "      <th>0</th>\n",
       "      <td>10/31/17</td>\n",
       "      <td>0:00</td>\n",
       "      <td></td>\n",
       "      <td></td>\n",
       "      <td>40.7331</td>\n",
       "      <td>-73.9548</td>\n",
       "      <td>(40.733135, -73.954765)</td>\n",
       "      <td>MANHATTAN AVENUE</td>\n",
       "      <td></td>\n",
       "      <td></td>\n",
       "      <td>...</td>\n",
       "      <td>Unspecified</td>\n",
       "      <td></td>\n",
       "      <td></td>\n",
       "      <td></td>\n",
       "      <td>3781862</td>\n",
       "      <td>PICK-UP TRUCK</td>\n",
       "      <td>PICK-UP TRUCK</td>\n",
       "      <td></td>\n",
       "      <td></td>\n",
       "      <td></td>\n",
       "    </tr>\n",
       "    <tr>\n",
       "      <th>1</th>\n",
       "      <td>10/31/17</td>\n",
       "      <td>0:00</td>\n",
       "      <td></td>\n",
       "      <td></td>\n",
       "      <td>40.7535</td>\n",
       "      <td>-73.8979</td>\n",
       "      <td>(40.75351, -73.8979)</td>\n",
       "      <td></td>\n",
       "      <td></td>\n",
       "      <td></td>\n",
       "      <td>...</td>\n",
       "      <td>Unspecified</td>\n",
       "      <td></td>\n",
       "      <td></td>\n",
       "      <td></td>\n",
       "      <td>3781130</td>\n",
       "      <td>SPORT UTILITY / STATION WAGON</td>\n",
       "      <td>PASSENGER VEHICLE</td>\n",
       "      <td></td>\n",
       "      <td></td>\n",
       "      <td></td>\n",
       "    </tr>\n",
       "    <tr>\n",
       "      <th>2</th>\n",
       "      <td>10/31/17</td>\n",
       "      <td>0:00</td>\n",
       "      <td>MANHATTAN</td>\n",
       "      <td>10036</td>\n",
       "      <td>40.7597</td>\n",
       "      <td>-73.9917</td>\n",
       "      <td>(40.759727, -73.99169)</td>\n",
       "      <td>WEST 44 STREET</td>\n",
       "      <td>9 AVENUE</td>\n",
       "      <td></td>\n",
       "      <td>...</td>\n",
       "      <td></td>\n",
       "      <td></td>\n",
       "      <td></td>\n",
       "      <td></td>\n",
       "      <td>3781009</td>\n",
       "      <td>PASSENGER VEHICLE</td>\n",
       "      <td></td>\n",
       "      <td></td>\n",
       "      <td></td>\n",
       "      <td></td>\n",
       "    </tr>\n",
       "    <tr>\n",
       "      <th>3</th>\n",
       "      <td>10/31/17</td>\n",
       "      <td>0:00</td>\n",
       "      <td>BROOKLYN</td>\n",
       "      <td>11207</td>\n",
       "      <td></td>\n",
       "      <td></td>\n",
       "      <td></td>\n",
       "      <td>LINDEN BOULEVARD</td>\n",
       "      <td>WILLIAMS AVENUE</td>\n",
       "      <td></td>\n",
       "      <td>...</td>\n",
       "      <td>Unspecified</td>\n",
       "      <td></td>\n",
       "      <td></td>\n",
       "      <td></td>\n",
       "      <td>3780501</td>\n",
       "      <td>PASSENGER VEHICLE</td>\n",
       "      <td>DS</td>\n",
       "      <td></td>\n",
       "      <td></td>\n",
       "      <td></td>\n",
       "    </tr>\n",
       "    <tr>\n",
       "      <th>4</th>\n",
       "      <td>10/31/17</td>\n",
       "      <td>0:00</td>\n",
       "      <td>MANHATTAN</td>\n",
       "      <td>10030</td>\n",
       "      <td>40.8156</td>\n",
       "      <td>-73.9435</td>\n",
       "      <td>(40.81561, -73.943474)</td>\n",
       "      <td></td>\n",
       "      <td></td>\n",
       "      <td>2309      7 AVENUE</td>\n",
       "      <td>...</td>\n",
       "      <td>Unspecified</td>\n",
       "      <td>Unspecified</td>\n",
       "      <td></td>\n",
       "      <td></td>\n",
       "      <td>3780511</td>\n",
       "      <td>SPORT UTILITY / STATION WAGON</td>\n",
       "      <td>PASSENGER VEHICLE</td>\n",
       "      <td>PASSENGER VEHICLE</td>\n",
       "      <td></td>\n",
       "      <td></td>\n",
       "    </tr>\n",
       "  </tbody>\n",
       "</table>\n",
       "<p>5 rows × 29 columns</p>\n",
       "</div>"
      ],
      "text/plain": [
       "       DATE  TIME    BOROUGH ZIP CODE LATITUDE LONGITUDE  \\\n",
       "0  10/31/17  0:00                      40.7331  -73.9548   \n",
       "1  10/31/17  0:00                      40.7535  -73.8979   \n",
       "2  10/31/17  0:00  MANHATTAN    10036  40.7597  -73.9917   \n",
       "3  10/31/17  0:00   BROOKLYN    11207                      \n",
       "4  10/31/17  0:00  MANHATTAN    10030  40.8156  -73.9435   \n",
       "\n",
       "                  LOCATION    ON STREET NAME CROSS STREET NAME  \\\n",
       "0  (40.733135, -73.954765)  MANHATTAN AVENUE                     \n",
       "1     (40.75351, -73.8979)                                       \n",
       "2   (40.759727, -73.99169)    WEST 44 STREET          9 AVENUE   \n",
       "3                           LINDEN BOULEVARD   WILLIAMS AVENUE   \n",
       "4   (40.81561, -73.943474)                                       \n",
       "\n",
       "      OFF STREET NAME         ...          CONTRIBUTING FACTOR VEHICLE 2  \\\n",
       "0                             ...                            Unspecified   \n",
       "1                             ...                            Unspecified   \n",
       "2                             ...                                          \n",
       "3                             ...                            Unspecified   \n",
       "4  2309      7 AVENUE         ...                            Unspecified   \n",
       "\n",
       "   CONTRIBUTING FACTOR VEHICLE 3  CONTRIBUTING FACTOR VEHICLE 4  \\\n",
       "0                                                                 \n",
       "1                                                                 \n",
       "2                                                                 \n",
       "3                                                                 \n",
       "4                    Unspecified                                  \n",
       "\n",
       "   CONTRIBUTING FACTOR VEHICLE 5  UNIQUE KEY            VEHICLE TYPE CODE 1  \\\n",
       "0                                    3781862                  PICK-UP TRUCK   \n",
       "1                                    3781130  SPORT UTILITY / STATION WAGON   \n",
       "2                                    3781009              PASSENGER VEHICLE   \n",
       "3                                    3780501              PASSENGER VEHICLE   \n",
       "4                                    3780511  SPORT UTILITY / STATION WAGON   \n",
       "\n",
       "   VEHICLE TYPE CODE 2  VEHICLE TYPE CODE 3 VEHICLE TYPE CODE 4  \\\n",
       "0        PICK-UP TRUCK                                            \n",
       "1    PASSENGER VEHICLE                                            \n",
       "2                                                                 \n",
       "3                   DS                                            \n",
       "4    PASSENGER VEHICLE    PASSENGER VEHICLE                       \n",
       "\n",
       "  VEHICLE TYPE CODE 5  \n",
       "0                      \n",
       "1                      \n",
       "2                      \n",
       "3                      \n",
       "4                      \n",
       "\n",
       "[5 rows x 29 columns]"
      ]
     },
     "execution_count": 25,
     "metadata": {},
     "output_type": "execute_result"
    }
   ],
   "source": [
    "data2 = pd.read_csv('data/NYPD_Motor_Vehicle_Collisions_Duplicates.csv').fillna('')\n",
    "data2.head()"
   ]
  },
  {
   "cell_type": "code",
   "execution_count": 76,
   "metadata": {},
   "outputs": [
    {
     "data": {
      "text/plain": [
       "(680, 29)"
      ]
     },
     "execution_count": 76,
     "metadata": {},
     "output_type": "execute_result"
    }
   ],
   "source": [
    "data2.shape"
   ]
  },
  {
   "cell_type": "code",
   "execution_count": 77,
   "metadata": {},
   "outputs": [],
   "source": [
    "data_clean = data2.copy()"
   ]
  },
  {
   "cell_type": "code",
   "execution_count": 78,
   "metadata": {},
   "outputs": [],
   "source": [
    "data_clean.DATE = data_clean.DATE.str.replace('/', '')\n",
    "data_clean.TIME = data_clean.TIME.str.replace(':', '')\n",
    "data_clean['ZIP CODE'] = pd.to_numeric(data_clean['ZIP CODE'], errors='coerce')\n",
    "data_clean['DATE'] = pd.to_numeric(data_clean['DATE'], errors='coerce')\n",
    "data_clean['TIME'] = pd.to_numeric(data_clean['TIME'], errors='coerce')\n",
    "data_clean['LATITUDE'] = pd.to_numeric(data_clean['LATITUDE'], errors='coerce')\n",
    "data_clean['LONGITUDE'] = pd.to_numeric(data_clean['LONGITUDE'], errors='coerce')\n",
    "data_clean.drop(['LOCATION'], axis=1, inplace=True)"
   ]
  },
  {
   "cell_type": "code",
   "execution_count": 84,
   "metadata": {},
   "outputs": [],
   "source": [
    "to_factor = data_clean.select_dtypes(include=['object'])\n",
    "not_to_factor = data_clean.select_dtypes(include=[np.number])"
   ]
  },
  {
   "cell_type": "code",
   "execution_count": 86,
   "metadata": {},
   "outputs": [],
   "source": [
    "factorized = pd.get_dummies(to_factor)"
   ]
  },
  {
   "cell_type": "code",
   "execution_count": 93,
   "metadata": {},
   "outputs": [],
   "source": [
    "final_data = pd.merge(not_to_factor, factorized, left_index=True, right_index=True)\n",
    "final_data.fillna(0, inplace=True)"
   ]
  },
  {
   "cell_type": "code",
   "execution_count": 95,
   "metadata": {},
   "outputs": [
    {
     "data": {
      "text/html": [
       "<div>\n",
       "<table border=\"1\" class=\"dataframe\">\n",
       "  <thead>\n",
       "    <tr style=\"text-align: right;\">\n",
       "      <th></th>\n",
       "      <th>DATE</th>\n",
       "      <th>TIME</th>\n",
       "      <th>ZIP CODE</th>\n",
       "      <th>LATITUDE</th>\n",
       "      <th>LONGITUDE</th>\n",
       "      <th>NUMBER OF PERSONS INJURED</th>\n",
       "      <th>NUMBER OF PERSONS KILLED</th>\n",
       "      <th>NUMBER OF PEDESTRIANS INJURED</th>\n",
       "      <th>NUMBER OF PEDESTRIANS KILLED</th>\n",
       "      <th>NUMBER OF CYCLIST INJURED</th>\n",
       "      <th>...</th>\n",
       "      <th>VEHICLE TYPE CODE 3_PASSENGER VEHICLE</th>\n",
       "      <th>VEHICLE TYPE CODE 3_PICK-UP TRUCK</th>\n",
       "      <th>VEHICLE TYPE CODE 3_SPORT UTILITY / STATION WAGON</th>\n",
       "      <th>VEHICLE TYPE CODE 4_</th>\n",
       "      <th>VEHICLE TYPE CODE 4_PASSENGER VEHICLE</th>\n",
       "      <th>VEHICLE TYPE CODE 4_SPORT UTILITY / STATION WAGON</th>\n",
       "      <th>VEHICLE TYPE CODE 4_light</th>\n",
       "      <th>VEHICLE TYPE CODE 5_</th>\n",
       "      <th>VEHICLE TYPE CODE 5_PASSENGER VEHICLE</th>\n",
       "      <th>VEHICLE TYPE CODE 5_SPORT UTILITY / STATION WAGON</th>\n",
       "    </tr>\n",
       "  </thead>\n",
       "  <tbody>\n",
       "    <tr>\n",
       "      <th>0</th>\n",
       "      <td>103117</td>\n",
       "      <td>0</td>\n",
       "      <td>0.0</td>\n",
       "      <td>40.733135</td>\n",
       "      <td>-73.954765</td>\n",
       "      <td>0</td>\n",
       "      <td>0</td>\n",
       "      <td>0</td>\n",
       "      <td>0</td>\n",
       "      <td>0</td>\n",
       "      <td>...</td>\n",
       "      <td>0</td>\n",
       "      <td>0</td>\n",
       "      <td>0</td>\n",
       "      <td>1</td>\n",
       "      <td>0</td>\n",
       "      <td>0</td>\n",
       "      <td>0</td>\n",
       "      <td>1</td>\n",
       "      <td>0</td>\n",
       "      <td>0</td>\n",
       "    </tr>\n",
       "    <tr>\n",
       "      <th>1</th>\n",
       "      <td>103117</td>\n",
       "      <td>0</td>\n",
       "      <td>0.0</td>\n",
       "      <td>40.753510</td>\n",
       "      <td>-73.897900</td>\n",
       "      <td>0</td>\n",
       "      <td>0</td>\n",
       "      <td>0</td>\n",
       "      <td>0</td>\n",
       "      <td>0</td>\n",
       "      <td>...</td>\n",
       "      <td>0</td>\n",
       "      <td>0</td>\n",
       "      <td>0</td>\n",
       "      <td>1</td>\n",
       "      <td>0</td>\n",
       "      <td>0</td>\n",
       "      <td>0</td>\n",
       "      <td>1</td>\n",
       "      <td>0</td>\n",
       "      <td>0</td>\n",
       "    </tr>\n",
       "    <tr>\n",
       "      <th>2</th>\n",
       "      <td>103117</td>\n",
       "      <td>0</td>\n",
       "      <td>10036.0</td>\n",
       "      <td>40.759727</td>\n",
       "      <td>-73.991690</td>\n",
       "      <td>1</td>\n",
       "      <td>0</td>\n",
       "      <td>1</td>\n",
       "      <td>0</td>\n",
       "      <td>0</td>\n",
       "      <td>...</td>\n",
       "      <td>0</td>\n",
       "      <td>0</td>\n",
       "      <td>0</td>\n",
       "      <td>1</td>\n",
       "      <td>0</td>\n",
       "      <td>0</td>\n",
       "      <td>0</td>\n",
       "      <td>1</td>\n",
       "      <td>0</td>\n",
       "      <td>0</td>\n",
       "    </tr>\n",
       "    <tr>\n",
       "      <th>3</th>\n",
       "      <td>103117</td>\n",
       "      <td>0</td>\n",
       "      <td>11207.0</td>\n",
       "      <td>0.000000</td>\n",
       "      <td>0.000000</td>\n",
       "      <td>0</td>\n",
       "      <td>0</td>\n",
       "      <td>0</td>\n",
       "      <td>0</td>\n",
       "      <td>0</td>\n",
       "      <td>...</td>\n",
       "      <td>0</td>\n",
       "      <td>0</td>\n",
       "      <td>0</td>\n",
       "      <td>1</td>\n",
       "      <td>0</td>\n",
       "      <td>0</td>\n",
       "      <td>0</td>\n",
       "      <td>1</td>\n",
       "      <td>0</td>\n",
       "      <td>0</td>\n",
       "    </tr>\n",
       "    <tr>\n",
       "      <th>4</th>\n",
       "      <td>103117</td>\n",
       "      <td>0</td>\n",
       "      <td>10030.0</td>\n",
       "      <td>40.815610</td>\n",
       "      <td>-73.943474</td>\n",
       "      <td>0</td>\n",
       "      <td>0</td>\n",
       "      <td>0</td>\n",
       "      <td>0</td>\n",
       "      <td>0</td>\n",
       "      <td>...</td>\n",
       "      <td>1</td>\n",
       "      <td>0</td>\n",
       "      <td>0</td>\n",
       "      <td>1</td>\n",
       "      <td>0</td>\n",
       "      <td>0</td>\n",
       "      <td>0</td>\n",
       "      <td>1</td>\n",
       "      <td>0</td>\n",
       "      <td>0</td>\n",
       "    </tr>\n",
       "  </tbody>\n",
       "</table>\n",
       "<p>5 rows × 827 columns</p>\n",
       "</div>"
      ],
      "text/plain": [
       "     DATE  TIME  ZIP CODE   LATITUDE  LONGITUDE  NUMBER OF PERSONS INJURED  \\\n",
       "0  103117     0       0.0  40.733135 -73.954765                          0   \n",
       "1  103117     0       0.0  40.753510 -73.897900                          0   \n",
       "2  103117     0   10036.0  40.759727 -73.991690                          1   \n",
       "3  103117     0   11207.0   0.000000   0.000000                          0   \n",
       "4  103117     0   10030.0  40.815610 -73.943474                          0   \n",
       "\n",
       "   NUMBER OF PERSONS KILLED  NUMBER OF PEDESTRIANS INJURED  \\\n",
       "0                         0                              0   \n",
       "1                         0                              0   \n",
       "2                         0                              1   \n",
       "3                         0                              0   \n",
       "4                         0                              0   \n",
       "\n",
       "   NUMBER OF PEDESTRIANS KILLED  NUMBER OF CYCLIST INJURED  \\\n",
       "0                             0                          0   \n",
       "1                             0                          0   \n",
       "2                             0                          0   \n",
       "3                             0                          0   \n",
       "4                             0                          0   \n",
       "\n",
       "                         ...                          \\\n",
       "0                        ...                           \n",
       "1                        ...                           \n",
       "2                        ...                           \n",
       "3                        ...                           \n",
       "4                        ...                           \n",
       "\n",
       "   VEHICLE TYPE CODE 3_PASSENGER VEHICLE  VEHICLE TYPE CODE 3_PICK-UP TRUCK  \\\n",
       "0                                      0                                  0   \n",
       "1                                      0                                  0   \n",
       "2                                      0                                  0   \n",
       "3                                      0                                  0   \n",
       "4                                      1                                  0   \n",
       "\n",
       "   VEHICLE TYPE CODE 3_SPORT UTILITY / STATION WAGON  VEHICLE TYPE CODE 4_  \\\n",
       "0                                                  0                     1   \n",
       "1                                                  0                     1   \n",
       "2                                                  0                     1   \n",
       "3                                                  0                     1   \n",
       "4                                                  0                     1   \n",
       "\n",
       "   VEHICLE TYPE CODE 4_PASSENGER VEHICLE  \\\n",
       "0                                      0   \n",
       "1                                      0   \n",
       "2                                      0   \n",
       "3                                      0   \n",
       "4                                      0   \n",
       "\n",
       "   VEHICLE TYPE CODE 4_SPORT UTILITY / STATION WAGON  \\\n",
       "0                                                  0   \n",
       "1                                                  0   \n",
       "2                                                  0   \n",
       "3                                                  0   \n",
       "4                                                  0   \n",
       "\n",
       "   VEHICLE TYPE CODE 4_light  VEHICLE TYPE CODE 5_  \\\n",
       "0                          0                     1   \n",
       "1                          0                     1   \n",
       "2                          0                     1   \n",
       "3                          0                     1   \n",
       "4                          0                     1   \n",
       "\n",
       "   VEHICLE TYPE CODE 5_PASSENGER VEHICLE  \\\n",
       "0                                      0   \n",
       "1                                      0   \n",
       "2                                      0   \n",
       "3                                      0   \n",
       "4                                      0   \n",
       "\n",
       "   VEHICLE TYPE CODE 5_SPORT UTILITY / STATION WAGON  \n",
       "0                                                  0  \n",
       "1                                                  0  \n",
       "2                                                  0  \n",
       "3                                                  0  \n",
       "4                                                  0  \n",
       "\n",
       "[5 rows x 827 columns]"
      ]
     },
     "execution_count": 95,
     "metadata": {},
     "output_type": "execute_result"
    }
   ],
   "source": [
    "final_data.head()"
   ]
  },
  {
   "cell_type": "markdown",
   "metadata": {},
   "source": [
    "#### a) Implement a clustering technique of your choice that will determine the exact number of unique records. (Hint: assigning each unique record to its own cluster would result in perfect clustering. Cluster the data\\* based on possible values for the number of unique records and observe the results. ) Briefly explain your approach. \n",
    "\\* You may first have to factorize the data set, as it contains string variables."
   ]
  },
  {
   "cell_type": "code",
   "execution_count": 98,
   "metadata": {},
   "outputs": [
    {
     "ename": "KeyboardInterrupt",
     "evalue": "",
     "output_type": "error",
     "traceback": [
      "\u001b[0;31m---------------------------------------------------------------------------\u001b[0m",
      "\u001b[0;31mKeyboardInterrupt\u001b[0m                         Traceback (most recent call last)",
      "\u001b[0;32m<ipython-input-98-5148cd75312b>\u001b[0m in \u001b[0;36m<module>\u001b[0;34m()\u001b[0m\n\u001b[1;32m      6\u001b[0m     \u001b[0mcluster_labels\u001b[0m \u001b[0;34m=\u001b[0m \u001b[0mkm\u001b[0m\u001b[0;34m.\u001b[0m\u001b[0mfit_predict\u001b[0m\u001b[0;34m(\u001b[0m\u001b[0mfinal_data\u001b[0m\u001b[0;34m)\u001b[0m\u001b[0;34m\u001b[0m\u001b[0m\n\u001b[1;32m      7\u001b[0m     \u001b[0;31m#report average Silhouette score\u001b[0m\u001b[0;34m\u001b[0m\u001b[0;34m\u001b[0m\u001b[0m\n\u001b[0;32m----> 8\u001b[0;31m     \u001b[0msilhouette_avg\u001b[0m \u001b[0;34m=\u001b[0m \u001b[0msilhouette_score\u001b[0m\u001b[0;34m(\u001b[0m\u001b[0mfinal_data\u001b[0m\u001b[0;34m,\u001b[0m \u001b[0mcluster_labels\u001b[0m\u001b[0;34m)\u001b[0m\u001b[0;34m\u001b[0m\u001b[0m\n\u001b[0m\u001b[1;32m      9\u001b[0m     \u001b[0msilhouette_list\u001b[0m\u001b[0;34m.\u001b[0m\u001b[0mappend\u001b[0m\u001b[0;34m(\u001b[0m\u001b[0msilhouette_avg\u001b[0m\u001b[0;34m)\u001b[0m\u001b[0;34m\u001b[0m\u001b[0m\n\u001b[1;32m     10\u001b[0m \u001b[0;34m\u001b[0m\u001b[0m\n",
      "\u001b[0;32m/anaconda/lib/python2.7/site-packages/sklearn/metrics/cluster/unsupervised.pyc\u001b[0m in \u001b[0;36msilhouette_score\u001b[0;34m(X, labels, metric, sample_size, random_state, **kwds)\u001b[0m\n\u001b[1;32m     98\u001b[0m         \u001b[0;32melse\u001b[0m\u001b[0;34m:\u001b[0m\u001b[0;34m\u001b[0m\u001b[0m\n\u001b[1;32m     99\u001b[0m             \u001b[0mX\u001b[0m\u001b[0;34m,\u001b[0m \u001b[0mlabels\u001b[0m \u001b[0;34m=\u001b[0m \u001b[0mX\u001b[0m\u001b[0;34m[\u001b[0m\u001b[0mindices\u001b[0m\u001b[0;34m]\u001b[0m\u001b[0;34m,\u001b[0m \u001b[0mlabels\u001b[0m\u001b[0;34m[\u001b[0m\u001b[0mindices\u001b[0m\u001b[0;34m]\u001b[0m\u001b[0;34m\u001b[0m\u001b[0m\n\u001b[0;32m--> 100\u001b[0;31m     \u001b[0;32mreturn\u001b[0m \u001b[0mnp\u001b[0m\u001b[0;34m.\u001b[0m\u001b[0mmean\u001b[0m\u001b[0;34m(\u001b[0m\u001b[0msilhouette_samples\u001b[0m\u001b[0;34m(\u001b[0m\u001b[0mX\u001b[0m\u001b[0;34m,\u001b[0m \u001b[0mlabels\u001b[0m\u001b[0;34m,\u001b[0m \u001b[0mmetric\u001b[0m\u001b[0;34m=\u001b[0m\u001b[0mmetric\u001b[0m\u001b[0;34m,\u001b[0m \u001b[0;34m**\u001b[0m\u001b[0mkwds\u001b[0m\u001b[0;34m)\u001b[0m\u001b[0;34m)\u001b[0m\u001b[0;34m\u001b[0m\u001b[0m\n\u001b[0m\u001b[1;32m    101\u001b[0m \u001b[0;34m\u001b[0m\u001b[0m\n\u001b[1;32m    102\u001b[0m \u001b[0;34m\u001b[0m\u001b[0m\n",
      "\u001b[0;32m/anaconda/lib/python2.7/site-packages/sklearn/metrics/cluster/unsupervised.pyc\u001b[0m in \u001b[0;36msilhouette_samples\u001b[0;34m(X, labels, metric, **kwds)\u001b[0m\n\u001b[1;32m    197\u001b[0m                 \u001b[0mother_mask\u001b[0m \u001b[0;34m=\u001b[0m \u001b[0mlabels\u001b[0m \u001b[0;34m==\u001b[0m \u001b[0mother_label\u001b[0m\u001b[0;34m\u001b[0m\u001b[0m\n\u001b[1;32m    198\u001b[0m                 other_distances = np.mean(\n\u001b[0;32m--> 199\u001b[0;31m                     current_distances[:, other_mask], axis=1)\n\u001b[0m\u001b[1;32m    200\u001b[0m                 inter_clust_dists[mask] = np.minimum(\n\u001b[1;32m    201\u001b[0m                     inter_clust_dists[mask], other_distances)\n",
      "\u001b[0;32m/anaconda/lib/python2.7/site-packages/numpy/core/fromnumeric.pyc\u001b[0m in \u001b[0;36mmean\u001b[0;34m(a, axis, dtype, out, keepdims)\u001b[0m\n\u001b[1;32m   2940\u001b[0m \u001b[0;34m\u001b[0m\u001b[0m\n\u001b[1;32m   2941\u001b[0m     return _methods._mean(a, axis=axis, dtype=dtype,\n\u001b[0;32m-> 2942\u001b[0;31m                             out=out, **kwargs)\n\u001b[0m\u001b[1;32m   2943\u001b[0m \u001b[0;34m\u001b[0m\u001b[0m\n\u001b[1;32m   2944\u001b[0m \u001b[0;34m\u001b[0m\u001b[0m\n",
      "\u001b[0;32m/anaconda/lib/python2.7/site-packages/numpy/core/_methods.pyc\u001b[0m in \u001b[0;36m_mean\u001b[0;34m(a, axis, dtype, out, keepdims)\u001b[0m\n\u001b[1;32m     63\u001b[0m         \u001b[0mdtype\u001b[0m \u001b[0;34m=\u001b[0m \u001b[0mmu\u001b[0m\u001b[0;34m.\u001b[0m\u001b[0mdtype\u001b[0m\u001b[0;34m(\u001b[0m\u001b[0;34m'f8'\u001b[0m\u001b[0;34m)\u001b[0m\u001b[0;34m\u001b[0m\u001b[0m\n\u001b[1;32m     64\u001b[0m \u001b[0;34m\u001b[0m\u001b[0m\n\u001b[0;32m---> 65\u001b[0;31m     \u001b[0mret\u001b[0m \u001b[0;34m=\u001b[0m \u001b[0mumr_sum\u001b[0m\u001b[0;34m(\u001b[0m\u001b[0marr\u001b[0m\u001b[0;34m,\u001b[0m \u001b[0maxis\u001b[0m\u001b[0;34m,\u001b[0m \u001b[0mdtype\u001b[0m\u001b[0;34m,\u001b[0m \u001b[0mout\u001b[0m\u001b[0;34m,\u001b[0m \u001b[0mkeepdims\u001b[0m\u001b[0;34m)\u001b[0m\u001b[0;34m\u001b[0m\u001b[0m\n\u001b[0m\u001b[1;32m     66\u001b[0m     \u001b[0;32mif\u001b[0m \u001b[0misinstance\u001b[0m\u001b[0;34m(\u001b[0m\u001b[0mret\u001b[0m\u001b[0;34m,\u001b[0m \u001b[0mmu\u001b[0m\u001b[0;34m.\u001b[0m\u001b[0mndarray\u001b[0m\u001b[0;34m)\u001b[0m\u001b[0;34m:\u001b[0m\u001b[0;34m\u001b[0m\u001b[0m\n\u001b[1;32m     67\u001b[0m         ret = um.true_divide(\n",
      "\u001b[0;31mKeyboardInterrupt\u001b[0m: "
     ]
    }
   ],
   "source": [
    "range_n_clusters = range(550, 650)\n",
    "silhouette_list = []\n",
    "\n",
    "for n_clusters in range_n_clusters: #try different numbers of clusters\n",
    "    km = KMeans(n_clusters=n_clusters, random_state=324)\n",
    "    cluster_labels = km.fit_predict(final_data)\n",
    "    #report average Silhouette score\n",
    "    silhouette_avg = silhouette_score(final_data, cluster_labels)\n",
    "    silhouette_list.append(silhouette_avg)\n",
    "\n"
   ]
  },
  {
   "cell_type": "code",
   "execution_count": 97,
   "metadata": {},
   "outputs": [
    {
     "data": {
      "text/plain": [
       "[<matplotlib.lines.Line2D at 0x10fe4e150>]"
      ]
     },
     "execution_count": 97,
     "metadata": {},
     "output_type": "execute_result"
    },
    {
     "data": {
      "image/png": "[encoded data removed]",
      "text/plain": [
       "<matplotlib.figure.Figure at 0x10cb09e90>"
      ]
     },
     "metadata": {},
     "output_type": "display_data"
    }
   ],
   "source": [
    "plt.plot(range_n_clusters, silhouette_list)"
   ]
  },
  {
   "cell_type": "markdown",
   "metadata": {},
   "source": [
    "#### b) Confirm the number of unique records by using a more straightforward technique to identify duplicate rows. Pandas has a convenient function to drop duplicates for this purpose.  How well did your clustering technique perform? "
   ]
  },
  {
   "cell_type": "code",
   "execution_count": 99,
   "metadata": {},
   "outputs": [
    {
     "data": {
      "text/plain": [
       "(617, 29)"
      ]
     },
     "execution_count": 99,
     "metadata": {},
     "output_type": "execute_result"
    }
   ],
   "source": [
    "data2.drop_duplicates(inplace=True)\n",
    "data2.shape"
   ]
  },
  {
   "cell_type": "markdown",
   "metadata": {},
   "source": [
    "## Question 3."
   ]
  },
  {
   "cell_type": "markdown",
   "metadata": {},
   "source": [
    "### Real world exercise. 2012 \"stop and frisk\" data\n",
    "\n",
    "https://en.wikipedia.org/wiki/Stop-and-frisk_in_New_York_City\n",
    "\n",
    "The stop-question-and-frisk program, or stop-and-frisk, in New York City, is a practice of the New York City Police Department in which police officers stop and question a pedestrian, then frisk them for weapons and other contraband; this is what is known in other places in the United States as the Terry stop. The rules for stop, question, and frisk are found in the state's criminal procedure law section 140.50, and are based on the decision of the United States Supreme Court in the case of Terry v. Ohio. About 685,724 people were stopped in 2011. However, the number of stops has been reduced dramatically since then, to 22,939 in 2015.\n",
    "Stop-and-frisk got increased attention in the 2016 presidential debate."
   ]
  },
  {
   "cell_type": "code",
   "execution_count": 100,
   "metadata": {},
   "outputs": [
    {
     "data": {
      "text/html": [
       "<div>\n",
       "<table border=\"1\" class=\"dataframe\">\n",
       "  <thead>\n",
       "    <tr style=\"text-align: right;\">\n",
       "      <th></th>\n",
       "      <th>day_Friday</th>\n",
       "      <th>day_Monday</th>\n",
       "      <th>day_Saturday</th>\n",
       "      <th>day_Sunday</th>\n",
       "      <th>day_Thursday</th>\n",
       "      <th>day_Tuesday</th>\n",
       "      <th>day_Wednesday</th>\n",
       "      <th>month_April</th>\n",
       "      <th>month_August</th>\n",
       "      <th>month_December</th>\n",
       "      <th>...</th>\n",
       "      <th>month_May</th>\n",
       "      <th>month_November</th>\n",
       "      <th>month_October</th>\n",
       "      <th>month_September</th>\n",
       "      <th>time_1</th>\n",
       "      <th>time_2</th>\n",
       "      <th>time_3</th>\n",
       "      <th>time_4</th>\n",
       "      <th>time_5</th>\n",
       "      <th>time_6</th>\n",
       "    </tr>\n",
       "    <tr>\n",
       "      <th>zipcode</th>\n",
       "      <th></th>\n",
       "      <th></th>\n",
       "      <th></th>\n",
       "      <th></th>\n",
       "      <th></th>\n",
       "      <th></th>\n",
       "      <th></th>\n",
       "      <th></th>\n",
       "      <th></th>\n",
       "      <th></th>\n",
       "      <th></th>\n",
       "      <th></th>\n",
       "      <th></th>\n",
       "      <th></th>\n",
       "      <th></th>\n",
       "      <th></th>\n",
       "      <th></th>\n",
       "      <th></th>\n",
       "      <th></th>\n",
       "      <th></th>\n",
       "      <th></th>\n",
       "    </tr>\n",
       "  </thead>\n",
       "  <tbody>\n",
       "    <tr>\n",
       "      <th>10472</th>\n",
       "      <td>278.0</td>\n",
       "      <td>212.0</td>\n",
       "      <td>315.0</td>\n",
       "      <td>213.0</td>\n",
       "      <td>254.0</td>\n",
       "      <td>234.0</td>\n",
       "      <td>241.0</td>\n",
       "      <td>158.0</td>\n",
       "      <td>95.0</td>\n",
       "      <td>142.0</td>\n",
       "      <td>...</td>\n",
       "      <td>104.0</td>\n",
       "      <td>96.0</td>\n",
       "      <td>110.0</td>\n",
       "      <td>123.0</td>\n",
       "      <td>349.0</td>\n",
       "      <td>35.0</td>\n",
       "      <td>57.0</td>\n",
       "      <td>206.0</td>\n",
       "      <td>437.0</td>\n",
       "      <td>663.0</td>\n",
       "    </tr>\n",
       "    <tr>\n",
       "      <th>10037</th>\n",
       "      <td>199.0</td>\n",
       "      <td>79.0</td>\n",
       "      <td>301.0</td>\n",
       "      <td>154.0</td>\n",
       "      <td>163.0</td>\n",
       "      <td>137.0</td>\n",
       "      <td>147.0</td>\n",
       "      <td>114.0</td>\n",
       "      <td>114.0</td>\n",
       "      <td>34.0</td>\n",
       "      <td>...</td>\n",
       "      <td>67.0</td>\n",
       "      <td>53.0</td>\n",
       "      <td>65.0</td>\n",
       "      <td>96.0</td>\n",
       "      <td>271.0</td>\n",
       "      <td>38.0</td>\n",
       "      <td>32.0</td>\n",
       "      <td>143.0</td>\n",
       "      <td>248.0</td>\n",
       "      <td>448.0</td>\n",
       "    </tr>\n",
       "    <tr>\n",
       "      <th>10460</th>\n",
       "      <td>278.0</td>\n",
       "      <td>169.0</td>\n",
       "      <td>283.0</td>\n",
       "      <td>203.0</td>\n",
       "      <td>234.0</td>\n",
       "      <td>197.0</td>\n",
       "      <td>289.0</td>\n",
       "      <td>117.0</td>\n",
       "      <td>133.0</td>\n",
       "      <td>91.0</td>\n",
       "      <td>...</td>\n",
       "      <td>95.0</td>\n",
       "      <td>86.0</td>\n",
       "      <td>148.0</td>\n",
       "      <td>175.0</td>\n",
       "      <td>462.0</td>\n",
       "      <td>51.0</td>\n",
       "      <td>56.0</td>\n",
       "      <td>190.0</td>\n",
       "      <td>411.0</td>\n",
       "      <td>483.0</td>\n",
       "    </tr>\n",
       "    <tr>\n",
       "      <th>11224</th>\n",
       "      <td>175.0</td>\n",
       "      <td>82.0</td>\n",
       "      <td>177.0</td>\n",
       "      <td>176.0</td>\n",
       "      <td>180.0</td>\n",
       "      <td>179.0</td>\n",
       "      <td>206.0</td>\n",
       "      <td>112.0</td>\n",
       "      <td>67.0</td>\n",
       "      <td>134.0</td>\n",
       "      <td>...</td>\n",
       "      <td>112.0</td>\n",
       "      <td>23.0</td>\n",
       "      <td>68.0</td>\n",
       "      <td>68.0</td>\n",
       "      <td>157.0</td>\n",
       "      <td>27.0</td>\n",
       "      <td>37.0</td>\n",
       "      <td>97.0</td>\n",
       "      <td>282.0</td>\n",
       "      <td>575.0</td>\n",
       "    </tr>\n",
       "    <tr>\n",
       "      <th>10456</th>\n",
       "      <td>979.0</td>\n",
       "      <td>647.0</td>\n",
       "      <td>1086.0</td>\n",
       "      <td>773.0</td>\n",
       "      <td>913.0</td>\n",
       "      <td>814.0</td>\n",
       "      <td>885.0</td>\n",
       "      <td>709.0</td>\n",
       "      <td>465.0</td>\n",
       "      <td>290.0</td>\n",
       "      <td>...</td>\n",
       "      <td>518.0</td>\n",
       "      <td>395.0</td>\n",
       "      <td>521.0</td>\n",
       "      <td>511.0</td>\n",
       "      <td>1295.0</td>\n",
       "      <td>137.0</td>\n",
       "      <td>110.0</td>\n",
       "      <td>662.0</td>\n",
       "      <td>1553.0</td>\n",
       "      <td>2340.0</td>\n",
       "    </tr>\n",
       "  </tbody>\n",
       "</table>\n",
       "<p>5 rows × 25 columns</p>\n",
       "</div>"
      ],
      "text/plain": [
       "         day_Friday  day_Monday  day_Saturday  day_Sunday  day_Thursday  \\\n",
       "zipcode                                                                   \n",
       "10472         278.0       212.0         315.0       213.0         254.0   \n",
       "10037         199.0        79.0         301.0       154.0         163.0   \n",
       "10460         278.0       169.0         283.0       203.0         234.0   \n",
       "11224         175.0        82.0         177.0       176.0         180.0   \n",
       "10456         979.0       647.0        1086.0       773.0         913.0   \n",
       "\n",
       "         day_Tuesday  day_Wednesday  month_April  month_August  \\\n",
       "zipcode                                                          \n",
       "10472          234.0          241.0        158.0          95.0   \n",
       "10037          137.0          147.0        114.0         114.0   \n",
       "10460          197.0          289.0        117.0         133.0   \n",
       "11224          179.0          206.0        112.0          67.0   \n",
       "10456          814.0          885.0        709.0         465.0   \n",
       "\n",
       "         month_December   ...    month_May  month_November  month_October  \\\n",
       "zipcode                   ...                                               \n",
       "10472             142.0   ...        104.0            96.0          110.0   \n",
       "10037              34.0   ...         67.0            53.0           65.0   \n",
       "10460              91.0   ...         95.0            86.0          148.0   \n",
       "11224             134.0   ...        112.0            23.0           68.0   \n",
       "10456             290.0   ...        518.0           395.0          521.0   \n",
       "\n",
       "         month_September  time_1  time_2  time_3  time_4  time_5  time_6  \n",
       "zipcode                                                                   \n",
       "10472              123.0   349.0    35.0    57.0   206.0   437.0   663.0  \n",
       "10037               96.0   271.0    38.0    32.0   143.0   248.0   448.0  \n",
       "10460              175.0   462.0    51.0    56.0   190.0   411.0   483.0  \n",
       "11224               68.0   157.0    27.0    37.0    97.0   282.0   575.0  \n",
       "10456              511.0  1295.0   137.0   110.0   662.0  1553.0  2340.0  \n",
       "\n",
       "[5 rows x 25 columns]"
      ]
     },
     "execution_count": 100,
     "metadata": {},
     "output_type": "execute_result"
    }
   ],
   "source": [
    "#load the data\n",
    "data1=pd.read_csv(\"data/stop_2012.csv\", index_col='zipcode')\n",
    "data1.head()"
   ]
  },
  {
   "cell_type": "code",
   "execution_count": 101,
   "metadata": {},
   "outputs": [
    {
     "data": {
      "text/html": [
       "<div>\n",
       "<table border=\"1\" class=\"dataframe\">\n",
       "  <thead>\n",
       "    <tr style=\"text-align: right;\">\n",
       "      <th></th>\n",
       "      <th>time_1</th>\n",
       "      <th>time_2</th>\n",
       "      <th>time_3</th>\n",
       "      <th>time_4</th>\n",
       "      <th>time_5</th>\n",
       "      <th>time_6</th>\n",
       "    </tr>\n",
       "    <tr>\n",
       "      <th>zipcode</th>\n",
       "      <th></th>\n",
       "      <th></th>\n",
       "      <th></th>\n",
       "      <th></th>\n",
       "      <th></th>\n",
       "      <th></th>\n",
       "    </tr>\n",
       "  </thead>\n",
       "  <tbody>\n",
       "    <tr>\n",
       "      <th>10472</th>\n",
       "      <td>349.0</td>\n",
       "      <td>35.0</td>\n",
       "      <td>57.0</td>\n",
       "      <td>206.0</td>\n",
       "      <td>437.0</td>\n",
       "      <td>663.0</td>\n",
       "    </tr>\n",
       "    <tr>\n",
       "      <th>10037</th>\n",
       "      <td>271.0</td>\n",
       "      <td>38.0</td>\n",
       "      <td>32.0</td>\n",
       "      <td>143.0</td>\n",
       "      <td>248.0</td>\n",
       "      <td>448.0</td>\n",
       "    </tr>\n",
       "    <tr>\n",
       "      <th>10460</th>\n",
       "      <td>462.0</td>\n",
       "      <td>51.0</td>\n",
       "      <td>56.0</td>\n",
       "      <td>190.0</td>\n",
       "      <td>411.0</td>\n",
       "      <td>483.0</td>\n",
       "    </tr>\n",
       "    <tr>\n",
       "      <th>11224</th>\n",
       "      <td>157.0</td>\n",
       "      <td>27.0</td>\n",
       "      <td>37.0</td>\n",
       "      <td>97.0</td>\n",
       "      <td>282.0</td>\n",
       "      <td>575.0</td>\n",
       "    </tr>\n",
       "    <tr>\n",
       "      <th>10456</th>\n",
       "      <td>1295.0</td>\n",
       "      <td>137.0</td>\n",
       "      <td>110.0</td>\n",
       "      <td>662.0</td>\n",
       "      <td>1553.0</td>\n",
       "      <td>2340.0</td>\n",
       "    </tr>\n",
       "  </tbody>\n",
       "</table>\n",
       "</div>"
      ],
      "text/plain": [
       "         time_1  time_2  time_3  time_4  time_5  time_6\n",
       "zipcode                                                \n",
       "10472     349.0    35.0    57.0   206.0   437.0   663.0\n",
       "10037     271.0    38.0    32.0   143.0   248.0   448.0\n",
       "10460     462.0    51.0    56.0   190.0   411.0   483.0\n",
       "11224     157.0    27.0    37.0    97.0   282.0   575.0\n",
       "10456    1295.0   137.0   110.0   662.0  1553.0  2340.0"
      ]
     },
     "execution_count": 101,
     "metadata": {},
     "output_type": "execute_result"
    }
   ],
   "source": [
    "#considering only the in-day timeline \n",
    "data1=data1.iloc[:,-6:]\n",
    "data1.head()"
   ]
  },
  {
   "cell_type": "markdown",
   "metadata": {},
   "source": [
    "#### a) Find and visualize 5 zip codes with most stops"
   ]
  },
  {
   "cell_type": "code",
   "execution_count": 105,
   "metadata": {},
   "outputs": [
    {
     "data": {
      "text/html": [
       "<div>\n",
       "<table border=\"1\" class=\"dataframe\">\n",
       "  <thead>\n",
       "    <tr style=\"text-align: right;\">\n",
       "      <th></th>\n",
       "      <th>time_1</th>\n",
       "      <th>time_2</th>\n",
       "      <th>time_3</th>\n",
       "      <th>time_4</th>\n",
       "      <th>time_5</th>\n",
       "      <th>time_6</th>\n",
       "      <th>total_stops</th>\n",
       "    </tr>\n",
       "    <tr>\n",
       "      <th>zipcode</th>\n",
       "      <th></th>\n",
       "      <th></th>\n",
       "      <th></th>\n",
       "      <th></th>\n",
       "      <th></th>\n",
       "      <th></th>\n",
       "      <th></th>\n",
       "    </tr>\n",
       "  </thead>\n",
       "  <tbody>\n",
       "    <tr>\n",
       "      <th>10472</th>\n",
       "      <td>349.0</td>\n",
       "      <td>35.0</td>\n",
       "      <td>57.0</td>\n",
       "      <td>206.0</td>\n",
       "      <td>437.0</td>\n",
       "      <td>663.0</td>\n",
       "      <td>NaN</td>\n",
       "    </tr>\n",
       "    <tr>\n",
       "      <th>10037</th>\n",
       "      <td>271.0</td>\n",
       "      <td>38.0</td>\n",
       "      <td>32.0</td>\n",
       "      <td>143.0</td>\n",
       "      <td>248.0</td>\n",
       "      <td>448.0</td>\n",
       "      <td>NaN</td>\n",
       "    </tr>\n",
       "    <tr>\n",
       "      <th>10460</th>\n",
       "      <td>462.0</td>\n",
       "      <td>51.0</td>\n",
       "      <td>56.0</td>\n",
       "      <td>190.0</td>\n",
       "      <td>411.0</td>\n",
       "      <td>483.0</td>\n",
       "      <td>NaN</td>\n",
       "    </tr>\n",
       "    <tr>\n",
       "      <th>11224</th>\n",
       "      <td>157.0</td>\n",
       "      <td>27.0</td>\n",
       "      <td>37.0</td>\n",
       "      <td>97.0</td>\n",
       "      <td>282.0</td>\n",
       "      <td>575.0</td>\n",
       "      <td>NaN</td>\n",
       "    </tr>\n",
       "    <tr>\n",
       "      <th>10456</th>\n",
       "      <td>1295.0</td>\n",
       "      <td>137.0</td>\n",
       "      <td>110.0</td>\n",
       "      <td>662.0</td>\n",
       "      <td>1553.0</td>\n",
       "      <td>2340.0</td>\n",
       "      <td>NaN</td>\n",
       "    </tr>\n",
       "  </tbody>\n",
       "</table>\n",
       "</div>"
      ],
      "text/plain": [
       "         time_1  time_2  time_3  time_4  time_5  time_6  total_stops\n",
       "zipcode                                                             \n",
       "10472     349.0    35.0    57.0   206.0   437.0   663.0          NaN\n",
       "10037     271.0    38.0    32.0   143.0   248.0   448.0          NaN\n",
       "10460     462.0    51.0    56.0   190.0   411.0   483.0          NaN\n",
       "11224     157.0    27.0    37.0    97.0   282.0   575.0          NaN\n",
       "10456    1295.0   137.0   110.0   662.0  1553.0  2340.0          NaN"
      ]
     },
     "execution_count": 105,
     "metadata": {},
     "output_type": "execute_result"
    }
   ],
   "source": [
    "data1['total_stops'] = data1.sum(axis=0)\n",
    "data1.head()\n",
    "#data1.sort_values('total_stops', ascending=False)"
   ]
  },
  {
   "cell_type": "markdown",
   "metadata": {},
   "source": [
    "#### b) Filter the data to have at least 30 stop&frisk observations per zip code"
   ]
  },
  {
   "cell_type": "code",
   "execution_count": null,
   "metadata": {},
   "outputs": [],
   "source": []
  },
  {
   "cell_type": "markdown",
   "metadata": {},
   "source": [
    "#### c) We want to cluster the zip codes by the stops timeline data set. Choose the number of clusters k for Kmeans. Try both - Elbow method and Silhouette score - for that. In case the results are inconsistent provide reasoning for your choice of k. "
   ]
  },
  {
   "cell_type": "code",
   "execution_count": null,
   "metadata": {},
   "outputs": [],
   "source": []
  },
  {
   "cell_type": "markdown",
   "metadata": {},
   "source": [
    "#### d) Visualize the k-means clustering for the k you've chosen"
   ]
  },
  {
   "cell_type": "code",
   "execution_count": null,
   "metadata": {},
   "outputs": [],
   "source": []
  },
  {
   "cell_type": "markdown",
   "metadata": {},
   "source": [
    "#### e) Repeat d) using Guassian Mixture model"
   ]
  },
  {
   "cell_type": "code",
   "execution_count": null,
   "metadata": {},
   "outputs": [],
   "source": []
  }
 ],
 "metadata": {
  "anaconda-cloud": {},
  "kernelspec": {
   "display_name": "Python 2",
   "language": "python",
   "name": "python2"
  },
  "language_info": {
   "codemirror_mode": {
    "name": "ipython",
    "version": 2
   },
   "file_extension": ".py",
   "mimetype": "text/x-python",
   "name": "python",
   "nbconvert_exporter": "python",
   "pygments_lexer": "ipython2",
   "version": "2.7.13"
  }
 },
 "nbformat": 4,
 "nbformat_minor": 2
}
